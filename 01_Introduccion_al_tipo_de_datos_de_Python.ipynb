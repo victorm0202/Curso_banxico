{
  "nbformat": 4,
  "nbformat_minor": 0,
  "metadata": {
    "colab": {
      "name": "01_Introduccion_al_tipo_de_datos_de_Python.ipynb",
      "provenance": [],
      "include_colab_link": true
    },
    "kernelspec": {
      "display_name": "Python 3",
      "language": "python",
      "name": "python3"
    },
    "language_info": {
      "codemirror_mode": {
        "name": "ipython",
        "version": 3
      },
      "file_extension": ".py",
      "mimetype": "text/x-python",
      "name": "python",
      "nbconvert_exporter": "python",
      "pygments_lexer": "ipython3",
      "version": "3.8.5"
    },
    "latex_envs": {
      "LaTeX_envs_menu_present": true,
      "autoclose": false,
      "autocomplete": true,
      "bibliofile": "biblio.bib",
      "cite_by": "apalike",
      "current_citInitial": 1,
      "eqLabelWithNumbers": true,
      "eqNumInitial": 1,
      "hotkeys": {
        "equation": "Ctrl-E",
        "itemize": "Ctrl-I"
      },
      "labels_anchors": false,
      "latex_user_defs": false,
      "report_style_numbering": false,
      "user_envs_cfg": false
    },
    "toc": {
      "base_numbering": 1,
      "nav_menu": {},
      "number_sections": false,
      "sideBar": true,
      "skip_h1_title": false,
      "title_cell": "Table of Contents",
      "title_sidebar": "Contents",
      "toc_cell": false,
      "toc_position": {},
      "toc_section_display": true,
      "toc_window_display": false
    }
  },
  "cells": [
    {
      "cell_type": "markdown",
      "metadata": {
        "id": "view-in-github",
        "colab_type": "text"
      },
      "source": [
        "<a href=\"https://colab.research.google.com/github/victorm0202/Curso_banxico/blob/Python-basics/01_Introduccion_al_tipo_de_datos_de_Python.ipynb\" target=\"_parent\"><img src=\"https://colab.research.google.com/assets/colab-badge.svg\" alt=\"Open In Colab\"/></a>"
      ]
    },
    {
      "cell_type": "markdown",
      "metadata": {
        "id": "DY-WBzoAOadJ"
      },
      "source": [
        "# Tipos de datos en Python\n",
        "\n",
        "Python for data science CheatSheet:\n",
        "\n",
        "\n",
        "http://www.utc.fr/~jlaforet/Suppl/python-cheatsheets.pdf"
      ]
    },
    {
      "cell_type": "markdown",
      "metadata": {
        "id": "t6keXH8cOk_n"
      },
      "source": [
        "## Números\n"
      ]
    },
    {
      "cell_type": "markdown",
      "metadata": {
        "id": "chXpHohFOqQZ"
      },
      "source": [
        "Podemos distinguir 2 tipos de números (siendo muy generales):\n",
        "\n",
        "* **Enteros**: Que no tienen una parte decimal y van desde menos infinito a más infinito.\n",
        "* **Flotantes o decimales**: Números que tienen una parte decimal escrita con un punto."
      ]
    },
    {
      "cell_type": "code",
      "metadata": {
        "colab": {
          "base_uri": "https://localhost:8080/",
          "height": 35
        },
        "id": "8mLtCRMOddoH",
        "outputId": "56910321-dfc1-41de-f3d2-ecc2aeff3f33"
      },
      "source": [
        "type(5.1234)"
      ],
      "execution_count": null,
      "outputs": [
        {
          "output_type": "execute_result",
          "data": {
            "text/plain": [
              "float"
            ]
          },
          "metadata": {
            "tags": []
          },
          "execution_count": 1
        }
      ]
    },
    {
      "cell_type": "code",
      "metadata": {
        "colab": {
          "base_uri": "https://localhost:8080/",
          "height": 35
        },
        "id": "iQaGz9xcOT_R",
        "outputId": "a76b86e7-ac39-4111-d3f3-6e4920954527"
      },
      "source": [
        "a=12\n",
        "b=2.455 #python distingue el punto decimal no la coma decimal\n",
        "\n",
        "print('el número a es ',type(a), 'y  el b es',type(b))"
      ],
      "execution_count": null,
      "outputs": [
        {
          "output_type": "stream",
          "text": [
            "el número a es  <class 'int'> y  el b es <class 'float'>\n"
          ],
          "name": "stdout"
        }
      ]
    },
    {
      "cell_type": "markdown",
      "metadata": {
        "id": "hiIlZzMkP5kj"
      },
      "source": [
        "### Python como calculadora"
      ]
    },
    {
      "cell_type": "code",
      "metadata": {
        "colab": {
          "base_uri": "https://localhost:8080/",
          "height": 139
        },
        "id": "WmaKMCanP9OI",
        "outputId": "09b465ff-dc2a-452e-c9dd-524fb09cda02"
      },
      "source": [
        "print(2+7) #suma\n",
        "print(12-237) #resta\n",
        "print(55*18) #producto\n",
        "print(7/2) #division\n",
        "print(7**2) #potencia, se puede usar tambien la funcion pow()\n",
        "print(7//2) #division entera\n",
        "print(7%2) #residuo o módulo\n",
        "\n",
        "# Agrego la función print para que se muestren todos los resultados, por defecto solo se muestra la última salida"
      ],
      "execution_count": null,
      "outputs": [
        {
          "output_type": "stream",
          "text": [
            "9\n",
            "-225\n",
            "990\n",
            "3.5\n",
            "49\n",
            "3\n",
            "1\n"
          ],
          "name": "stdout"
        }
      ]
    },
    {
      "cell_type": "code",
      "metadata": {
        "colab": {
          "base_uri": "https://localhost:8080/",
          "height": 35
        },
        "id": "S_tlF2H1eGkB",
        "outputId": "7ed741a6-f684-4607-ec54-d483a2ba9181"
      },
      "source": [
        "pow(2,5)\n",
        "15%4"
      ],
      "execution_count": null,
      "outputs": [
        {
          "output_type": "execute_result",
          "data": {
            "text/plain": [
              "3"
            ]
          },
          "metadata": {
            "tags": []
          },
          "execution_count": 4
        }
      ]
    },
    {
      "cell_type": "markdown",
      "metadata": {
        "id": "jXUYGiAhSdzq"
      },
      "source": [
        "Al realizar operaciones aritméticas secuenciales, Python se rige por la jerarquía de operaciones:\n",
        "\n",
        "1. Potencias y Raíces\n",
        "1. Multiplicaciones y divisiones de izquierda a derecha\n",
        "1. Sumas y restas.\n",
        "\n",
        "**Considera la operación**:\n",
        "\n",
        "$(7^2-5^2)\\div(2^3-2)(\\sqrt{5^2-3^2})$"
      ]
    },
    {
      "cell_type": "code",
      "metadata": {
        "colab": {
          "base_uri": "https://localhost:8080/",
          "height": 35
        },
        "id": "1u6BUJkJTgrm",
        "outputId": "f5f81de4-aa52-40be-8d8d-6bec1be6dc0f"
      },
      "source": [
        "from math import sqrt\n",
        "(7**2-5**2)/(2**3-2)*(sqrt(5**2-3**2))"
      ],
      "execution_count": null,
      "outputs": [
        {
          "output_type": "execute_result",
          "data": {
            "text/plain": [
              "16.0"
            ]
          },
          "metadata": {
            "tags": []
          },
          "execution_count": 5
        }
      ]
    },
    {
      "cell_type": "code",
      "metadata": {
        "id": "uwrwYaqcWAym",
        "outputId": "4b16ec44-3a53-45fa-8093-835ae192d320"
      },
      "source": [
        "(7**2-5**2)/(2**3-2)*((5**2-3**2)**(0.5))"
      ],
      "execution_count": null,
      "outputs": [
        {
          "output_type": "execute_result",
          "data": {
            "text/plain": [
              "16.0"
            ]
          },
          "metadata": {
            "tags": []
          },
          "execution_count": 6
        }
      ]
    },
    {
      "cell_type": "markdown",
      "metadata": {
        "id": "xU0nKSU0U_p9"
      },
      "source": [
        "**Notas adicionales**"
      ]
    },
    {
      "cell_type": "code",
      "metadata": {
        "colab": {
          "base_uri": "https://localhost:8080/",
          "height": 35
        },
        "id": "JMUa377ZVTS_",
        "outputId": "afa60e6c-1ce5-4184-acfb-0aa4712d71d5"
      },
      "source": [
        "# Reducción de signos\n",
        "\n",
        "3 - + - + 4"
      ],
      "execution_count": null,
      "outputs": [
        {
          "output_type": "execute_result",
          "data": {
            "text/plain": [
              "7"
            ]
          },
          "metadata": {
            "tags": []
          },
          "execution_count": 7
        }
      ]
    },
    {
      "cell_type": "code",
      "metadata": {
        "colab": {
          "base_uri": "https://localhost:8080/",
          "height": 203
        },
        "id": "rhOcCKoGVKIq",
        "outputId": "fc0d5bb6-f830-4c05-a735-8f2b31007f0d"
      },
      "source": [
        "#Division entre cero\n",
        "\n",
        "5/0"
      ],
      "execution_count": null,
      "outputs": [
        {
          "output_type": "error",
          "ename": "ZeroDivisionError",
          "evalue": "division by zero",
          "traceback": [
            "\u001b[1;31m---------------------------------------------------------------------------\u001b[0m",
            "\u001b[1;31mZeroDivisionError\u001b[0m                         Traceback (most recent call last)",
            "\u001b[1;32m<ipython-input-9-50c1bcd89acd>\u001b[0m in \u001b[0;36m<module>\u001b[1;34m\u001b[0m\n\u001b[0;32m      1\u001b[0m \u001b[1;31m#Division entre cero\u001b[0m\u001b[1;33m\u001b[0m\u001b[1;33m\u001b[0m\u001b[1;33m\u001b[0m\u001b[0m\n\u001b[0;32m      2\u001b[0m \u001b[1;33m\u001b[0m\u001b[0m\n\u001b[1;32m----> 3\u001b[1;33m \u001b[1;36m5\u001b[0m\u001b[1;33m/\u001b[0m\u001b[1;36m0\u001b[0m\u001b[1;33m\u001b[0m\u001b[1;33m\u001b[0m\u001b[0m\n\u001b[0m",
            "\u001b[1;31mZeroDivisionError\u001b[0m: division by zero"
          ]
        }
      ]
    },
    {
      "cell_type": "code",
      "metadata": {
        "id": "WUupZcrsSBPe"
      },
      "source": [
        "## Errores de python por redondeo\n",
        "print(4 * 3 / 5)\n",
        "print(4 / 5 * 3)"
      ],
      "execution_count": null,
      "outputs": []
    },
    {
      "cell_type": "code",
      "metadata": {
        "id": "Osk4oFS0SOlY"
      },
      "source": [
        "# La función divmod() devuelve el cociente y el residuo\n",
        "\n",
        "divmod(13, 4)"
      ],
      "execution_count": null,
      "outputs": []
    },
    {
      "cell_type": "markdown",
      "metadata": {
        "id": "TAAQsTPlfOC0"
      },
      "source": [
        "**Redondeo**"
      ]
    },
    {
      "cell_type": "code",
      "metadata": {
        "id": "gWfBgLvOgVpi"
      },
      "source": [
        "# Redondeo de decimales\n",
        "print(round(154.656664545))\n",
        "print(round(154.456664545,2))\n",
        "\n"
      ],
      "execution_count": null,
      "outputs": []
    },
    {
      "cell_type": "code",
      "metadata": {
        "id": "QfdxX2a9gpl2"
      },
      "source": [
        "# Redondeo de enteros\n",
        "print(round(15646588,-2)) # Tiene que ingresarse con negativo\n",
        "print(round(15646588,-4))\n",
        "print(round(15646588,-6))"
      ],
      "execution_count": null,
      "outputs": []
    },
    {
      "cell_type": "code",
      "metadata": {
        "colab": {
          "base_uri": "https://localhost:8080/",
          "height": 69
        },
        "id": "2D_lZaoNhL8R",
        "outputId": "1b1b6927-1ff8-47da-83d3-4a4090394216"
      },
      "source": [
        "# Uso de las funciones  floor() y ceil()\n",
        "\n",
        "from math import floor\n",
        "from math import ceil\n",
        "\n",
        "print((156/71))\n",
        "print(floor(156/71))\n",
        "print(ceil(156/71))"
      ],
      "execution_count": null,
      "outputs": [
        {
          "output_type": "stream",
          "text": [
            "2.1971830985915495\n",
            "2\n",
            "3\n"
          ],
          "name": "stdout"
        }
      ]
    },
    {
      "cell_type": "code",
      "metadata": {
        "id": "Eq0EwwyBiHlo"
      },
      "source": [
        ""
      ],
      "execution_count": null,
      "outputs": []
    },
    {
      "cell_type": "markdown",
      "metadata": {
        "id": "gsDPk3uPiUS7"
      },
      "source": [
        "**Math** es  un módulo matemático de Python que permite importar operaciones  tales como:"
      ]
    },
    {
      "cell_type": "code",
      "metadata": {
        "colab": {
          "base_uri": "https://localhost:8080/",
          "height": 231
        },
        "id": "w400IurCirOn",
        "outputId": "bf6da76b-1190-4138-c99a-27463722af89"
      },
      "source": [
        "import math\n",
        "\n",
        "\n",
        "#Funciones aritméticas\n",
        "math.ceil(1.001)    # Truncado hacia arriba\n",
        "math.floor(1.001)   # Truncado hacia abajo\n",
        "math.factorial(10)  # Factorial\n",
        "math.fabs(-56)      # Valor absoluto existe tambien la funcion integrada abs()\n",
        "math.gcd(10,125)    # MCD\n",
        "math.trunc(1.001)   # Truncar\n",
        "\n",
        "#Funciones trigonométricas (radianes)\n",
        " \n",
        "math.sin(math.pi/4)    \n",
        "math.cos(math.pi)      \n",
        "math.tan(math.pi/6)   \n",
        "math.hypot(12,5)       # teorema de Pitágoras (hipotenusa)\n",
        " \n",
        "# Funciones exponenciales y  logaritmicas\n",
        "\n",
        "\n",
        "math.exp(5)                     \n",
        "math.e**5                        \n",
        "math.log(148.41315910257657)     \n",
        "math.log(148.41315910257657, 2)  \n",
        "math.log(148.41315910257657, 10) #  logaritmo natural por defecto\n",
        " \n",
        "\n",
        "\n"
      ],
      "execution_count": null,
      "outputs": [
        {
          "output_type": "execute_result",
          "data": {
            "text/plain": [
              "2.1714724095162588"
            ]
          },
          "metadata": {
            "tags": []
          },
          "execution_count": 11
        }
      ]
    },
    {
      "cell_type": "markdown",
      "metadata": {
        "id": "X0jsWQhalztm"
      },
      "source": [
        "## Strings"
      ]
    },
    {
      "cell_type": "markdown",
      "metadata": {
        "id": "oTCJcPAMl6G_"
      },
      "source": [
        " Las letras o caracteres son en definitiva símbolos de escritura y otro tipo de dato esencial.Siempre se definen entre comillas simples o dobles:"
      ]
    },
    {
      "cell_type": "code",
      "metadata": {
        "id": "oTnsas9Ul5S1",
        "outputId": "dd543c13-50c4-48fa-82f4-78094537bd3b"
      },
      "source": [
        "\"Hola Mundo\""
      ],
      "execution_count": null,
      "outputs": [
        {
          "output_type": "execute_result",
          "data": {
            "text/plain": [
              "'Hola Mundo'"
            ]
          },
          "metadata": {
            "tags": []
          },
          "execution_count": 12
        }
      ]
    },
    {
      "cell_type": "code",
      "metadata": {
        "id": "54GI-Btwl1N7",
        "outputId": "d8135ac5-b989-4d26-97e8-c9880a1b3d91"
      },
      "source": [
        "'Hola Mundo'\n"
      ],
      "execution_count": null,
      "outputs": [
        {
          "output_type": "execute_result",
          "data": {
            "text/plain": [
              "'Hola Mundo'"
            ]
          },
          "metadata": {
            "tags": []
          },
          "execution_count": 13
        }
      ]
    },
    {
      "cell_type": "code",
      "metadata": {
        "colab": {
          "base_uri": "https://localhost:8080/",
          "height": 35
        },
        "id": "XJCS2vVOmFIq",
        "outputId": "5c9ad959-c116-4973-baad-e98fc78b7098"
      },
      "source": [
        "type('Hola Mundo')"
      ],
      "execution_count": null,
      "outputs": [
        {
          "output_type": "execute_result",
          "data": {
            "text/plain": [
              "str"
            ]
          },
          "metadata": {
            "tags": []
          },
          "execution_count": 14
        }
      ]
    },
    {
      "cell_type": "code",
      "metadata": {
        "colab": {
          "base_uri": "https://localhost:8080/",
          "height": 35
        },
        "id": "SzPRcO8h8T-y",
        "outputId": "66e6d493-f653-43d9-a925-3e0b8c804c0c"
      },
      "source": [
        "# Un número puede ser un string (caracter)\n",
        "type('200')"
      ],
      "execution_count": null,
      "outputs": [
        {
          "output_type": "execute_result",
          "data": {
            "text/plain": [
              "str"
            ]
          },
          "metadata": {
            "tags": []
          },
          "execution_count": 15
        }
      ]
    },
    {
      "cell_type": "markdown",
      "metadata": {
        "id": "TWxaoPCSmSgB"
      },
      "source": [
        "**Notas adicionales**\n",
        "\n",
        "\n",
        "Si requerimos un string que contenga cadenas dobles o simples, se pueden realizar las combinaciones con ellas o de lo contrario usar el comando de escape \\"
      ]
    },
    {
      "cell_type": "code",
      "metadata": {
        "colab": {
          "base_uri": "https://localhost:8080/",
          "height": 35
        },
        "id": "RGhfIpp1om74",
        "outputId": "aaa1cfc6-0dbb-49a9-d5eb-e973d2afeb45"
      },
      "source": [
        "#Longitud de una cadena\n",
        "len('Hola Mundo')"
      ],
      "execution_count": null,
      "outputs": [
        {
          "output_type": "execute_result",
          "data": {
            "text/plain": [
              "10"
            ]
          },
          "metadata": {
            "tags": []
          },
          "execution_count": 16
        }
      ]
    },
    {
      "cell_type": "code",
      "metadata": {
        "colab": {
          "base_uri": "https://localhost:8080/",
          "height": 69
        },
        "id": "ndGXIeOgouqi",
        "outputId": "9aa1f0af-73cd-447f-8e7f-da7b514cbc7b"
      },
      "source": [
        "# Indices en las cadenas. Los elementos listados u ordenados en python comienzan numerandose en cero\n",
        "saludo='Hola Mundo'\n",
        "print(saludo[0])\n",
        "print(saludo[8])\n",
        "\n",
        "# Los indices negativos imprimen en forma contraria comienza desde -1\n",
        "print(saludo[-2])\n"
      ],
      "execution_count": null,
      "outputs": [
        {
          "output_type": "stream",
          "text": [
            "H\n",
            "d\n",
            "d\n"
          ],
          "name": "stdout"
        }
      ]
    },
    {
      "cell_type": "markdown",
      "metadata": {
        "id": "3IY0Gma3qOvw"
      },
      "source": [
        "**Slicing en las cadenas**\n",
        "\n",
        "El slicing es una capacidad de las cadenas que devuelve un subconjunto o subcadena utilizando dos índices [inicio:fin]:\n",
        "\n",
        "* El primer índice indica donde empieza la subcadena (se incluye el carácter).\n",
        "* El segundo índice indica donde acaba la subcadena (se excluye el carácter)."
      ]
    },
    {
      "cell_type": "code",
      "metadata": {
        "colab": {
          "base_uri": "https://localhost:8080/",
          "height": 87
        },
        "id": "z8kn7THtptXN",
        "outputId": "bad435b6-3e10-456d-8735-1c63e8d6a845"
      },
      "source": [
        "#Obtener porciones de una cadena  (slicing)\n",
        "\n",
        "esterano='Ciclopentanoperhidrofenantreno'\n",
        "print(len(esterano))\n",
        "\n",
        "# Rebanadas\n",
        "print(esterano[5:20])\n",
        "print(esterano[:8])\n",
        "print(esterano[4:])"
      ],
      "execution_count": null,
      "outputs": [
        {
          "output_type": "stream",
          "text": [
            "30\n",
            "pentanoperhidro\n",
            "Ciclopen\n",
            "opentanoperhidrofenantreno\n"
          ],
          "name": "stdout"
        }
      ]
    },
    {
      "cell_type": "code",
      "metadata": {
        "colab": {
          "base_uri": "https://localhost:8080/",
          "height": 35
        },
        "id": "tK50el1ah7Ey",
        "outputId": "2017b819-5814-4237-c734-ed0f93747262"
      },
      "source": [
        "print(esterano[8])"
      ],
      "execution_count": null,
      "outputs": [
        {
          "output_type": "stream",
          "text": [
            "t\n"
          ],
          "name": "stdout"
        }
      ]
    },
    {
      "cell_type": "markdown",
      "metadata": {
        "id": "A3r8PFUtmrYr"
      },
      "source": [
        "### Función print( )\n",
        "\n",
        "Muestra los valores en pantalla"
      ]
    },
    {
      "cell_type": "code",
      "metadata": {
        "colab": {
          "base_uri": "https://localhost:8080/",
          "height": 69
        },
        "id": "aUe3VsbYmgS2",
        "outputId": "dd5dcf8c-965b-44ae-d076-7b11083cbfcd"
      },
      "source": [
        "print(\"\"\"Una línea\n",
        "otra línea\n",
        "otra línea\\tuna tabulación\"\"\")"
      ],
      "execution_count": null,
      "outputs": [
        {
          "output_type": "stream",
          "text": [
            "Una línea\n",
            "otra línea\n",
            "otra línea\tuna tabulación\n"
          ],
          "name": "stdout"
        }
      ]
    },
    {
      "cell_type": "markdown",
      "metadata": {
        "id": "Vi-jmaAPnPD8"
      },
      "source": [
        "Es posible agregar caractéres de párrafo dentro un string"
      ]
    },
    {
      "cell_type": "code",
      "metadata": {
        "colab": {
          "base_uri": "https://localhost:8080/",
          "height": 35
        },
        "id": "uE3nL_emm7JS",
        "outputId": "b44e8e2e-6251-449f-c0b7-c31becec71a7"
      },
      "source": [
        "c = \"Esto es una cadena\\ncon dos líneas\"\n",
        "c"
      ],
      "execution_count": null,
      "outputs": [
        {
          "output_type": "execute_result",
          "data": {
            "text/plain": [
              "'Esto es una cadena\\ncon dos líneas'"
            ]
          },
          "metadata": {
            "tags": []
          },
          "execution_count": 21
        }
      ]
    },
    {
      "cell_type": "code",
      "metadata": {
        "colab": {
          "base_uri": "https://localhost:8080/",
          "height": 52
        },
        "id": "jYqATIA0nI2n",
        "outputId": "a4f1b775-d420-4124-d183-27cf5ef9d9fc"
      },
      "source": [
        "c = \"Esto es una cadena\\ncon dos líneas\"\n",
        "print(c,)"
      ],
      "execution_count": null,
      "outputs": [
        {
          "output_type": "stream",
          "text": [
            "Esto es una cadena\n",
            "con dos líneas\n"
          ],
          "name": "stdout"
        }
      ]
    },
    {
      "cell_type": "code",
      "metadata": {
        "colab": {
          "base_uri": "https://localhost:8080/",
          "height": 52
        },
        "id": "aJHhKMVmizZA",
        "outputId": "a5fedfb1-722d-4a98-d53d-53b4f2214c20"
      },
      "source": [
        "a='amarillo'\n",
        "b='rojo'\n",
        "\n",
        "print(a,b,sep='$', end='\\n')\n",
        "print(a,b,sep='-')"
      ],
      "execution_count": null,
      "outputs": [
        {
          "output_type": "stream",
          "text": [
            "amarillo$rojo\n",
            "amarillo-rojo\n"
          ],
          "name": "stdout"
        }
      ]
    },
    {
      "cell_type": "markdown",
      "metadata": {
        "id": "SL_UeIVgoBWK"
      },
      "source": [
        "### Operaciones con cadenas"
      ]
    },
    {
      "cell_type": "code",
      "metadata": {
        "colab": {
          "base_uri": "https://localhost:8080/",
          "height": 35
        },
        "id": "ZhnnkzMPnLqT",
        "outputId": "963a5fd5-221b-4cf1-d020-61604906c40f"
      },
      "source": [
        "# Concatenación\n",
        "\n",
        "a='¡Hola!'\n",
        "b='¿Cómo estás?'\n",
        "print(a+' '+b)\n",
        "# La concatenación solo se muestra en pantalla, las cadenas originales siguen inmutables"
      ],
      "execution_count": null,
      "outputs": [
        {
          "output_type": "stream",
          "text": [
            "¡Hola! ¿Cómo estás?\n"
          ],
          "name": "stdout"
        }
      ]
    },
    {
      "cell_type": "code",
      "metadata": {
        "colab": {
          "base_uri": "https://localhost:8080/",
          "height": 35
        },
        "id": "Z6STMGLOoRHb",
        "outputId": "de171b1c-a649-42a6-a38c-3e2c4d568506"
      },
      "source": [
        "# Concatenar en un string\n",
        "c=a+b\n",
        "c"
      ],
      "execution_count": null,
      "outputs": [
        {
          "output_type": "execute_result",
          "data": {
            "text/plain": [
              "'¡Hola!¿Cómo estás?'"
            ]
          },
          "metadata": {
            "tags": []
          },
          "execution_count": 25
        }
      ]
    },
    {
      "cell_type": "markdown",
      "metadata": {
        "id": "8mka4FYr1C6d"
      },
      "source": [
        "## Booleanos"
      ]
    },
    {
      "cell_type": "markdown",
      "metadata": {
        "id": "0-XQpoJL1Kxr"
      },
      "source": [
        "Una variable booleana es una variable que sólo puede tomar dos posibles valores: True (verdadero) o False (falso).\n",
        "\n",
        "En Python cualquier variable (en general, cualquier objeto) puede considerarse como una variable booleana. En general los elementos nulos o vacíos se consideran False y el resto se consideran True.\n",
        "\n",
        "Para comprobar si un elemento se considera True o False, se puede convertir a su valor booleano mediante la función bool()."
      ]
    },
    {
      "cell_type": "code",
      "metadata": {
        "colab": {
          "base_uri": "https://localhost:8080/",
          "height": 69
        },
        "id": "kE_BMQdq1FaX",
        "outputId": "480b3b11-5b5d-46ff-8129-c69a9886818f"
      },
      "source": [
        "a=bool(0)\n",
        "b=bool(0.0)\n",
        "c=bool('')\n",
        "\n",
        "print(a)\n",
        "print(b)\n",
        "print(c)"
      ],
      "execution_count": null,
      "outputs": [
        {
          "output_type": "stream",
          "text": [
            "False\n",
            "False\n",
            "False\n"
          ],
          "name": "stdout"
        }
      ]
    },
    {
      "cell_type": "code",
      "metadata": {
        "colab": {
          "base_uri": "https://localhost:8080/",
          "height": 69
        },
        "id": "YqzxRH881d9b",
        "outputId": "a4d1a5ab-871e-456d-b4e1-5dd0a612cdad"
      },
      "source": [
        "a=bool(5)\n",
        "b=bool(6.39)\n",
        "c=bool('a')\n",
        "\n",
        "print(a)\n",
        "print(b)\n",
        "print(c)"
      ],
      "execution_count": null,
      "outputs": [
        {
          "output_type": "stream",
          "text": [
            "True\n",
            "True\n",
            "True\n"
          ],
          "name": "stdout"
        }
      ]
    },
    {
      "cell_type": "markdown",
      "metadata": {
        "id": "6h1Jpa0L1p8h"
      },
      "source": [
        "### Operadores lógicos"
      ]
    },
    {
      "cell_type": "markdown",
      "metadata": {
        "id": "YBJsnTl02BQG"
      },
      "source": [
        "![Operador AND](https://www.fing.edu.uy/inco/cursos/fpr/wiki/images/7/7a/Tablaand.png)"
      ]
    },
    {
      "cell_type": "code",
      "metadata": {
        "colab": {
          "base_uri": "https://localhost:8080/",
          "height": 87
        },
        "id": "d-egJjP21tMv",
        "outputId": "018ca511-f6f9-4a5f-a602-83aa22571030"
      },
      "source": [
        "#Operador AND\n",
        "\n",
        "a=True\n",
        "b=False\n",
        "\n",
        "print(a and a)\n",
        "print(a and b)\n",
        "print(b and a)\n",
        "print(b and b) # &"
      ],
      "execution_count": null,
      "outputs": [
        {
          "output_type": "stream",
          "text": [
            "True\n",
            "False\n",
            "False\n",
            "False\n"
          ],
          "name": "stdout"
        }
      ]
    },
    {
      "cell_type": "markdown",
      "metadata": {
        "id": "DMj3vlCJ3BnE"
      },
      "source": [
        "![Operador OR](https://www.fing.edu.uy/inco/cursos/fpr/wiki/images/b/b8/Tablaor.png)"
      ]
    },
    {
      "cell_type": "code",
      "metadata": {
        "colab": {
          "base_uri": "https://localhost:8080/",
          "height": 35
        },
        "id": "84dZDckTk8nK",
        "outputId": "10cbc0f6-e0e3-4ec8-aaa1-4d16eb8a8b17"
      },
      "source": [
        "b\n"
      ],
      "execution_count": null,
      "outputs": [
        {
          "output_type": "execute_result",
          "data": {
            "text/plain": [
              "False"
            ]
          },
          "metadata": {
            "tags": []
          },
          "execution_count": 29
        }
      ]
    },
    {
      "cell_type": "code",
      "metadata": {
        "colab": {
          "base_uri": "https://localhost:8080/",
          "height": 87
        },
        "id": "NO2E60pE235N",
        "outputId": "b2e8f01b-90a7-466e-dafd-b5806b0bf590"
      },
      "source": [
        "#Operador OR\n",
        "print(a or a)\n",
        "print(a or b)\n",
        "print(b or a)\n",
        "print(b or b)"
      ],
      "execution_count": null,
      "outputs": [
        {
          "output_type": "stream",
          "text": [
            "True\n",
            "True\n",
            "True\n",
            "False\n"
          ],
          "name": "stdout"
        }
      ]
    },
    {
      "cell_type": "markdown",
      "metadata": {
        "id": "xx7iACAS5ENi"
      },
      "source": [
        "![Operador AND](https://www.fing.edu.uy/inco/cursos/fpr/wiki/images/4/41/Tablanot.png)"
      ]
    },
    {
      "cell_type": "code",
      "metadata": {
        "colab": {
          "base_uri": "https://localhost:8080/",
          "height": 52
        },
        "id": "c5MWbLqi5P7m",
        "outputId": "2c64c239-31c3-4f9f-cc06-4d97b9918c78"
      },
      "source": [
        "#Operador NOT\n",
        "print( not a)\n",
        "print(not b) #!\n"
      ],
      "execution_count": null,
      "outputs": [
        {
          "output_type": "stream",
          "text": [
            "False\n",
            "True\n"
          ],
          "name": "stdout"
        }
      ]
    },
    {
      "cell_type": "code",
      "metadata": {
        "colab": {
          "base_uri": "https://localhost:8080/",
          "height": 52
        },
        "id": "zs6bJ23Q5Wzt",
        "outputId": "47843e66-59d5-4318-b58a-0538230ae0dd"
      },
      "source": [
        "# Combinaciones de operadores lógicos\n",
        "\n",
        "print(not a or b and a)\n",
        "print( a or b and a or a)\n"
      ],
      "execution_count": null,
      "outputs": [
        {
          "output_type": "stream",
          "text": [
            "False\n",
            "True\n"
          ],
          "name": "stdout"
        }
      ]
    },
    {
      "cell_type": "markdown",
      "metadata": {
        "id": "3UYjRPoT2dPn"
      },
      "source": [
        "### Operadores relacionales"
      ]
    },
    {
      "cell_type": "code",
      "metadata": {
        "colab": {
          "base_uri": "https://localhost:8080/",
          "height": 87
        },
        "id": "F95d3ast2phm",
        "outputId": "abf23861-769d-4498-d9e5-0dba1c8a1a89"
      },
      "source": [
        "# Operador igualdad ==\n",
        "\n",
        "print('hola'=='hola')\n",
        "print(5==2+3)\n",
        "print(2==3)\n",
        "print('20as'=='asus')\n",
        "\n"
      ],
      "execution_count": null,
      "outputs": [
        {
          "output_type": "stream",
          "text": [
            "True\n",
            "True\n",
            "False\n",
            "False\n"
          ],
          "name": "stdout"
        }
      ]
    },
    {
      "cell_type": "code",
      "metadata": {
        "colab": {
          "base_uri": "https://localhost:8080/",
          "height": 85
        },
        "id": "nu2OLgSW3BbO",
        "outputId": "693acb28-95a6-4872-980c-0f768c42ed2a"
      },
      "source": [
        "# Operador distinto\n",
        "\n",
        "print('hola'!='hola')\n",
        "print(5!=2+3)\n",
        "print(2!=3)\n",
        "print('20as'!='asus')"
      ],
      "execution_count": null,
      "outputs": [
        {
          "output_type": "stream",
          "text": [
            "False\n",
            "False\n",
            "True\n",
            "True\n"
          ],
          "name": "stdout"
        }
      ]
    },
    {
      "cell_type": "code",
      "metadata": {
        "colab": {
          "base_uri": "https://localhost:8080/",
          "height": 131
        },
        "id": "_PvBzfPGlhHR",
        "outputId": "33a6a9cf-2749-4a05-88ca-34cd35d595a3"
      },
      "source": [
        "print('hola'not 'hola')"
      ],
      "execution_count": null,
      "outputs": [
        {
          "output_type": "error",
          "ename": "SyntaxError",
          "evalue": "invalid syntax (<ipython-input-36-25f19added8c>, line 1)",
          "traceback": [
            "\u001b[1;36m  File \u001b[1;32m\"<ipython-input-36-25f19added8c>\"\u001b[1;36m, line \u001b[1;32m1\u001b[0m\n\u001b[1;33m    print('hola'not 'hola')\u001b[0m\n\u001b[1;37m                         ^\u001b[0m\n\u001b[1;31mSyntaxError\u001b[0m\u001b[1;31m:\u001b[0m invalid syntax\n"
          ]
        }
      ]
    },
    {
      "cell_type": "code",
      "metadata": {
        "id": "r_YJGIfB5YJH"
      },
      "source": [
        "# menor, menor-igual, mayor, mayor-igual\n",
        "\n",
        "print(7<9)\n",
        "print(9<=7)\n",
        "print(15>0)\n",
        "print(23>=23)"
      ],
      "execution_count": null,
      "outputs": []
    },
    {
      "cell_type": "markdown",
      "metadata": {
        "id": "vC25Q2ce73V9"
      },
      "source": [
        "## Variables"
      ]
    },
    {
      "cell_type": "markdown",
      "metadata": {
        "id": "RIjOvbgf8jZq"
      },
      "source": [
        " Una variable es un nombre que se refiere a un valor. La sentencia de asignación crea nuevas variables y les da valores. Usamos '=' para asignar variables. No confundir con el operador lógico de igualdad\n",
        " \n",
        " "
      ]
    },
    {
      "cell_type": "code",
      "metadata": {
        "id": "RuyseKht71v-"
      },
      "source": [
        "mensaje = \"¿Qué Onda?\"\n",
        "n = 17\n",
        "my_pi = 3.14159"
      ],
      "execution_count": null,
      "outputs": []
    },
    {
      "cell_type": "code",
      "metadata": {
        "colab": {
          "base_uri": "https://localhost:8080/",
          "height": 69
        },
        "id": "f6THGOo486O0",
        "outputId": "fcf1cdc7-2844-45d3-9461-652fecea71fa"
      },
      "source": [
        "print(type(mensaje))\n",
        "print(type(n))\n",
        "print(type(my_pi))\n"
      ],
      "execution_count": null,
      "outputs": [
        {
          "output_type": "stream",
          "text": [
            "<class 'str'>\n",
            "<class 'int'>\n",
            "<class 'float'>\n"
          ],
          "name": "stdout"
        }
      ]
    },
    {
      "cell_type": "code",
      "metadata": {
        "colab": {
          "base_uri": "https://localhost:8080/",
          "height": 51
        },
        "id": "HRklNHLF9L4Y",
        "outputId": "4b40f380-e306-4e07-87a3-483d0476f1d6"
      },
      "source": [
        "# Las variables son mutables\n",
        "a='tomate'\n",
        "print(type(a))\n",
        "\n",
        "a=7.321\n",
        "print(type(a))\n"
      ],
      "execution_count": null,
      "outputs": [
        {
          "output_type": "stream",
          "text": [
            "<class 'str'>\n",
            "<class 'float'>\n"
          ],
          "name": "stdout"
        }
      ]
    },
    {
      "cell_type": "markdown",
      "metadata": {
        "id": "yL4hMtwy-M61"
      },
      "source": [
        "### Operadores de asignaciones"
      ]
    },
    {
      "cell_type": "markdown",
      "metadata": {
        "id": "lZHRzf-f-TA3"
      },
      "source": [
        "Existe en Python todo un grupo de operadores los cuales le permiten básicamente asignar un valor a una variable, usando el operador “=”. Con estos operadores pueden aplicar la técnica denominada asignación aumentada."
      ]
    },
    {
      "cell_type": "code",
      "metadata": {
        "colab": {
          "base_uri": "https://localhost:8080/",
          "height": 35
        },
        "id": "zCBd9gBW9WkY",
        "outputId": "9a794adb-05c3-4033-d72d-6d101cd6e6c5"
      },
      "source": [
        "### Operador +=\n",
        "a=15\n",
        "a+=7\n",
        "print(a)\n",
        "\n",
        "# La idea de estos operadores es evitar escribir a=a+7"
      ],
      "execution_count": null,
      "outputs": [
        {
          "output_type": "stream",
          "text": [
            "22\n"
          ],
          "name": "stdout"
        }
      ]
    },
    {
      "cell_type": "code",
      "metadata": {
        "colab": {
          "base_uri": "https://localhost:8080/",
          "height": 34
        },
        "id": "8H-PVksG-bn4",
        "outputId": "e7db4289-1a34-41b3-dfbc-b4ad7bb33a9d"
      },
      "source": [
        "### Operador -=\n",
        "a=15\n",
        "a-=7\n",
        "print(a)\n"
      ],
      "execution_count": null,
      "outputs": [
        {
          "output_type": "stream",
          "text": [
            "8\n"
          ],
          "name": "stdout"
        }
      ]
    },
    {
      "cell_type": "code",
      "metadata": {
        "colab": {
          "base_uri": "https://localhost:8080/",
          "height": 34
        },
        "id": "aH5v8y_b-kzm",
        "outputId": "28b3569e-6e9d-47fa-b548-8690aa2c4278"
      },
      "source": [
        "### Operador *=\n",
        "a=15\n",
        "a*=7\n",
        "print(a)\n"
      ],
      "execution_count": null,
      "outputs": [
        {
          "output_type": "stream",
          "text": [
            "105\n"
          ],
          "name": "stdout"
        }
      ]
    },
    {
      "cell_type": "code",
      "metadata": {
        "colab": {
          "base_uri": "https://localhost:8080/",
          "height": 34
        },
        "id": "Fwu-SZEH-rQ8",
        "outputId": "f2261da2-ecab-4e09-e9e4-c553367f0c2c"
      },
      "source": [
        "### Operador //=\n",
        "a=15\n",
        "a/=7\n",
        "print(a)\n"
      ],
      "execution_count": null,
      "outputs": [
        {
          "output_type": "stream",
          "text": [
            "2.142857142857143\n"
          ],
          "name": "stdout"
        }
      ]
    },
    {
      "cell_type": "code",
      "metadata": {
        "colab": {
          "base_uri": "https://localhost:8080/",
          "height": 170
        },
        "id": "gHESNF6m-0vh",
        "outputId": "75ca3953-c9dd-4ecf-d75c-e8ac9573a89e"
      },
      "source": [
        "a, b, c = 3, 4, 0\n",
        "\n",
        "print (\"Valor de variable 'a':\", a)\n",
        "print (\"Valor de variable 'b':\", b)\n",
        "\n",
        "c = a + b\n",
        "print (\"Operador = | El valor de variable 'c' es \", c)\n",
        "\n",
        "c += a\n",
        "print (\"Operador += | El valor de variable 'c' es \", c)\n",
        "\n",
        "c *= a\n",
        "print (\"Operador *= | El valor de variable 'c' es \", c)\n",
        "\n",
        "c /= a \n",
        "print (\"Operador /= | El valor de variable 'c' es \", c)\n",
        "\n",
        "c = 2\n",
        "print (\"Nuevo Valor de variable 'c':\", c)\n",
        "c %= a\n",
        "print (\"Operador %= | El valor de variable 'c' es \", c)\n",
        "\n",
        "c **= a\n",
        "print (\"Operador **= | El valor de variable 'c' es \", c)\n",
        "\n",
        "c //= a\n",
        "print (\"Operador //= | El valor de variable 'c' es \", c)"
      ],
      "execution_count": null,
      "outputs": [
        {
          "output_type": "stream",
          "text": [
            "Valor de variable 'a': 3\n",
            "Valor de variable 'b': 4\n",
            "Operador = | El valor de variable 'c' es  7\n",
            "Operador += | El valor de variable 'c' es  10\n",
            "Operador *= | El valor de variable 'c' es  30\n",
            "Operador /= | El valor de variable 'c' es  10.0\n",
            "Nuevo Valor de variable 'c': 2\n",
            "Operador %= | El valor de variable 'c' es  2\n",
            "Operador **= | El valor de variable 'c' es  8\n",
            "Operador //= | El valor de variable 'c' es  2\n"
          ],
          "name": "stdout"
        }
      ]
    },
    {
      "cell_type": "code",
      "metadata": {
        "colab": {
          "base_uri": "https://localhost:8080/",
          "height": 35
        },
        "id": "cYcBvm67m2wt",
        "outputId": "fee7ec7d-d065-4377-d876-08d3a0cab8a0"
      },
      "source": [
        "n,j,k= 1 , 'a', False\n",
        "\n",
        "print(n,j,k)"
      ],
      "execution_count": null,
      "outputs": [
        {
          "output_type": "stream",
          "text": [
            "1 a False\n"
          ],
          "name": "stdout"
        }
      ]
    }
  ]
}