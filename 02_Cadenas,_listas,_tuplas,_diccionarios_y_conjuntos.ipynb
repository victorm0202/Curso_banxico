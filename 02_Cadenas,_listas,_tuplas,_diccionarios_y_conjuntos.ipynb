{
  "nbformat": 4,
  "nbformat_minor": 0,
  "metadata": {
    "colab": {
      "name": "02_Cadenas,_listas,_tuplas,_diccionarios_y_conjuntos.ipynb",
      "provenance": [],
      "include_colab_link": true
    },
    "kernelspec": {
      "display_name": "Python 3",
      "language": "python",
      "name": "python3"
    },
    "language_info": {
      "codemirror_mode": {
        "name": "ipython",
        "version": 3
      },
      "file_extension": ".py",
      "mimetype": "text/x-python",
      "name": "python",
      "nbconvert_exporter": "python",
      "pygments_lexer": "ipython3",
      "version": "3.7.4"
    }
  },
  "cells": [
    {
      "cell_type": "markdown",
      "metadata": {
        "id": "view-in-github",
        "colab_type": "text"
      },
      "source": [
        "<a href=\"https://colab.research.google.com/github/victorm0202/Curso_banxico/blob/Python-basics/02_Cadenas%2C_listas%2C_tuplas%2C_diccionarios_y_conjuntos.ipynb\" target=\"_parent\"><img src=\"https://colab.research.google.com/assets/colab-badge.svg\" alt=\"Open In Colab\"/></a>"
      ]
    },
    {
      "cell_type": "markdown",
      "metadata": {
        "id": "MlAK02lEy71m"
      },
      "source": [
        "# Cadenas, listas, tuplas, diccionarios y conjuntos"
      ]
    },
    {
      "cell_type": "markdown",
      "metadata": {
        "id": "2S2AWIFVw75h"
      },
      "source": [
        "Las ** cadenas ,  listas  y  tuplas**  son distintos tipos de secuencias. Una secuencia es un tipo de objeto que almacena datos y que permite el acceso a una parte determinada de su información utilizando índices. \n",
        "\n",
        "Las **listas, tuplas, diccionarios y conjuntos** (set) son estructuras que permiten trabajar con colecciones de datos. El primer elemento de una lista o de una tupla ocupa la posición 0.\n"
      ]
    },
    {
      "cell_type": "markdown",
      "metadata": {
        "id": "7BGl6bVJBTW6"
      },
      "source": [
        "## Tuplas"
      ]
    },
    {
      "cell_type": "markdown",
      "metadata": {
        "id": "CdSF8YPgBV2x"
      },
      "source": [
        "Una tupla es un objeto inmutable, eso quiere decir que no se pueden cambiar sus elementos\n",
        "\tSe usan parentesis para declararla, sus elementos van separados por comas \n",
        "\ty pueden contener varios tipos de dato\n",
        "\tSon inmutables aunque pueden contener elementos mutables como listas"
      ]
    },
    {
      "cell_type": "code",
      "metadata": {
        "colab": {
          "base_uri": "https://localhost:8080/",
          "height": 69
        },
        "id": "w6k2UyWYBc8_",
        "outputId": "db0d859a-f1c9-4895-93bd-f1156a5091f4"
      },
      "source": [
        "#Declarando tupla\n",
        "my_tuple = () #Tupla vacia\n",
        "my_tuple = tuple()\n",
        "my_tuple = (156) #Tupla con un elemento\n",
        "my_tuple = (788,\"Homero\",9)\n",
        "print(my_tuple)\n",
        "print(type(my_tuple))\n",
        "x,y,z = my_tuple #Desempaquetando secuencias\n",
        "print(x,y,z)"
      ],
      "execution_count": null,
      "outputs": [
        {
          "output_type": "stream",
          "text": [
            "(788, 'Homero', 9)\n",
            "<class 'tuple'>\n",
            "788 Homero 9\n"
          ],
          "name": "stdout"
        }
      ]
    },
    {
      "cell_type": "markdown",
      "metadata": {
        "id": "gJwZ8LefCjaH"
      },
      "source": [
        "### Slicing de un tupla"
      ]
    },
    {
      "cell_type": "code",
      "metadata": {
        "colab": {
          "base_uri": "https://localhost:8080/",
          "height": 69
        },
        "id": "vN8XxsTaCqFW",
        "outputId": "24baa7fc-f0a3-40b8-9fcc-c73a53c340eb"
      },
      "source": [
        "arca=('perro', 'vaca', 'raton', 'conejo', 'aguila', 'vaca', 'conejo')\n",
        "print(arca[2])\n",
        "print(arca[:2])\n",
        "print(arca[2:])"
      ],
      "execution_count": null,
      "outputs": [
        {
          "output_type": "stream",
          "text": [
            "raton\n",
            "('perro', 'vaca')\n",
            "('raton', 'conejo', 'aguila', 'vaca', 'conejo')\n"
          ],
          "name": "stdout"
        }
      ]
    },
    {
      "cell_type": "markdown",
      "metadata": {
        "id": "t_El04ssC4CO"
      },
      "source": [
        "### Inmutabilidad de una tupla"
      ]
    },
    {
      "cell_type": "code",
      "metadata": {
        "colab": {
          "base_uri": "https://localhost:8080/",
          "height": 186
        },
        "id": "dvcf9MioC-Bm",
        "outputId": "e75f7eb2-f306-4dab-da64-2a7d6ed0fac3"
      },
      "source": [
        "arca[3]='mandril'"
      ],
      "execution_count": null,
      "outputs": [
        {
          "output_type": "error",
          "ename": "TypeError",
          "evalue": "'tuple' object does not support item assignment",
          "traceback": [
            "\u001b[1;31m---------------------------------------------------------------------------\u001b[0m",
            "\u001b[1;31mTypeError\u001b[0m                                 Traceback (most recent call last)",
            "\u001b[1;32m<ipython-input-3-1f3bc3ae5a8c>\u001b[0m in \u001b[0;36m<module>\u001b[1;34m\u001b[0m\n\u001b[1;32m----> 1\u001b[1;33m \u001b[0marca\u001b[0m\u001b[1;33m[\u001b[0m\u001b[1;36m3\u001b[0m\u001b[1;33m]\u001b[0m\u001b[1;33m=\u001b[0m\u001b[1;34m'mandril'\u001b[0m\u001b[1;33m\u001b[0m\u001b[1;33m\u001b[0m\u001b[0m\n\u001b[0m",
            "\u001b[1;31mTypeError\u001b[0m: 'tuple' object does not support item assignment"
          ]
        }
      ]
    },
    {
      "cell_type": "markdown",
      "metadata": {
        "id": "Ua49Zk33gMZK"
      },
      "source": [
        "### Métodos integrados\n"
      ]
    },
    {
      "cell_type": "code",
      "metadata": {
        "colab": {
          "base_uri": "https://localhost:8080/",
          "height": 34
        },
        "id": "mrTTTuAGgUnx",
        "outputId": "0afdbf9e-5234-45bd-b133-396e2abd827e"
      },
      "source": [
        "#Devuelve posición de un elemento en la tupla\n",
        "arca.index('perro')\n",
        "\n",
        "# Si se consulta un elemento que no pertenece a la tupla devuelve un error\n"
      ],
      "execution_count": null,
      "outputs": [
        {
          "output_type": "execute_result",
          "data": {
            "text/plain": [
              "0"
            ]
          },
          "metadata": {
            "tags": []
          },
          "execution_count": 5
        }
      ]
    },
    {
      "cell_type": "code",
      "metadata": {
        "colab": {
          "base_uri": "https://localhost:8080/",
          "height": 68
        },
        "id": "ReToFBvmhMIH",
        "outputId": "a6ec7561-c315-4890-fffb-9a85e145e153"
      },
      "source": [
        "#.count() Sirve para contar cuantas veces aparece un elemento en una tupla\n",
        "print(arca.count('perro'))\n",
        "print(arca.count('conejo'))\n",
        "print(arca.count('mandril'))"
      ],
      "execution_count": null,
      "outputs": [
        {
          "output_type": "stream",
          "text": [
            "1\n",
            "2\n",
            "0\n"
          ],
          "name": "stdout"
        }
      ]
    },
    {
      "cell_type": "code",
      "metadata": {
        "id": "ECIfcYYmV__n",
        "outputId": "26f75b4b-c850-4446-d68f-a15eea4e50b0"
      },
      "source": [
        "help(arca)"
      ],
      "execution_count": null,
      "outputs": [
        {
          "output_type": "stream",
          "text": [
            "Help on tuple object:\n",
            "\n",
            "class tuple(object)\n",
            " |  tuple(iterable=(), /)\n",
            " |  \n",
            " |  Built-in immutable sequence.\n",
            " |  \n",
            " |  If no argument is given, the constructor returns an empty tuple.\n",
            " |  If iterable is specified the tuple is initialized from iterable's items.\n",
            " |  \n",
            " |  If the argument is a tuple, the return value is the same object.\n",
            " |  \n",
            " |  Methods defined here:\n",
            " |  \n",
            " |  __add__(self, value, /)\n",
            " |      Return self+value.\n",
            " |  \n",
            " |  __contains__(self, key, /)\n",
            " |      Return key in self.\n",
            " |  \n",
            " |  __eq__(self, value, /)\n",
            " |      Return self==value.\n",
            " |  \n",
            " |  __ge__(self, value, /)\n",
            " |      Return self>=value.\n",
            " |  \n",
            " |  __getattribute__(self, name, /)\n",
            " |      Return getattr(self, name).\n",
            " |  \n",
            " |  __getitem__(self, key, /)\n",
            " |      Return self[key].\n",
            " |  \n",
            " |  __getnewargs__(self, /)\n",
            " |  \n",
            " |  __gt__(self, value, /)\n",
            " |      Return self>value.\n",
            " |  \n",
            " |  __hash__(self, /)\n",
            " |      Return hash(self).\n",
            " |  \n",
            " |  __iter__(self, /)\n",
            " |      Implement iter(self).\n",
            " |  \n",
            " |  __le__(self, value, /)\n",
            " |      Return self<=value.\n",
            " |  \n",
            " |  __len__(self, /)\n",
            " |      Return len(self).\n",
            " |  \n",
            " |  __lt__(self, value, /)\n",
            " |      Return self<value.\n",
            " |  \n",
            " |  __mul__(self, value, /)\n",
            " |      Return self*value.\n",
            " |  \n",
            " |  __ne__(self, value, /)\n",
            " |      Return self!=value.\n",
            " |  \n",
            " |  __repr__(self, /)\n",
            " |      Return repr(self).\n",
            " |  \n",
            " |  __rmul__(self, value, /)\n",
            " |      Return value*self.\n",
            " |  \n",
            " |  count(self, value, /)\n",
            " |      Return number of occurrences of value.\n",
            " |  \n",
            " |  index(self, value, start=0, stop=9223372036854775807, /)\n",
            " |      Return first index of value.\n",
            " |      \n",
            " |      Raises ValueError if the value is not present.\n",
            " |  \n",
            " |  ----------------------------------------------------------------------\n",
            " |  Static methods defined here:\n",
            " |  \n",
            " |  __new__(*args, **kwargs) from builtins.type\n",
            " |      Create and return a new object.  See help(type) for accurate signature.\n",
            "\n"
          ],
          "name": "stdout"
        }
      ]
    },
    {
      "cell_type": "markdown",
      "metadata": {
        "id": "3zHFHjKPxTN8"
      },
      "source": [
        "## Listas"
      ]
    },
    {
      "cell_type": "markdown",
      "metadata": {
        "id": "FFgG0JvxxaQY"
      },
      "source": [
        "Una lista es una estructura de datos que contiene una colección o secuencia de datos. Los datos o elementos de una lista deben ir separados con una coma y todo el conjunto entre corchetes. Se dice que una lista es una estructura mutable porque además de permitir el acceso a los elementos, pueden suprimirse o agregarse nuevos."
      ]
    },
    {
      "cell_type": "code",
      "metadata": {
        "colab": {
          "base_uri": "https://localhost:8080/",
          "height": 35
        },
        "id": "tgJkayPXxvVk",
        "outputId": "86b19293-dda0-44f3-8f5c-cf2daa657b4e"
      },
      "source": [
        "\n",
        "#Lista de números\n",
        "from math import pi\n",
        "numeros = [1,2,3.6,4,round(pi,2)]\n",
        "numeros\n",
        "\n"
      ],
      "execution_count": null,
      "outputs": [
        {
          "output_type": "execute_result",
          "data": {
            "text/plain": [
              "[1, 2, 3.6, 4, 3.14]"
            ]
          },
          "metadata": {
            "tags": []
          },
          "execution_count": 8
        }
      ]
    },
    {
      "cell_type": "code",
      "metadata": {
        "colab": {
          "base_uri": "https://localhost:8080/",
          "height": 52
        },
        "id": "QDeTFAV5xzFH",
        "outputId": "ba1c33b1-298e-4d30-b946-32927408e396"
      },
      "source": [
        "print(type(numeros))\n",
        "print(len(numeros))"
      ],
      "execution_count": null,
      "outputs": [
        {
          "output_type": "stream",
          "text": [
            "<class 'list'>\n",
            "5\n"
          ],
          "name": "stdout"
        }
      ]
    },
    {
      "cell_type": "code",
      "metadata": {
        "colab": {
          "base_uri": "https://localhost:8080/",
          "height": 52
        },
        "id": "NDift-qyBKSH",
        "outputId": "9ead21d4-aa91-4f87-f337-5995f1416143"
      },
      "source": [
        "# Se puede declarar una lista vacía \n",
        "\n",
        "numeros=list()\n",
        "numeros=[]\n",
        "print(type(numeros))\n",
        "print(len(numeros))"
      ],
      "execution_count": null,
      "outputs": [
        {
          "output_type": "stream",
          "text": [
            "<class 'list'>\n",
            "0\n"
          ],
          "name": "stdout"
        }
      ]
    },
    {
      "cell_type": "code",
      "metadata": {
        "id": "n6qEqUutyZDK"
      },
      "source": [
        "#Lista de strings\n",
        "\n",
        "letras=['a','b','c','d']\n",
        "palabras=['ana','beto','carlos','dario']"
      ],
      "execution_count": null,
      "outputs": []
    },
    {
      "cell_type": "code",
      "metadata": {
        "colab": {
          "base_uri": "https://localhost:8080/",
          "height": 87
        },
        "id": "YUo2wmBfypja",
        "outputId": "bdb76fd9-5218-46c3-fc22-c3ce3ab77958"
      },
      "source": [
        "print(type(letras))\n",
        "print(len(letras))\n",
        "\n",
        "print(type(palabras))\n",
        "print(len(palabras))"
      ],
      "execution_count": null,
      "outputs": [
        {
          "output_type": "stream",
          "text": [
            "<class 'list'>\n",
            "4\n",
            "<class 'list'>\n",
            "4\n"
          ],
          "name": "stdout"
        }
      ]
    },
    {
      "cell_type": "markdown",
      "metadata": {
        "id": "wHnaxRDmzwwt"
      },
      "source": [
        "### **Índices y slicing**\n",
        "\n",
        "Funcionan de una forma muy similar a las cadenas de caracteres:"
      ]
    },
    {
      "cell_type": "code",
      "metadata": {
        "colab": {
          "base_uri": "https://localhost:8080/",
          "height": 69
        },
        "id": "CBzgwcT1zxsU",
        "outputId": "41a541e3-547f-448b-a98b-73fd05697e74"
      },
      "source": [
        "mix = [4, \"machine\", -15, pi, \"learning\",'y']\n",
        "\n",
        "print(mix[0])\n",
        "print(mix[-1])\n",
        "print(mix[2:])"
      ],
      "execution_count": null,
      "outputs": [
        {
          "output_type": "stream",
          "text": [
            "4\n",
            "y\n",
            "[-15, 3.141592653589793, 'learning', 'y']\n"
          ],
          "name": "stdout"
        }
      ]
    },
    {
      "cell_type": "code",
      "metadata": {
        "colab": {
          "base_uri": "https://localhost:8080/",
          "height": 35
        },
        "id": "PPQEy_FUrmoK",
        "outputId": "0b796bfe-1c1d-4c40-f812-bfcc849a1f58"
      },
      "source": [
        "print(mix[:-2])\n",
        "print(mix[1:3])"
      ],
      "execution_count": null,
      "outputs": [
        {
          "output_type": "stream",
          "text": [
            "[4, 'machine', -15, 3.141592653589793]\n",
            "['machine', -15]\n"
          ],
          "name": "stdout"
        }
      ]
    },
    {
      "cell_type": "markdown",
      "metadata": {
        "id": "KjLLDI70AK6m"
      },
      "source": [
        "### Reemplazar elementos de una lista"
      ]
    },
    {
      "cell_type": "code",
      "metadata": {
        "colab": {
          "base_uri": "https://localhost:8080/",
          "height": 35
        },
        "id": "o-JNid04APvP",
        "outputId": "a19fe77a-431c-4bc6-a9cc-8759387e2b4b"
      },
      "source": [
        "lista = [\"Juan\",16,\"Pedro\",17]\n",
        "lista[0] = \"JuanFran\"\n",
        "lista\n"
      ],
      "execution_count": null,
      "outputs": [
        {
          "output_type": "execute_result",
          "data": {
            "text/plain": [
              "['JuanFran', 16, 'Pedro', 17]"
            ]
          },
          "metadata": {
            "tags": []
          },
          "execution_count": 15
        }
      ]
    },
    {
      "cell_type": "markdown",
      "metadata": {
        "id": "DvXCrhl90O3I"
      },
      "source": [
        "### **Suma de listas**"
      ]
    },
    {
      "cell_type": "code",
      "metadata": {
        "colab": {
          "base_uri": "https://localhost:8080/",
          "height": 35
        },
        "id": "tpuGDBKt0Ohw",
        "outputId": "e0d10078-7438-4565-999b-87fc75538e2f"
      },
      "source": [
        "lista1=[1,2,False,'carro',[2,3]]\n",
        "lista2=[8,7,True,'troca',[0,8]]\n",
        "\n",
        "lista1+lista2"
      ],
      "execution_count": null,
      "outputs": [
        {
          "output_type": "execute_result",
          "data": {
            "text/plain": [
              "[1, 2, False, 'carro', [2, 3], 8, 7, True, 'troca', [0, 8]]"
            ]
          },
          "metadata": {
            "tags": []
          },
          "execution_count": 16
        }
      ]
    },
    {
      "cell_type": "markdown",
      "metadata": {
        "id": "VjQbCqqSdvFN"
      },
      "source": [
        "### Listas anidadas"
      ]
    },
    {
      "cell_type": "code",
      "metadata": {
        "colab": {
          "base_uri": "https://localhost:8080/",
          "height": 35
        },
        "id": "dATfnzKed1Jc",
        "outputId": "be0d31d0-d34c-431e-f406-bdac703c8c9a"
      },
      "source": [
        "a = [1,2,3]\n",
        "b = [4,5,6]\n",
        "c = [7,8,9]\n",
        "r = [a,b,c]\n",
        "\n",
        "r"
      ],
      "execution_count": null,
      "outputs": [
        {
          "output_type": "execute_result",
          "data": {
            "text/plain": [
              "[[1, 2, 3], [4, 5, 6], [7, 8, 9]]"
            ]
          },
          "metadata": {
            "tags": []
          },
          "execution_count": 17
        }
      ]
    },
    {
      "cell_type": "code",
      "metadata": {
        "colab": {
          "base_uri": "https://localhost:8080/",
          "height": 121
        },
        "id": "Ch_oyDn-d69W",
        "outputId": "92e55a89-51b4-43ea-d381-9510510b82a4"
      },
      "source": [
        "print(r[0])       # Primera sublista\n",
        "print(r[-1])      # Última sublista\n",
        "\n",
        "print(r[0][0])    # Primera sublista, y de ella, primer ítem\n",
        "print(r[1][1])    # Segunda sublista, y de ella, segundo ítem\n",
        "print(r[2][2])    # Tercera sublista, y de ella, tercer ítem\n",
        "print(r[-1][-1])  # Última sublista, y de ella, último ítem"
      ],
      "execution_count": null,
      "outputs": [
        {
          "output_type": "stream",
          "text": [
            "[1, 2, 3]\n",
            "[7, 8, 9]\n",
            "1\n",
            "5\n",
            "9\n",
            "9\n"
          ],
          "name": "stdout"
        }
      ]
    },
    {
      "cell_type": "markdown",
      "metadata": {
        "id": "9x-Lv6uGjWvO"
      },
      "source": [
        "### Métodos integrados de las listas"
      ]
    },
    {
      "cell_type": "code",
      "metadata": {
        "colab": {
          "base_uri": "https://localhost:8080/",
          "height": 35
        },
        "id": "XR88EyU5ku4Z",
        "outputId": "b61759c9-9f90-4a59-a45f-b51a8a236564"
      },
      "source": [
        "#index() Devuelve el índice en el que aparece un ítem (error si no aparece)\n",
        "\n",
        "[\"Hola\", \"mundo\", \"mundo\",\"python\"].index(\"python\")\n",
        "\n",
        "# ¿Qué ocurre con el item repetido?"
      ],
      "execution_count": null,
      "outputs": [
        {
          "output_type": "execute_result",
          "data": {
            "text/plain": [
              "3"
            ]
          },
          "metadata": {
            "tags": []
          },
          "execution_count": 19
        }
      ]
    },
    {
      "cell_type": "code",
      "metadata": {
        "id": "GdrTAZ1Hs14r"
      },
      "source": [
        ""
      ],
      "execution_count": null,
      "outputs": []
    },
    {
      "cell_type": "code",
      "metadata": {
        "colab": {
          "base_uri": "https://localhost:8080/",
          "height": 34
        },
        "id": "Mt7Ib4QIku5x",
        "outputId": "f69e3211-920c-4f01-a288-da1b64dee727"
      },
      "source": [
        "#count() Cuenta el número de veces que aparece un ítem\n",
        "\n",
        "[\"Hola\", \"mundo\", \"mundo\"].count(\"mundo\")"
      ],
      "execution_count": null,
      "outputs": [
        {
          "output_type": "execute_result",
          "data": {
            "text/plain": [
              "2"
            ]
          },
          "metadata": {
            "tags": []
          },
          "execution_count": 20
        }
      ]
    },
    {
      "cell_type": "code",
      "metadata": {
        "colab": {
          "base_uri": "https://localhost:8080/",
          "height": 34
        },
        "id": "eZHwI1KejVew",
        "outputId": "2a6d9707-30fd-4713-a385-9bb359a724ef"
      },
      "source": [
        "#append()  añade item al final de la lista\n",
        "\n",
        "lista = [1,2,3,4,5]\n",
        "lista.append(6)\n",
        "lista\n",
        "\n",
        "#¿Cómo añadir un elemento a una lista sin afectar la lista original?"
      ],
      "execution_count": null,
      "outputs": [
        {
          "output_type": "execute_result",
          "data": {
            "text/plain": [
              "[1, 2, 3, 4, 5, 6]"
            ]
          },
          "metadata": {
            "tags": []
          },
          "execution_count": 21
        }
      ]
    },
    {
      "cell_type": "code",
      "metadata": {
        "colab": {
          "base_uri": "https://localhost:8080/",
          "height": 35
        },
        "id": "78Fg3NKitjxu",
        "outputId": "3c561dae-b84c-47b8-9aa2-50be951a1648"
      },
      "source": [
        " [1,2,3,4,5]+[6]"
      ],
      "execution_count": null,
      "outputs": [
        {
          "output_type": "execute_result",
          "data": {
            "text/plain": [
              "[1, 2, 3, 4, 5, 6]"
            ]
          },
          "metadata": {
            "tags": []
          },
          "execution_count": 22
        }
      ]
    },
    {
      "cell_type": "code",
      "metadata": {
        "colab": {
          "base_uri": "https://localhost:8080/",
          "height": 34
        },
        "id": "C8qatkGtku9e",
        "outputId": "134f5b01-0034-4803-b946-c9963c061773"
      },
      "source": [
        "#extend() Une una lista a otra:\n",
        "l1 = [1,2,3]\n",
        "l2 = [4,5,6]\n",
        "l1.extend(l2)\n",
        "l1\n",
        "\n",
        "#¿Cuál es la diferencia con l1+ l2?"
      ],
      "execution_count": null,
      "outputs": [
        {
          "output_type": "execute_result",
          "data": {
            "text/plain": [
              "[1, 2, 3, 4, 5, 6]"
            ]
          },
          "metadata": {
            "tags": []
          },
          "execution_count": 23
        }
      ]
    },
    {
      "cell_type": "code",
      "metadata": {
        "colab": {
          "base_uri": "https://localhost:8080/",
          "height": 52
        },
        "id": "qCFVtaHaku04",
        "outputId": "94a5d3d3-ab1e-4dfe-869b-5b4fb603e506"
      },
      "source": [
        "# insert() Agrega un ítem a la lista en un índice específico:\n",
        "\n",
        "l = [1,2,3]\n",
        "l.insert(2,1) # Insertar uno en la posición dos\n",
        "print(l)\n",
        "\n",
        "# Si indica una posición fuera del rango se agrega al final\n",
        "\n",
        "l.insert(200,3)\n",
        "print(l)"
      ],
      "execution_count": null,
      "outputs": [
        {
          "output_type": "stream",
          "text": [
            "[1, 2, 1, 3]\n",
            "[1, 2, 1, 3, 3]\n"
          ],
          "name": "stdout"
        }
      ]
    },
    {
      "cell_type": "code",
      "metadata": {
        "colab": {
          "base_uri": "https://localhost:8080/",
          "height": 87
        },
        "id": "rWH4Rt6VkuzB",
        "outputId": "dc30bda1-9f9b-4c91-cae2-57aa88f393c1"
      },
      "source": [
        "#pop() Extrae un ítem de la lista y lo borra. Por default se extrae el último elemento\n",
        "\n",
        "l = [10,20,30,40,50]\n",
        "print(l.pop())\n",
        "print(l)\n",
        "\n",
        "# Se puede indicar la posición \n",
        "l = [10,20,30,40,50]\n",
        "print(l.pop(2))\n",
        "print(l)\n"
      ],
      "execution_count": null,
      "outputs": [
        {
          "output_type": "stream",
          "text": [
            "50\n",
            "[10, 20, 30, 40]\n",
            "30\n",
            "[10, 20, 40, 50]\n"
          ],
          "name": "stdout"
        }
      ]
    },
    {
      "cell_type": "code",
      "metadata": {
        "colab": {
          "base_uri": "https://localhost:8080/",
          "height": 35
        },
        "id": "-gFglZ2Ium3U",
        "outputId": "a795d8a4-eb73-4da7-9e6a-fe7eca284725"
      },
      "source": [
        "l = [10,20,30,40,50]\n",
        "num=l.pop()\n",
        "num\n",
        "l"
      ],
      "execution_count": null,
      "outputs": [
        {
          "output_type": "execute_result",
          "data": {
            "text/plain": [
              "[10, 20, 30, 40]"
            ]
          },
          "metadata": {
            "tags": []
          },
          "execution_count": 26
        }
      ]
    },
    {
      "cell_type": "code",
      "metadata": {
        "colab": {
          "base_uri": "https://localhost:8080/",
          "height": 35
        },
        "id": "ZE8wz4A4kuvV",
        "outputId": "a4129a2e-4540-4aa0-b355-0914c74dfcbe"
      },
      "source": [
        "#remove() Borra el primer ítem de la lista cuyo valor concuerde con el que indicamos\n",
        "\n",
        "l = [20,30,30,30,40]\n",
        "l.remove(30)\n",
        "print(l)\n",
        "\n",
        "#¿Cual es la diferencia entre pop y remove?"
      ],
      "execution_count": null,
      "outputs": [
        {
          "output_type": "stream",
          "text": [
            "[20, 30, 30, 40]\n"
          ],
          "name": "stdout"
        }
      ]
    },
    {
      "cell_type": "code",
      "metadata": {
        "colab": {
          "base_uri": "https://localhost:8080/",
          "height": 35
        },
        "id": "6DWm5o3IkUUn",
        "outputId": "18a6a3cc-037c-403b-cb24-51a8056bd4b6"
      },
      "source": [
        "# Vaciar una lista\n",
        "l.clear()\n",
        "l"
      ],
      "execution_count": null,
      "outputs": [
        {
          "output_type": "execute_result",
          "data": {
            "text/plain": [
              "[]"
            ]
          },
          "metadata": {
            "tags": []
          },
          "execution_count": 28
        }
      ]
    },
    {
      "cell_type": "code",
      "metadata": {
        "colab": {
          "base_uri": "https://localhost:8080/",
          "height": 35
        },
        "id": "YOLgkcc9kulz",
        "outputId": "732f1183-f2d3-4ebe-ec44-404418d81529"
      },
      "source": [
        "#reverse() Le da la vuelta a la lista actual:\n",
        "l = [10,20,30,40,50]\n",
        "l.reverse()\n",
        "print(l)"
      ],
      "execution_count": null,
      "outputs": [
        {
          "output_type": "stream",
          "text": [
            "[50, 40, 30, 20, 10]\n"
          ],
          "name": "stdout"
        }
      ]
    },
    {
      "cell_type": "code",
      "metadata": {
        "colab": {
          "base_uri": "https://localhost:8080/",
          "height": 35
        },
        "id": "7vH_xA-VoIbM",
        "outputId": "135cadac-5402-4270-b815-f35aa2c94064"
      },
      "source": [
        "#sort() Ordena automáticamente los ítems de una lista por su valor de menor a mayor\n",
        "\n",
        "lista = [5,-10,35,0,-65,100]\n",
        "lista.sort()\n",
        "lista"
      ],
      "execution_count": null,
      "outputs": [
        {
          "output_type": "execute_result",
          "data": {
            "text/plain": [
              "[-65, -10, 0, 5, 35, 100]"
            ]
          },
          "metadata": {
            "tags": []
          },
          "execution_count": 30
        }
      ]
    },
    {
      "cell_type": "code",
      "metadata": {
        "colab": {
          "base_uri": "https://localhost:8080/",
          "height": 35
        },
        "id": "is7n1hnEvyQ4",
        "outputId": "d3389964-cffb-430c-e07d-ff7a6e81395e"
      },
      "source": [
        "lol=['zba','abc','arb']\n",
        "lol.sort()\n",
        "print(lol)"
      ],
      "execution_count": null,
      "outputs": [
        {
          "output_type": "stream",
          "text": [
            "['abc', 'arb', 'zba']\n"
          ],
          "name": "stdout"
        }
      ]
    },
    {
      "cell_type": "code",
      "metadata": {
        "colab": {
          "base_uri": "https://localhost:8080/",
          "height": 35
        },
        "id": "5cYOSPp1oIYq",
        "outputId": "d69fc276-22a0-438c-fd2a-1e36fe2b6ae6"
      },
      "source": [
        "lista.sort(reverse=True)\n",
        "lista"
      ],
      "execution_count": null,
      "outputs": [
        {
          "output_type": "execute_result",
          "data": {
            "text/plain": [
              "[100, 35, 5, 0, -10, -65]"
            ]
          },
          "metadata": {
            "tags": []
          },
          "execution_count": 32
        }
      ]
    },
    {
      "cell_type": "markdown",
      "metadata": {
        "id": "bzNviHcIXL_G"
      },
      "source": [
        "## Conjuntos"
      ]
    },
    {
      "cell_type": "markdown",
      "metadata": {
        "id": "zUCOQejJXP2T"
      },
      "source": [
        "Colección **no ordenada y sin elementos repetidos**.\tSoportan operaciones matemáticas como unión, intersección, diferencia y diferencia simétrica\n",
        "\tSe declaran con llaves {} o con set()"
      ]
    },
    {
      "cell_type": "code",
      "metadata": {
        "id": "147DO7PaXUeZ"
      },
      "source": [
        "# Declarar un conjunto\n",
        "\n",
        "animales = {'perro', 'vaca', 'raton', 'conejo', 'aguila', 'vaca', 'conejo'}\n",
        "animales2 = {'conejo', 'burro', 'ballena', 'gato', 'perico', 'perro', 'gato', 'ballena'}\n",
        "animales3 = {'perro','conejo','aguila'}\n",
        "\n"
      ],
      "execution_count": null,
      "outputs": []
    },
    {
      "cell_type": "code",
      "metadata": {
        "colab": {
          "base_uri": "https://localhost:8080/",
          "height": 34
        },
        "id": "fATyldlVXyvU",
        "outputId": "cacfb701-2f2a-4955-eeb9-7a5c64a59795"
      },
      "source": [
        "len(animales)"
      ],
      "execution_count": null,
      "outputs": [
        {
          "output_type": "execute_result",
          "data": {
            "text/plain": [
              "5"
            ]
          },
          "metadata": {
            "tags": []
          },
          "execution_count": 34
        }
      ]
    },
    {
      "cell_type": "code",
      "metadata": {
        "colab": {
          "base_uri": "https://localhost:8080/",
          "height": 34
        },
        "id": "DI1Z5cOXXfGo",
        "outputId": "b9ffe839-aad9-4131-bd47-be9f922c927f"
      },
      "source": [
        "animales"
      ],
      "execution_count": null,
      "outputs": [
        {
          "output_type": "execute_result",
          "data": {
            "text/plain": [
              "{'aguila', 'conejo', 'perro', 'raton', 'vaca'}"
            ]
          },
          "metadata": {
            "tags": []
          },
          "execution_count": 35
        }
      ]
    },
    {
      "cell_type": "markdown",
      "metadata": {
        "id": "x79D-OKAX42I"
      },
      "source": [
        "### Operaciones y métodos de los conjuntos"
      ]
    },
    {
      "cell_type": "code",
      "metadata": {
        "colab": {
          "base_uri": "https://localhost:8080/",
          "height": 51
        },
        "id": "YCCc4eAdXhJK",
        "outputId": "c85a3854-d447-4f83-cdd1-5d8c263b9a40"
      },
      "source": [
        "#Comprobando pertenencia\n",
        "print('cocodrilo' in animales2) \n",
        "\n",
        "#Igualdad entre conjuntos, el orden no importa\n",
        "print(animales == animales2) \n",
        "\n"
      ],
      "execution_count": null,
      "outputs": [
        {
          "output_type": "stream",
          "text": [
            "False\n",
            "False\n"
          ],
          "name": "stdout"
        }
      ]
    },
    {
      "cell_type": "markdown",
      "metadata": {
        "id": "itxXr3szYZQD"
      },
      "source": [
        "**Determinar si un conjunto es subconjunto de otro**"
      ]
    },
    {
      "cell_type": "code",
      "metadata": {
        "colab": {
          "base_uri": "https://localhost:8080/",
          "height": 51
        },
        "id": "UxrsSFqmYeKu",
        "outputId": "4f56eca9-c832-43ff-db0d-ed17c4227df0"
      },
      "source": [
        "print(animales3.issubset(animales)) #Subconjunto, animales3 subconjunto de animales?\n",
        "print(animales3.issubset(animales) and animales3!=animales) #Subconjunto propio\n",
        "print(animales.issubset(animales)) \n"
      ],
      "execution_count": null,
      "outputs": [
        {
          "output_type": "stream",
          "text": [
            "True\n",
            "True\n",
            "True\n"
          ],
          "name": "stdout"
        }
      ]
    },
    {
      "cell_type": "markdown",
      "metadata": {
        "id": "nB8NNU3cZawP"
      },
      "source": [
        "**Unión de conjuntos**"
      ]
    },
    {
      "cell_type": "code",
      "metadata": {
        "colab": {
          "base_uri": "https://localhost:8080/",
          "height": 34
        },
        "id": "wFGHxxlpZPsI",
        "outputId": "2bfe311c-b105-448e-a993-772ae8e21428"
      },
      "source": [
        "\n",
        "\n",
        "print(animales.union(animales2)) #Union ->  animales | animales2"
      ],
      "execution_count": null,
      "outputs": [
        {
          "output_type": "stream",
          "text": [
            "{'conejo', 'burro', 'perro', 'gato', 'perico', 'vaca', 'raton', 'ballena', 'aguila'}\n"
          ],
          "name": "stdout"
        }
      ]
    },
    {
      "cell_type": "markdown",
      "metadata": {
        "id": "IB4XQ0WuYjn7"
      },
      "source": [
        "**Intersección de conjuntos**"
      ]
    },
    {
      "cell_type": "code",
      "metadata": {
        "colab": {
          "base_uri": "https://localhost:8080/",
          "height": 34
        },
        "id": "YVXaFGNqYqcY",
        "outputId": "94ea370d-7681-4b54-d006-ad0d6819b2e1"
      },
      "source": [
        "print(animales.intersection(animales2)) #Intesección -> animales & animales"
      ],
      "execution_count": null,
      "outputs": [
        {
          "output_type": "stream",
          "text": [
            "{'perro', 'conejo'}\n"
          ],
          "name": "stdout"
        }
      ]
    },
    {
      "cell_type": "markdown",
      "metadata": {
        "id": "LTSKpJ0rZwSO"
      },
      "source": [
        "**Diferencia de conjuntos**"
      ]
    },
    {
      "cell_type": "code",
      "metadata": {
        "colab": {
          "base_uri": "https://localhost:8080/",
          "height": 51
        },
        "id": "432nNXpXZ2B8",
        "outputId": "23821ed7-231a-4425-90d5-1f297bfa3d3b"
      },
      "source": [
        "print(animales - animales2) #Diferencia\n",
        "print(animales ^ animales2) #Diferencia Simétrica (todo menos la intesección)"
      ],
      "execution_count": null,
      "outputs": [
        {
          "output_type": "stream",
          "text": [
            "{'vaca', 'raton', 'aguila'}\n",
            "{'burro', 'gato', 'perico', 'vaca', 'raton', 'ballena', 'aguila'}\n"
          ],
          "name": "stdout"
        }
      ]
    },
    {
      "cell_type": "code",
      "metadata": {
        "colab": {
          "base_uri": "https://localhost:8080/",
          "height": 275
        },
        "id": "YPBQij90aHsR",
        "outputId": "d70c9271-99a2-48f5-e7f8-b5946d9a8e6b"
      },
      "source": [
        "import matplotlib_venn\n",
        "import matplotlib.pyplot as plt\n",
        "\n",
        "animales = {'perro', 'vaca', 'raton', 'conejo', 'aguila', 'vaca', 'conejo'}\n",
        "animales2 = {'conejo', 'burro', 'ballena', 'gato', 'perico', 'perro', 'gato', 'ballena'}\n",
        "plt.figure(figsize=(6,8))\n",
        "v = matplotlib_venn.venn2(subsets=[animales,animales2],set_labels=('Animales','animales2'))\n",
        "v.get_label_by_id('10').set_text(animales - animales2)\n",
        "v.get_label_by_id('11').set_text(animales.intersection(animales2))\n",
        "v.get_label_by_id('01').set_text(animales2 - animales)\n",
        "plt.show()\n",
        "c = matplotlib_venn.venn2_circles(subsets=[animales, animales2], linestyle=\"dashed\")\n",
        "c[0].set_ls('solid')\n"
      ],
      "execution_count": null,
      "outputs": [
        {
          "output_type": "display_data",
          "data": {
            "text/plain": [
              "<Figure size 600x800 with 1 Axes>"
            ]
          },
          "metadata": {
            "tags": []
          }
        }
      ]
    },
    {
      "cell_type": "markdown",
      "metadata": {
        "id": "O1oqGzI1iXwD"
      },
      "source": [
        "### Conversión de una lista a un conjunto"
      ]
    },
    {
      "cell_type": "code",
      "metadata": {
        "colab": {
          "base_uri": "https://localhost:8080/",
          "height": 51
        },
        "id": "YSLVko1RaIT-",
        "outputId": "b4cec6ec-ca83-4e65-8d41-872b5647d46e"
      },
      "source": [
        "a=[8,1,2,3,1,2,3,4,5,3,7,1,2,3,3]\n",
        "print(a)\n",
        "print('A es',type(a))"
      ],
      "execution_count": null,
      "outputs": [
        {
          "output_type": "stream",
          "text": [
            "[8, 1, 2, 3, 1, 2, 3, 4, 5, 3, 7, 1, 2, 3, 3]\n",
            "A es <class 'list'>\n"
          ],
          "name": "stdout"
        }
      ]
    },
    {
      "cell_type": "code",
      "metadata": {
        "colab": {
          "base_uri": "https://localhost:8080/",
          "height": 51
        },
        "id": "2zmTeacWitam",
        "outputId": "eed7b8d4-4876-41a8-fd3a-8c3a35cfc2fc"
      },
      "source": [
        "a=set(a)\n",
        "print(a)\n",
        "print('A es',type(a))"
      ],
      "execution_count": null,
      "outputs": [
        {
          "output_type": "stream",
          "text": [
            "{1, 2, 3, 4, 5, 7, 8}\n",
            "A es <class 'set'>\n"
          ],
          "name": "stdout"
        }
      ]
    },
    {
      "cell_type": "markdown",
      "metadata": {
        "id": "cbWlLarojATl"
      },
      "source": [
        "### Agregar o eliminar  elemento de un conjunto"
      ]
    },
    {
      "cell_type": "code",
      "metadata": {
        "colab": {
          "base_uri": "https://localhost:8080/",
          "height": 34
        },
        "id": "uqzvrAtdiwbo",
        "outputId": "7c59ed06-1994-4d7a-f0a4-926f9ba539ea"
      },
      "source": [
        "animales.add('cangrejo')\n",
        "animales"
      ],
      "execution_count": null,
      "outputs": [
        {
          "output_type": "execute_result",
          "data": {
            "text/plain": [
              "{'aguila', 'cangrejo', 'conejo', 'perro', 'raton', 'vaca'}"
            ]
          },
          "metadata": {
            "tags": []
          },
          "execution_count": 44
        }
      ]
    },
    {
      "cell_type": "code",
      "metadata": {
        "colab": {
          "base_uri": "https://localhost:8080/",
          "height": 34
        },
        "id": "ojwpeFXSrZ66",
        "outputId": "afb853a2-4914-46b4-ab8e-2cb937f40146"
      },
      "source": [
        "animales.discard('raton')\n",
        "animales"
      ],
      "execution_count": null,
      "outputs": [
        {
          "output_type": "execute_result",
          "data": {
            "text/plain": [
              "{'aguila', 'cangrejo', 'conejo', 'perro', 'vaca'}"
            ]
          },
          "metadata": {
            "tags": []
          },
          "execution_count": 45
        }
      ]
    },
    {
      "cell_type": "code",
      "metadata": {
        "id": "MVSJ5ROPUoqk",
        "outputId": "f63739fd-9edd-441b-d65d-3ceb0c839147"
      },
      "source": [
        "animales.remove('aguila')\n",
        "animales"
      ],
      "execution_count": null,
      "outputs": [
        {
          "output_type": "execute_result",
          "data": {
            "text/plain": [
              "{'cangrejo', 'conejo', 'perro', 'vaca'}"
            ]
          },
          "metadata": {
            "tags": []
          },
          "execution_count": 46
        }
      ]
    },
    {
      "cell_type": "code",
      "metadata": {
        "id": "MIO55C2DV__w",
        "outputId": "72f29198-7c45-45b7-9f1c-a3073f112ae9"
      },
      "source": [
        "help(animales)"
      ],
      "execution_count": null,
      "outputs": [
        {
          "output_type": "stream",
          "text": [
            "Help on set object:\n",
            "\n",
            "class set(object)\n",
            " |  set() -> new empty set object\n",
            " |  set(iterable) -> new set object\n",
            " |  \n",
            " |  Build an unordered collection of unique elements.\n",
            " |  \n",
            " |  Methods defined here:\n",
            " |  \n",
            " |  __and__(self, value, /)\n",
            " |      Return self&value.\n",
            " |  \n",
            " |  __contains__(...)\n",
            " |      x.__contains__(y) <==> y in x.\n",
            " |  \n",
            " |  __eq__(self, value, /)\n",
            " |      Return self==value.\n",
            " |  \n",
            " |  __ge__(self, value, /)\n",
            " |      Return self>=value.\n",
            " |  \n",
            " |  __getattribute__(self, name, /)\n",
            " |      Return getattr(self, name).\n",
            " |  \n",
            " |  __gt__(self, value, /)\n",
            " |      Return self>value.\n",
            " |  \n",
            " |  __iand__(self, value, /)\n",
            " |      Return self&=value.\n",
            " |  \n",
            " |  __init__(self, /, *args, **kwargs)\n",
            " |      Initialize self.  See help(type(self)) for accurate signature.\n",
            " |  \n",
            " |  __ior__(self, value, /)\n",
            " |      Return self|=value.\n",
            " |  \n",
            " |  __isub__(self, value, /)\n",
            " |      Return self-=value.\n",
            " |  \n",
            " |  __iter__(self, /)\n",
            " |      Implement iter(self).\n",
            " |  \n",
            " |  __ixor__(self, value, /)\n",
            " |      Return self^=value.\n",
            " |  \n",
            " |  __le__(self, value, /)\n",
            " |      Return self<=value.\n",
            " |  \n",
            " |  __len__(self, /)\n",
            " |      Return len(self).\n",
            " |  \n",
            " |  __lt__(self, value, /)\n",
            " |      Return self<value.\n",
            " |  \n",
            " |  __ne__(self, value, /)\n",
            " |      Return self!=value.\n",
            " |  \n",
            " |  __or__(self, value, /)\n",
            " |      Return self|value.\n",
            " |  \n",
            " |  __rand__(self, value, /)\n",
            " |      Return value&self.\n",
            " |  \n",
            " |  __reduce__(...)\n",
            " |      Return state information for pickling.\n",
            " |  \n",
            " |  __repr__(self, /)\n",
            " |      Return repr(self).\n",
            " |  \n",
            " |  __ror__(self, value, /)\n",
            " |      Return value|self.\n",
            " |  \n",
            " |  __rsub__(self, value, /)\n",
            " |      Return value-self.\n",
            " |  \n",
            " |  __rxor__(self, value, /)\n",
            " |      Return value^self.\n",
            " |  \n",
            " |  __sizeof__(...)\n",
            " |      S.__sizeof__() -> size of S in memory, in bytes\n",
            " |  \n",
            " |  __sub__(self, value, /)\n",
            " |      Return self-value.\n",
            " |  \n",
            " |  __xor__(self, value, /)\n",
            " |      Return self^value.\n",
            " |  \n",
            " |  add(...)\n",
            " |      Add an element to a set.\n",
            " |      \n",
            " |      This has no effect if the element is already present.\n",
            " |  \n",
            " |  clear(...)\n",
            " |      Remove all elements from this set.\n",
            " |  \n",
            " |  copy(...)\n",
            " |      Return a shallow copy of a set.\n",
            " |  \n",
            " |  difference(...)\n",
            " |      Return the difference of two or more sets as a new set.\n",
            " |      \n",
            " |      (i.e. all elements that are in this set but not the others.)\n",
            " |  \n",
            " |  difference_update(...)\n",
            " |      Remove all elements of another set from this set.\n",
            " |  \n",
            " |  discard(...)\n",
            " |      Remove an element from a set if it is a member.\n",
            " |      \n",
            " |      If the element is not a member, do nothing.\n",
            " |  \n",
            " |  intersection(...)\n",
            " |      Return the intersection of two sets as a new set.\n",
            " |      \n",
            " |      (i.e. all elements that are in both sets.)\n",
            " |  \n",
            " |  intersection_update(...)\n",
            " |      Update a set with the intersection of itself and another.\n",
            " |  \n",
            " |  isdisjoint(...)\n",
            " |      Return True if two sets have a null intersection.\n",
            " |  \n",
            " |  issubset(...)\n",
            " |      Report whether another set contains this set.\n",
            " |  \n",
            " |  issuperset(...)\n",
            " |      Report whether this set contains another set.\n",
            " |  \n",
            " |  pop(...)\n",
            " |      Remove and return an arbitrary set element.\n",
            " |      Raises KeyError if the set is empty.\n",
            " |  \n",
            " |  remove(...)\n",
            " |      Remove an element from a set; it must be a member.\n",
            " |      \n",
            " |      If the element is not a member, raise a KeyError.\n",
            " |  \n",
            " |  symmetric_difference(...)\n",
            " |      Return the symmetric difference of two sets as a new set.\n",
            " |      \n",
            " |      (i.e. all elements that are in exactly one of the sets.)\n",
            " |  \n",
            " |  symmetric_difference_update(...)\n",
            " |      Update a set with the symmetric difference of itself and another.\n",
            " |  \n",
            " |  union(...)\n",
            " |      Return the union of sets as a new set.\n",
            " |      \n",
            " |      (i.e. all elements that are in either set.)\n",
            " |  \n",
            " |  update(...)\n",
            " |      Update a set with the union of itself and others.\n",
            " |  \n",
            " |  ----------------------------------------------------------------------\n",
            " |  Static methods defined here:\n",
            " |  \n",
            " |  __new__(*args, **kwargs) from builtins.type\n",
            " |      Create and return a new object.  See help(type) for accurate signature.\n",
            " |  \n",
            " |  ----------------------------------------------------------------------\n",
            " |  Data and other attributes defined here:\n",
            " |  \n",
            " |  __hash__ = None\n",
            "\n"
          ],
          "name": "stdout"
        }
      ]
    },
    {
      "cell_type": "markdown",
      "metadata": {
        "id": "j_zo9KLYrtzW"
      },
      "source": [
        "## Diccionarios"
      ]
    },
    {
      "cell_type": "markdown",
      "metadata": {
        "id": "BDV9ETZGr1c_"
      },
      "source": [
        "\n",
        "Los diccionarios son objetos que contienen una lista de parejas de elementos. De cada pareja un elemento es la clave, que no puede repetirse, y, el otro, un valor asociado. La clave que se utiliza para acceder al valor tiene que ser un dato inmutable como una cadena, mientras que el valor puede ser un número, una cadena, un valor lógico (True/False), una lista o una tupla.\n",
        "\n",
        "Los pares clave-valor están separados por dos puntos, las parejas por comas y todo el conjunto se encierra entre llaves.\n"
      ]
    },
    {
      "cell_type": "code",
      "metadata": {
        "id": "LubqVyufsIEz"
      },
      "source": [
        "# declara diccionario\n",
        "capitales = {'Chile':'Santiago',\n",
        "              'España':'Madrid',\n",
        "              'Francia':'París',\n",
        "               'México':'CDMX',\n",
        "                  7:9}"
      ],
      "execution_count": null,
      "outputs": []
    },
    {
      "cell_type": "code",
      "metadata": {
        "colab": {
          "base_uri": "https://localhost:8080/",
          "height": 51
        },
        "id": "Ulo_bPN-sezp",
        "outputId": "2cf834d3-de06-432d-e04c-99f24aec8d1a"
      },
      "source": [
        "print('La capital de México es',capitales['México'])\n",
        "print('El impar inmediato a 7 es',capitales[7])"
      ],
      "execution_count": null,
      "outputs": [
        {
          "output_type": "stream",
          "text": [
            "La capital de México es CDMX\n",
            "El impar inmediato a 7 es 9\n"
          ],
          "name": "stdout"
        }
      ]
    },
    {
      "cell_type": "code",
      "metadata": {
        "id": "0Qh_6ihTvMyN"
      },
      "source": [
        "#Agregar elementos a un diccionario\n",
        "\n",
        "capitales['Canada']='Alberta'\n"
      ],
      "execution_count": null,
      "outputs": []
    },
    {
      "cell_type": "code",
      "metadata": {
        "colab": {
          "base_uri": "https://localhost:8080/",
          "height": 119
        },
        "id": "e2LuEqqBvjQ9",
        "outputId": "b71683da-02ab-41f4-c483-3276eb3804e1"
      },
      "source": [
        "for key, value in capitales.items():\n",
        "  print( '{}:{}'.format(key,value))\n"
      ],
      "execution_count": null,
      "outputs": [
        {
          "output_type": "stream",
          "text": [
            "Chile:Santiago\n",
            "España:Madrid\n",
            "Francia:París\n",
            "México:CDMX\n",
            "7:9\n",
            "Canada:Alberta\n"
          ],
          "name": "stdout"
        }
      ]
    },
    {
      "cell_type": "markdown",
      "metadata": {
        "id": "f9LWiuiYtK17"
      },
      "source": [
        "### Métodos integrados"
      ]
    },
    {
      "cell_type": "code",
      "metadata": {
        "colab": {
          "base_uri": "https://localhost:8080/",
          "height": 51
        },
        "id": "w1EU5thLtJ6u",
        "outputId": "22d7e385-9cfb-45a8-abf1-7f5293d74659"
      },
      "source": [
        "#get() Busca un elemento a partir de su clave y si no lo encuentra devuelve un valor por defecto\n",
        "\n",
        "print(capitales.get('Francia'))\n",
        "print(capitales.get('Qatar',False))"
      ],
      "execution_count": null,
      "outputs": [
        {
          "output_type": "stream",
          "text": [
            "París\n",
            "False\n"
          ],
          "name": "stdout"
        }
      ]
    },
    {
      "cell_type": "code",
      "metadata": {
        "colab": {
          "base_uri": "https://localhost:8080/",
          "height": 34
        },
        "id": "rCCFHKNBtV_a",
        "outputId": "756e8a77-8959-446d-b0b0-620530410d23"
      },
      "source": [
        "#keys() Genera una lista en clave de los registros del diccionario\n",
        "\n",
        "capitales.keys()"
      ],
      "execution_count": null,
      "outputs": [
        {
          "output_type": "execute_result",
          "data": {
            "text/plain": [
              "dict_keys(['Chile', 'España', 'Francia', 'México', 7, 'Canada'])"
            ]
          },
          "metadata": {
            "tags": []
          },
          "execution_count": 53
        }
      ]
    },
    {
      "cell_type": "code",
      "metadata": {
        "colab": {
          "base_uri": "https://localhost:8080/",
          "height": 34
        },
        "id": "lVZyPLLktV8k",
        "outputId": "07c1ead8-4d0a-4b58-f5e8-ff378f1dbb15"
      },
      "source": [
        "#values() Genera una lista en valor de los registros del diccionario\n",
        "capitales.values()"
      ],
      "execution_count": null,
      "outputs": [
        {
          "output_type": "execute_result",
          "data": {
            "text/plain": [
              "dict_values(['Santiago', 'Madrid', 'París', 'CDMX', 9, 'Alberta'])"
            ]
          },
          "metadata": {
            "tags": []
          },
          "execution_count": 54
        }
      ]
    },
    {
      "cell_type": "code",
      "metadata": {
        "colab": {
          "base_uri": "https://localhost:8080/",
          "height": 51
        },
        "id": "QPOARwtxtV6F",
        "outputId": "466afc1b-90ce-451b-9e5d-1f5538010f3e"
      },
      "source": [
        "#pop ()\n",
        "\n",
        "print(capitales.pop(7,False))\n",
        "print(capitales.pop(7,False))\n",
        "print(capitales.keys())"
      ],
      "execution_count": null,
      "outputs": [
        {
          "output_type": "stream",
          "text": [
            "9\n",
            "False\n",
            "dict_keys(['Chile', 'España', 'Francia', 'México', 'Canada'])\n"
          ],
          "name": "stdout"
        }
      ]
    },
    {
      "cell_type": "code",
      "metadata": {
        "colab": {
          "base_uri": "https://localhost:8080/",
          "height": 34
        },
        "id": "pI3YH3iVtV4f",
        "outputId": "9ac34e17-8ba4-41a7-ad1b-d9d7a79dbde6"
      },
      "source": [
        "#clear()\n",
        "capitales.clear()\n",
        "capitales"
      ],
      "execution_count": null,
      "outputs": [
        {
          "output_type": "execute_result",
          "data": {
            "text/plain": [
              "{}"
            ]
          },
          "metadata": {
            "tags": []
          },
          "execution_count": 56
        }
      ]
    },
    {
      "cell_type": "markdown",
      "metadata": {
        "id": "XTF4MpwZo2xN"
      },
      "source": [
        "## Operaciones que pueden realizarse sobre colecciones valores"
      ]
    },
    {
      "cell_type": "code",
      "metadata": {
        "colab": {
          "base_uri": "https://localhost:8080/",
          "height": 34
        },
        "id": "2_Tcim-2pCk0",
        "outputId": "c6257dc4-d103-4d03-a52b-b8a55c85201d"
      },
      "source": [
        "mylist=[2,8,1,7,9,8,1,5]\n",
        "mytuple=(5,-8,7,1,-9,0,15)\n",
        "\n",
        "# min() extrae el mínimo de una colección\n",
        "\n",
        "\n",
        "print([min(mylist),min(mytuple)])"
      ],
      "execution_count": null,
      "outputs": [
        {
          "output_type": "stream",
          "text": [
            "[1, -9]\n"
          ],
          "name": "stdout"
        }
      ]
    },
    {
      "cell_type": "code",
      "metadata": {
        "colab": {
          "base_uri": "https://localhost:8080/",
          "height": 34
        },
        "id": "M55gE0cixFFH",
        "outputId": "9d5f9df2-6b41-4986-ddf1-2c76891bb49e"
      },
      "source": [
        "# max() extrae el máximo de una colección\n",
        "\n",
        "\n",
        "print([max(mylist),max(mytuple)])"
      ],
      "execution_count": null,
      "outputs": [
        {
          "output_type": "stream",
          "text": [
            "[9, 15]\n"
          ],
          "name": "stdout"
        }
      ]
    },
    {
      "cell_type": "code",
      "metadata": {
        "colab": {
          "base_uri": "https://localhost:8080/",
          "height": 51
        },
        "id": "SK5_thJ0xScY",
        "outputId": "3ccec68e-9846-435f-8dd4-857a63f631dd"
      },
      "source": [
        "# sort() ordena los elementos de una colección, sin afectar a la colección original\n",
        "\n",
        "print(sorted(mylist))\n",
        "print(sorted(mytuple))\n"
      ],
      "execution_count": null,
      "outputs": [
        {
          "output_type": "stream",
          "text": [
            "[1, 1, 2, 5, 7, 8, 8, 9]\n",
            "[-9, -8, 0, 1, 5, 7, 15]\n"
          ],
          "name": "stdout"
        }
      ]
    },
    {
      "cell_type": "code",
      "metadata": {
        "colab": {
          "base_uri": "https://localhost:8080/",
          "height": 51
        },
        "id": "uVYDYdlNzxDZ",
        "outputId": "88b80314-bf6f-49aa-960b-2eec0ff3b685"
      },
      "source": [
        "#sum( )  devuelve la suma de los elementos de una colección\n",
        "\n",
        "print(sum(mylist))\n",
        "print(sum(mytuple))\n"
      ],
      "execution_count": null,
      "outputs": [
        {
          "output_type": "stream",
          "text": [
            "41\n",
            "11\n"
          ],
          "name": "stdout"
        }
      ]
    }
  ]
}