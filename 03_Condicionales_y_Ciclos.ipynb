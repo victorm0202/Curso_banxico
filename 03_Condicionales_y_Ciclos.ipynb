{
  "nbformat": 4,
  "nbformat_minor": 0,
  "metadata": {
    "colab": {
      "name": "03_Condicionales_y_Ciclos.ipynb",
      "provenance": [],
      "include_colab_link": true
    },
    "kernelspec": {
      "display_name": "Python 3",
      "language": "python",
      "name": "python3"
    },
    "language_info": {
      "codemirror_mode": {
        "name": "ipython",
        "version": 3
      },
      "file_extension": ".py",
      "mimetype": "text/x-python",
      "name": "python",
      "nbconvert_exporter": "python",
      "pygments_lexer": "ipython3",
      "version": "3.7.4"
    }
  },
  "cells": [
    {
      "cell_type": "markdown",
      "metadata": {
        "id": "view-in-github",
        "colab_type": "text"
      },
      "source": [
        "<a href=\"https://colab.research.google.com/github/victorm0202/Curso_banxico/blob/Python-basics/03_Condicionales_y_Ciclos.ipynb\" target=\"_parent\"><img src=\"https://colab.research.google.com/assets/colab-badge.svg\" alt=\"Open In Colab\"/></a>"
      ]
    },
    {
      "cell_type": "markdown",
      "metadata": {
        "id": "ZCgT7h8S7b4Y"
      },
      "source": [
        " Condicionar permite dividir el flujo de un programa en diferentes caminos."
      ]
    },
    {
      "cell_type": "markdown",
      "metadata": {
        "id": "2DHC7VVM7iQs"
      },
      "source": [
        "## Condicionales"
      ]
    },
    {
      "cell_type": "markdown",
      "metadata": {
        "id": "0rJJUe9u-NFj"
      },
      "source": [
        "### Sentencia *if*"
      ]
    },
    {
      "cell_type": "markdown",
      "metadata": {
        "id": "A6IMgh8y7kij"
      },
      "source": [
        "El if se ejecuta siempre que la expresión que comprueba devuelva True:"
      ]
    },
    {
      "cell_type": "code",
      "metadata": {
        "colab": {
          "base_uri": "https://localhost:8080/",
          "height": 52
        },
        "id": "XwttGY517Veg",
        "outputId": "fc1b1062-2bdc-44f0-eecc-5066beeb9d7a"
      },
      "source": [
        "if True:  # equivale a if not False\n",
        "    print(\"Se cumple la condición\")\n",
        "    print(\"También se muestre este print\")\n"
      ],
      "execution_count": null,
      "outputs": [
        {
          "output_type": "stream",
          "text": [
            "Se cumple la condición\n",
            "También se muestre este print\n"
          ],
          "name": "stdout"
        }
      ]
    },
    {
      "cell_type": "code",
      "metadata": {
        "id": "2UawulIgaulY"
      },
      "source": [
        "if False:  # equivale a if not False\n",
        "    print(\"Se cumple la condición\")\n",
        "    print(\"También se muestre este print\")"
      ],
      "execution_count": null,
      "outputs": []
    },
    {
      "cell_type": "code",
      "metadata": {
        "colab": {
          "base_uri": "https://localhost:8080/",
          "height": 35
        },
        "id": "aaLKPDi0bPgj",
        "outputId": "8201c1da-762f-4709-c556-d25a17df4e4a"
      },
      "source": [
        "if False:\n",
        "  print('a')\n",
        "print('b')"
      ],
      "execution_count": null,
      "outputs": [
        {
          "output_type": "stream",
          "text": [
            "b\n"
          ],
          "name": "stdout"
        }
      ]
    },
    {
      "cell_type": "code",
      "metadata": {
        "colab": {
          "base_uri": "https://localhost:8080/",
          "height": 35
        },
        "id": "1VYoOLYY7smJ",
        "outputId": "36c9c39c-6240-4995-bdd4-a1a57f03a413"
      },
      "source": [
        "# Encadenar varios if\n",
        "\n",
        "a = 5\n",
        "if a == 2:\n",
        "    print(\"a vale 2\")\n",
        "if a == 5:\n",
        "    print(\"a vale 5\")"
      ],
      "execution_count": null,
      "outputs": [
        {
          "output_type": "stream",
          "text": [
            "a vale 5\n"
          ],
          "name": "stdout"
        }
      ]
    },
    {
      "cell_type": "code",
      "metadata": {
        "colab": {
          "base_uri": "https://localhost:8080/",
          "height": 35
        },
        "id": "SuLmMU4Y8Cnj",
        "outputId": "7ddaba84-ebda-45c9-d4c4-b052b6d1edb6"
      },
      "source": [
        "#Anidar if\n",
        "a = 5\n",
        "b = 10\n",
        "if a == 5:\n",
        "    print(\"a vale\",a, end='  ')\n",
        "    if b == 10:\n",
        "        print(\"y b vale\",b)"
      ],
      "execution_count": null,
      "outputs": [
        {
          "output_type": "stream",
          "text": [
            "a vale 5  y b vale 10\n"
          ],
          "name": "stdout"
        }
      ]
    },
    {
      "cell_type": "markdown",
      "metadata": {
        "id": "8xfW_mzS-TUe"
      },
      "source": [
        "### Sentencia *else*"
      ]
    },
    {
      "cell_type": "markdown",
      "metadata": {
        "id": "zLRtPs7l8i0t"
      },
      "source": [
        "En ocasiones el *if* tiene una instrucción  que debe ejecutarse cuando no se cumpla la condición. Se usa la sentencia **else( )** para encadenar las instrucciones "
      ]
    },
    {
      "cell_type": "code",
      "metadata": {
        "colab": {
          "base_uri": "https://localhost:8080/",
          "height": 35
        },
        "id": "rwuE_Xq29A7f",
        "outputId": "7b1f4d05-c9eb-4d39-e21c-ec98fa7a4d68"
      },
      "source": [
        "n = 11\n",
        "if n % 2 == 0:\n",
        "    print(n,\"es un número par\")\n",
        "else:\n",
        "    print(n,\"es un número impar\")"
      ],
      "execution_count": null,
      "outputs": [
        {
          "output_type": "stream",
          "text": [
            "11 es un número impar\n"
          ],
          "name": "stdout"
        }
      ]
    },
    {
      "cell_type": "code",
      "metadata": {
        "id": "pBBhmLFOWWLR",
        "outputId": "c44a76f0-2ab2-4687-9c57-ee47fd8d1c1f"
      },
      "source": [
        "if 0:\n",
        "    print(\"Se reconoce como TRUE\")\n",
        "else: \n",
        "    print(\"Se reconoce como FALSE\")"
      ],
      "execution_count": null,
      "outputs": [
        {
          "output_type": "stream",
          "text": [
            "Se reconoce como FALSE\n"
          ],
          "name": "stdout"
        }
      ]
    },
    {
      "cell_type": "code",
      "metadata": {
        "id": "yr8kkn-rWWLR",
        "outputId": "665bd70f-2c2e-4fc7-c9f4-71b7141fef56"
      },
      "source": [
        "if 1:\n",
        "    print(\"Se reconoce como TRUE\")\n",
        "else: \n",
        "    print(\"Se reconoce como FALSE\")"
      ],
      "execution_count": null,
      "outputs": [
        {
          "output_type": "stream",
          "text": [
            "Se reconoce como TRUE\n"
          ],
          "name": "stdout"
        }
      ]
    },
    {
      "cell_type": "code",
      "metadata": {
        "id": "NmV4nRBUWWLR",
        "outputId": "a6ab9378-addf-4e0f-c2db-b827353b9fd4"
      },
      "source": [
        "if 3.1415:\n",
        "    print(\"Se reconoce como TRUE\")\n",
        "else: \n",
        "    print(\"Se reconoce como FALSE\")"
      ],
      "execution_count": null,
      "outputs": [
        {
          "output_type": "stream",
          "text": [
            "Se reconoce como TRUE\n"
          ],
          "name": "stdout"
        }
      ]
    },
    {
      "cell_type": "code",
      "metadata": {
        "id": "NhPfpVk1WWLR",
        "outputId": "1bcdb116-57fa-4adf-c099-8c786559ac18"
      },
      "source": [
        "if -0.25:\n",
        "    print(\"Se reconoce como TRUE\")\n",
        "else: \n",
        "    print(\"Se reconoce como FALSE\")"
      ],
      "execution_count": null,
      "outputs": [
        {
          "output_type": "stream",
          "text": [
            "Se reconoce como TRUE\n"
          ],
          "name": "stdout"
        }
      ]
    },
    {
      "cell_type": "markdown",
      "metadata": {
        "id": "U13sDcIo-XzD"
      },
      "source": [
        "### Sentencia *elif*"
      ]
    },
    {
      "cell_type": "markdown",
      "metadata": {
        "id": "kwgxqlIf9Nrt"
      },
      "source": [
        "La sentencia **elif** es útil al evaluar múltiples condiciones"
      ]
    },
    {
      "cell_type": "code",
      "metadata": {
        "colab": {
          "base_uri": "https://localhost:8080/",
          "height": 35
        },
        "id": "HCSW0wOo9UbI",
        "outputId": "40ab43f1-e73a-4463-fc84-5563e7082eb7"
      },
      "source": [
        "comando = \"SALUDAR\"\n",
        "\n",
        "if comando == \"ENTRAR\":\n",
        "    print(\"Bienvenido al sistema\")\n",
        "elif comando == \"SALUDAR\":\n",
        "    print(\"Hola, espero que te lo estés pasando bien aprendiendo Python\")\n",
        "elif comando == \"SALIR\":\n",
        "    print(\"Saliendo del sistema...\")\n",
        "else:\n",
        "    print(\"Este comando no se reconoce\")"
      ],
      "execution_count": null,
      "outputs": [
        {
          "output_type": "stream",
          "text": [
            "Hola, espero que te lo estés pasando bien aprendiendo Python\n"
          ],
          "name": "stdout"
        }
      ]
    },
    {
      "cell_type": "code",
      "metadata": {
        "colab": {
          "base_uri": "https://localhost:8080/",
          "height": 52
        },
        "id": "plOfsKQx9XxO",
        "outputId": "718c932f-eb52-4939-e9cf-2554fbd66327"
      },
      "source": [
        "nota = float(input(\"Introduce una calificación entre 0 y 10: \"))\n",
        "\n",
        "if nota >= 9:\n",
        "    print(\"Sobresaliente\")\n",
        "elif nota >= 7:\n",
        "    print(\"Notable\")\n",
        "elif nota >= 6:\n",
        "    print(\"Bien\")\n",
        "elif nota >= 5:\n",
        "    print(\"Suficiente\")\n",
        "else:\n",
        "    print(\"Insuficiente\")"
      ],
      "execution_count": null,
      "outputs": [
        {
          "output_type": "stream",
          "text": [
            "Introduce una calificación entre 0 y 10: 8\n",
            "Notable\n"
          ],
          "name": "stdout"
        }
      ]
    },
    {
      "cell_type": "markdown",
      "metadata": {
        "id": "kQ1I-uow-ll_"
      },
      "source": [
        "## Ciclos\n"
      ]
    },
    {
      "cell_type": "markdown",
      "metadata": {
        "id": "tqY5vsCR-oSj"
      },
      "source": [
        "### Ciclo *for*"
      ]
    },
    {
      "cell_type": "markdown",
      "metadata": {
        "id": "e0Pws1Rr-sNc"
      },
      "source": [
        "En general, un bucle es una estructura de control que repite un bloque de instrucciones. Un bucle for es un bucle que repite el bloque de instrucciones un número predeterminado de veces. El bloque de instrucciones que se repite se suele llamar cuerpo del bucle y cada repetición se suele llamar iteración.\n",
        "\n",
        "La sintaxis de un bucle for es la siguiente:\n",
        "\n",
        "\n",
        "\n",
        "for variable in elemento iterable (lista, cadena, range, etc.):\n",
        "\n",
        "    cuerpo del bucle\n",
        "\n",
        "\n",
        "No es necesario definir la variable de control antes del bucle, aunque se puede utilizar como variable de control una variable ya definida en el programa.El cuerpo del bucle se ejecuta tantas veces como elementos tenga el elemento recorrible (elementos de una lista o de un range(), caracteres de una cadena, etc.)."
      ]
    },
    {
      "cell_type": "code",
      "metadata": {
        "colab": {
          "base_uri": "https://localhost:8080/",
          "height": 69
        },
        "id": "Rg-DZzoQ-j4Z",
        "outputId": "6f7e7bdd-440e-4325-d8d0-0274bea3fa12"
      },
      "source": [
        "## ciclo  for 1\n",
        "\n",
        "print(\"Comienzo\")\n",
        "for i in [0, 1, 2]:\n",
        "    print(\"Hola \", end=\"\\t\")\n",
        "print(\"\\nFinal\")"
      ],
      "execution_count": null,
      "outputs": [
        {
          "output_type": "stream",
          "text": [
            "Comienzo\n",
            "Hola \tHola \tHola \t\n",
            "Final\n"
          ],
          "name": "stdout"
        }
      ]
    },
    {
      "cell_type": "code",
      "metadata": {
        "colab": {
          "base_uri": "https://localhost:8080/",
          "height": 35
        },
        "id": "PWqRQrEzfm-R",
        "outputId": "f2a1b330-bda9-4580-b6db-4ca8e3204ee3"
      },
      "source": [
        "print(range(7))\n",
        "print(range(2,10))\n",
        "print(list(range(7)))\n",
        "help(range)"
      ],
      "execution_count": null,
      "outputs": [
        {
          "output_type": "stream",
          "text": [
            "range(0, 7)\n",
            "range(2, 10)\n",
            "[0, 1, 2, 3, 4, 5, 6]\n",
            "Help on class range in module builtins:\n",
            "\n",
            "class range(object)\n",
            " |  range(stop) -> range object\n",
            " |  range(start, stop[, step]) -> range object\n",
            " |  \n",
            " |  Return an object that produces a sequence of integers from start (inclusive)\n",
            " |  to stop (exclusive) by step.  range(i, j) produces i, i+1, i+2, ..., j-1.\n",
            " |  start defaults to 0, and stop is omitted!  range(4) produces 0, 1, 2, 3.\n",
            " |  These are exactly the valid indices for a list of 4 elements.\n",
            " |  When step is given, it specifies the increment (or decrement).\n",
            " |  \n",
            " |  Methods defined here:\n",
            " |  \n",
            " |  __bool__(self, /)\n",
            " |      self != 0\n",
            " |  \n",
            " |  __contains__(self, key, /)\n",
            " |      Return key in self.\n",
            " |  \n",
            " |  __eq__(self, value, /)\n",
            " |      Return self==value.\n",
            " |  \n",
            " |  __ge__(self, value, /)\n",
            " |      Return self>=value.\n",
            " |  \n",
            " |  __getattribute__(self, name, /)\n",
            " |      Return getattr(self, name).\n",
            " |  \n",
            " |  __getitem__(self, key, /)\n",
            " |      Return self[key].\n",
            " |  \n",
            " |  __gt__(self, value, /)\n",
            " |      Return self>value.\n",
            " |  \n",
            " |  __hash__(self, /)\n",
            " |      Return hash(self).\n",
            " |  \n",
            " |  __iter__(self, /)\n",
            " |      Implement iter(self).\n",
            " |  \n",
            " |  __le__(self, value, /)\n",
            " |      Return self<=value.\n",
            " |  \n",
            " |  __len__(self, /)\n",
            " |      Return len(self).\n",
            " |  \n",
            " |  __lt__(self, value, /)\n",
            " |      Return self<value.\n",
            " |  \n",
            " |  __ne__(self, value, /)\n",
            " |      Return self!=value.\n",
            " |  \n",
            " |  __reduce__(...)\n",
            " |      Helper for pickle.\n",
            " |  \n",
            " |  __repr__(self, /)\n",
            " |      Return repr(self).\n",
            " |  \n",
            " |  __reversed__(...)\n",
            " |      Return a reverse iterator.\n",
            " |  \n",
            " |  count(...)\n",
            " |      rangeobject.count(value) -> integer -- return number of occurrences of value\n",
            " |  \n",
            " |  index(...)\n",
            " |      rangeobject.index(value) -> integer -- return index of value.\n",
            " |      Raise ValueError if the value is not present.\n",
            " |  \n",
            " |  ----------------------------------------------------------------------\n",
            " |  Static methods defined here:\n",
            " |  \n",
            " |  __new__(*args, **kwargs) from builtins.type\n",
            " |      Create and return a new object.  See help(type) for accurate signature.\n",
            " |  \n",
            " |  ----------------------------------------------------------------------\n",
            " |  Data descriptors defined here:\n",
            " |  \n",
            " |  start\n",
            " |  \n",
            " |  step\n",
            " |  \n",
            " |  stop\n",
            "\n"
          ],
          "name": "stdout"
        }
      ]
    },
    {
      "cell_type": "code",
      "metadata": {
        "id": "B4bkcv_jHDh6",
        "outputId": "09d17581-b09b-45c4-f504-a9121f79048d"
      },
      "source": [
        "# ciclo for 2 iterar sobre posiciones\n",
        "\n",
        "pares=[2,4,6,8,10,12,14,16,18]\n",
        "\n",
        "\n",
        "for i in range(len(pares)):\n",
        "    print('la posición {} está ocupada por {}'.format(i, pares[i]) )\n",
        " \n",
        "\n"
      ],
      "execution_count": null,
      "outputs": [
        {
          "output_type": "stream",
          "text": [
            "la posición 0 está ocupada por 2\n",
            "la posición 1 está ocupada por 4\n",
            "la posición 2 está ocupada por 6\n",
            "la posición 3 está ocupada por 8\n",
            "la posición 4 está ocupada por 10\n",
            "la posición 5 está ocupada por 12\n",
            "la posición 6 está ocupada por 14\n",
            "la posición 7 está ocupada por 16\n",
            "la posición 8 está ocupada por 18\n"
          ],
          "name": "stdout"
        }
      ]
    },
    {
      "cell_type": "code",
      "metadata": {
        "id": "eIZFWatQH2Um",
        "outputId": "27df7776-6081-4fe0-e440-a4ff99e2bc96"
      },
      "source": [
        "# ciclo por elementos\n",
        "i=0\n",
        "\n",
        "for par in pares:\n",
        "    print('la posición {} está ocupada por {}'.format(i, par))\n",
        "    i+=1"
      ],
      "execution_count": null,
      "outputs": [
        {
          "output_type": "stream",
          "text": [
            "la posición 0 está ocupada por 2\n",
            "la posición 1 está ocupada por 4\n",
            "la posición 2 está ocupada por 6\n",
            "la posición 3 está ocupada por 8\n",
            "la posición 4 está ocupada por 10\n",
            "la posición 5 está ocupada por 12\n",
            "la posición 6 está ocupada por 14\n",
            "la posición 7 está ocupada por 16\n",
            "la posición 8 está ocupada por 18\n"
          ],
          "name": "stdout"
        }
      ]
    },
    {
      "cell_type": "code",
      "metadata": {
        "colab": {
          "base_uri": "https://localhost:8080/",
          "height": 35
        },
        "id": "XJBihnfWhLox",
        "outputId": "3a86ac66-121c-4a9a-ec5f-7dec2da22cbf"
      },
      "source": [
        "enumerate(pares)"
      ],
      "execution_count": null,
      "outputs": [
        {
          "output_type": "execute_result",
          "data": {
            "text/plain": [
              "<enumerate at 0x257c4784bd8>"
            ]
          },
          "metadata": {
            "tags": []
          },
          "execution_count": 17
        }
      ]
    },
    {
      "cell_type": "code",
      "metadata": {
        "colab": {
          "base_uri": "https://localhost:8080/",
          "height": 170
        },
        "id": "tET7bZncOKJG",
        "outputId": "1bd92108-0be5-4def-8ef0-b6ce4e8b3cf2"
      },
      "source": [
        "for posicion,par in enumerate(pares):\n",
        "    print('la posición {} está ocupada por {}'.format(posicion, par))"
      ],
      "execution_count": null,
      "outputs": [
        {
          "output_type": "stream",
          "text": [
            "la posición 0 está ocupada por 2\n",
            "la posición 1 está ocupada por 4\n",
            "la posición 2 está ocupada por 6\n",
            "la posición 3 está ocupada por 8\n",
            "la posición 4 está ocupada por 10\n",
            "la posición 5 está ocupada por 12\n",
            "la posición 6 está ocupada por 14\n",
            "la posición 7 está ocupada por 16\n",
            "la posición 8 está ocupada por 18\n"
          ],
          "name": "stdout"
        }
      ]
    },
    {
      "cell_type": "code",
      "metadata": {
        "colab": {
          "base_uri": "https://localhost:8080/",
          "height": 306
        },
        "id": "HwsR9-I9ImDR",
        "outputId": "380b102f-f898-41e4-af1c-9eddc413d824"
      },
      "source": [
        "# ciclo for anidado\n",
        "\n",
        "pares=[2,4,6,8,10,12,14,16,18]\n",
        "impares=[1,3,5,7,9,11,13,15,17,19]\n",
        "salto=1\n",
        "\n",
        "for par in pares:\n",
        "    for impar in impares:\n",
        "        if salto%5!=0:\n",
        "            print(par*impar, end=', ')\n",
        "        else:\n",
        "            print(par*impar, end=' ')\n",
        "            print('son cinco números')\n",
        "        salto+=1"
      ],
      "execution_count": null,
      "outputs": [
        {
          "output_type": "stream",
          "text": [
            "2, 6, 10, 14, 18 son cinco números\n",
            "22, 26, 30, 34, 38 son cinco números\n",
            "4, 12, 20, 28, 36 son cinco números\n",
            "44, 52, 60, 68, 76 son cinco números\n",
            "6, 18, 30, 42, 54 son cinco números\n",
            "66, 78, 90, 102, 114 son cinco números\n",
            "8, 24, 40, 56, 72 son cinco números\n",
            "88, 104, 120, 136, 152 son cinco números\n",
            "10, 30, 50, 70, 90 son cinco números\n",
            "110, 130, 150, 170, 190 son cinco números\n",
            "12, 36, 60, 84, 108 son cinco números\n",
            "132, 156, 180, 204, 228 son cinco números\n",
            "14, 42, 70, 98, 126 son cinco números\n",
            "154, 182, 210, 238, 266 son cinco números\n",
            "16, 48, 80, 112, 144 son cinco números\n",
            "176, 208, 240, 272, 304 son cinco números\n",
            "18, 54, 90, 126, 162 son cinco números\n",
            "198, 234, 270, 306, 342 son cinco números\n"
          ],
          "name": "stdout"
        }
      ]
    },
    {
      "cell_type": "code",
      "metadata": {
        "colab": {
          "base_uri": "https://localhost:8080/",
          "height": 35
        },
        "id": "5AYAtw2lI6WQ",
        "outputId": "144215f6-c865-4ae5-a0be-9f72f09ba0c1"
      },
      "source": [
        "# Uso del zip\n",
        "pares=[2,4,6,8,10,12,14,16,18]\n",
        "impares=[1,3,5,7,9,11,13,15,17]\n",
        "for par, impar in zip(pares,impares):\n",
        "    print('{} {}'.format(par,impar))\n",
        "\n",
        "pares=[2,4,6,8,10,12,14,16,18]\n",
        "impares=[1,3,5,7,9,11,13,15,17,19]\n",
        "for par, impar in zip(pares,impares):\n",
        "    print('{} {}'.format(par,impar))"
      ],
      "execution_count": null,
      "outputs": [
        {
          "output_type": "stream",
          "text": [
            "2 1\n",
            "4 3\n",
            "6 5\n",
            "8 7\n",
            "10 9\n",
            "12 11\n",
            "14 13\n",
            "16 15\n",
            "18 17\n",
            "2 1\n",
            "4 3\n",
            "6 5\n",
            "8 7\n",
            "10 9\n",
            "12 11\n",
            "14 13\n",
            "16 15\n",
            "18 17\n"
          ],
          "name": "stdout"
        }
      ]
    },
    {
      "cell_type": "code",
      "metadata": {
        "colab": {
          "base_uri": "https://localhost:8080/",
          "height": 697
        },
        "id": "9npyIElJk55V",
        "outputId": "6a2652b2-6026-4e6d-d4b1-4f8957fd0cd3"
      },
      "source": [
        "mylist=[]\n",
        "for i in range(1,41):\n",
        "    mylist.append(i**2)\n",
        "\n",
        "mylist"
      ],
      "execution_count": null,
      "outputs": [
        {
          "output_type": "execute_result",
          "data": {
            "text/plain": [
              "[1,\n",
              " 4,\n",
              " 9,\n",
              " 16,\n",
              " 25,\n",
              " 36,\n",
              " 49,\n",
              " 64,\n",
              " 81,\n",
              " 100,\n",
              " 121,\n",
              " 144,\n",
              " 169,\n",
              " 196,\n",
              " 225,\n",
              " 256,\n",
              " 289,\n",
              " 324,\n",
              " 361,\n",
              " 400,\n",
              " 441,\n",
              " 484,\n",
              " 529,\n",
              " 576,\n",
              " 625,\n",
              " 676,\n",
              " 729,\n",
              " 784,\n",
              " 841,\n",
              " 900,\n",
              " 961,\n",
              " 1024,\n",
              " 1089,\n",
              " 1156,\n",
              " 1225,\n",
              " 1296,\n",
              " 1369,\n",
              " 1444,\n",
              " 1521,\n",
              " 1600]"
            ]
          },
          "metadata": {
            "tags": []
          },
          "execution_count": 21
        }
      ]
    },
    {
      "cell_type": "markdown",
      "metadata": {
        "id": "OTBMTuD8Kfha"
      },
      "source": [
        "\n",
        "\n",
        "Los ciclos for suelen ser  útiles para 'llenar' secuencias en python"
      ]
    },
    {
      "cell_type": "code",
      "metadata": {
        "id": "L-kLgsW3oItC",
        "outputId": "11ea9175-6bd3-4bdc-cae5-4b341d271acf"
      },
      "source": [
        "# Agregar a una lista los múltiplos de 7 menores a 600\n",
        "\n",
        "num=7\n",
        "limsup=600\n",
        "\n",
        "mylist=[]\n",
        "for i in range(1,limsup+1):\n",
        "    if i%num==0:\n",
        "        mylist.append(i)\n",
        "    \n",
        "mylist    \n",
        "\n"
      ],
      "execution_count": null,
      "outputs": [
        {
          "output_type": "execute_result",
          "data": {
            "text/plain": [
              "[7,\n",
              " 14,\n",
              " 21,\n",
              " 28,\n",
              " 35,\n",
              " 42,\n",
              " 49,\n",
              " 56,\n",
              " 63,\n",
              " 70,\n",
              " 77,\n",
              " 84,\n",
              " 91,\n",
              " 98,\n",
              " 105,\n",
              " 112,\n",
              " 119,\n",
              " 126,\n",
              " 133,\n",
              " 140,\n",
              " 147,\n",
              " 154,\n",
              " 161,\n",
              " 168,\n",
              " 175,\n",
              " 182,\n",
              " 189,\n",
              " 196,\n",
              " 203,\n",
              " 210,\n",
              " 217,\n",
              " 224,\n",
              " 231,\n",
              " 238,\n",
              " 245,\n",
              " 252,\n",
              " 259,\n",
              " 266,\n",
              " 273,\n",
              " 280,\n",
              " 287,\n",
              " 294,\n",
              " 301,\n",
              " 308,\n",
              " 315,\n",
              " 322,\n",
              " 329,\n",
              " 336,\n",
              " 343,\n",
              " 350,\n",
              " 357,\n",
              " 364,\n",
              " 371,\n",
              " 378,\n",
              " 385,\n",
              " 392,\n",
              " 399,\n",
              " 406,\n",
              " 413,\n",
              " 420,\n",
              " 427,\n",
              " 434,\n",
              " 441,\n",
              " 448,\n",
              " 455,\n",
              " 462,\n",
              " 469,\n",
              " 476,\n",
              " 483,\n",
              " 490,\n",
              " 497,\n",
              " 504,\n",
              " 511,\n",
              " 518,\n",
              " 525,\n",
              " 532,\n",
              " 539,\n",
              " 546,\n",
              " 553,\n",
              " 560,\n",
              " 567,\n",
              " 574,\n",
              " 581,\n",
              " 588,\n",
              " 595]"
            ]
          },
          "metadata": {
            "tags": []
          },
          "execution_count": 22
        }
      ]
    },
    {
      "cell_type": "code",
      "metadata": {
        "id": "Mj4NCmXMoq9C",
        "outputId": "8fe299ea-04f3-4df7-99f0-eec4b9761bc1"
      },
      "source": [
        "mylist=[]\n",
        "lim2=limsup//num + 1\n",
        "for i in range(1,lim2+1):\n",
        "  if 7*i<600:\n",
        "    mylist.append(7*i)\n",
        "\n",
        "mylist"
      ],
      "execution_count": null,
      "outputs": [
        {
          "output_type": "execute_result",
          "data": {
            "text/plain": [
              "[7,\n",
              " 14,\n",
              " 21,\n",
              " 28,\n",
              " 35,\n",
              " 42,\n",
              " 49,\n",
              " 56,\n",
              " 63,\n",
              " 70,\n",
              " 77,\n",
              " 84,\n",
              " 91,\n",
              " 98,\n",
              " 105,\n",
              " 112,\n",
              " 119,\n",
              " 126,\n",
              " 133,\n",
              " 140,\n",
              " 147,\n",
              " 154,\n",
              " 161,\n",
              " 168,\n",
              " 175,\n",
              " 182,\n",
              " 189,\n",
              " 196,\n",
              " 203,\n",
              " 210,\n",
              " 217,\n",
              " 224,\n",
              " 231,\n",
              " 238,\n",
              " 245,\n",
              " 252,\n",
              " 259,\n",
              " 266,\n",
              " 273,\n",
              " 280,\n",
              " 287,\n",
              " 294,\n",
              " 301,\n",
              " 308,\n",
              " 315,\n",
              " 322,\n",
              " 329,\n",
              " 336,\n",
              " 343,\n",
              " 350,\n",
              " 357,\n",
              " 364,\n",
              " 371,\n",
              " 378,\n",
              " 385,\n",
              " 392,\n",
              " 399,\n",
              " 406,\n",
              " 413,\n",
              " 420,\n",
              " 427,\n",
              " 434,\n",
              " 441,\n",
              " 448,\n",
              " 455,\n",
              " 462,\n",
              " 469,\n",
              " 476,\n",
              " 483,\n",
              " 490,\n",
              " 497,\n",
              " 504,\n",
              " 511,\n",
              " 518,\n",
              " 525,\n",
              " 532,\n",
              " 539,\n",
              " 546,\n",
              " 553,\n",
              " 560,\n",
              " 567,\n",
              " 574,\n",
              " 581,\n",
              " 588,\n",
              " 595]"
            ]
          },
          "metadata": {
            "tags": []
          },
          "execution_count": 23
        }
      ]
    },
    {
      "cell_type": "code",
      "metadata": {
        "colab": {
          "base_uri": "https://localhost:8080/",
          "height": 54
        },
        "id": "za_nIhQaJ7-T",
        "outputId": "821e75dc-e26d-4551-d410-79651e19445f"
      },
      "source": [
        "# Llenar una lista con los cuadrados de los primeros 40 naturales\n",
        "\n",
        "mylist=[0]*40 # lista con 40 ceros\n",
        "\n",
        "for i in range(40): # Llenar la lista posición a posición\n",
        "    mylist[i]= pow(i+1,2)  \n",
        "\n",
        "print(mylist)"
      ],
      "execution_count": null,
      "outputs": [
        {
          "output_type": "stream",
          "text": [
            "[1, 4, 9, 16, 25, 36, 49, 64, 81, 100, 121, 144, 169, 196, 225, 256, 289, 324, 361, 400, 441, 484, 529, 576, 625, 676, 729, 784, 841, 900, 961, 1024, 1089, 1156, 1225, 1296, 1369, 1444, 1521, 1600]\n"
          ],
          "name": "stdout"
        }
      ]
    },
    {
      "cell_type": "code",
      "metadata": {
        "colab": {
          "base_uri": "https://localhost:8080/",
          "height": 54
        },
        "id": "JBupQB-RMzMS",
        "outputId": "447181fd-59ce-4113-a3a0-a25d6ca0a772"
      },
      "source": [
        "# Otra forma\n",
        "mylist=list() # crear una lista vacía\n",
        "for i in range(1,41): # Llenar la lista posición a posición\n",
        "    mylist.append(pow(i,2))  # usando el método append\n",
        "\n",
        "print(mylist)"
      ],
      "execution_count": null,
      "outputs": [
        {
          "output_type": "stream",
          "text": [
            "[1, 4, 9, 16, 25, 36, 49, 64, 81, 100, 121, 144, 169, 196, 225, 256, 289, 324, 361, 400, 441, 484, 529, 576, 625, 676, 729, 784, 841, 900, 961, 1024, 1089, 1156, 1225, 1296, 1369, 1444, 1521, 1600]\n"
          ],
          "name": "stdout"
        }
      ]
    },
    {
      "cell_type": "code",
      "metadata": {
        "id": "pAhxyYsELFlL",
        "outputId": "2895fef3-5a0c-4fe4-921e-978d604173d8"
      },
      "source": [
        "\n",
        "# Llenar un diccionario con los primeros 20 impares como llave y como valor su cuadrado\n",
        "\n",
        "my_dict=dict() # Crear diccionario vacio\n",
        "\n",
        "for key, value in zip(range(1,41), mylist):\n",
        "    if key%2: #llenar impares ¿por qué funciona?\n",
        "        my_dict[key]=value\n",
        "        print('{}:{}'.format(key,my_dict[key]))"
      ],
      "execution_count": null,
      "outputs": [
        {
          "output_type": "stream",
          "text": [
            "1:1\n",
            "3:9\n",
            "5:25\n",
            "7:49\n",
            "9:81\n",
            "11:121\n",
            "13:169\n",
            "15:225\n",
            "17:289\n",
            "19:361\n",
            "21:441\n",
            "23:529\n",
            "25:625\n",
            "27:729\n",
            "29:841\n",
            "31:961\n",
            "33:1089\n",
            "35:1225\n",
            "37:1369\n",
            "39:1521\n"
          ],
          "name": "stdout"
        }
      ]
    },
    {
      "cell_type": "markdown",
      "metadata": {
        "id": "ifUbikNFRRI4"
      },
      "source": [
        "### list comprehension\n",
        "\n",
        "Esta sintaxis permite llenar con mayor facilidad secuencias "
      ]
    },
    {
      "cell_type": "code",
      "metadata": {
        "id": "2BILnV-DRgPq",
        "outputId": "e18d2f18-4b11-4d6e-a069-e4d7e00b26ed"
      },
      "source": [
        "# Llenar una lista con los cuadrados de los primeros 40 naturales\n",
        "\n",
        "mylist= [i for i in range(1,41)]\n",
        "\n",
        "print(mylist)"
      ],
      "execution_count": null,
      "outputs": [
        {
          "output_type": "stream",
          "text": [
            "[1, 2, 3, 4, 5, 6, 7, 8, 9, 10, 11, 12, 13, 14, 15, 16, 17, 18, 19, 20, 21, 22, 23, 24, 25, 26, 27, 28, 29, 30, 31, 32, 33, 34, 35, 36, 37, 38, 39, 40]\n"
          ],
          "name": "stdout"
        }
      ]
    },
    {
      "cell_type": "code",
      "metadata": {
        "id": "BOgtJ6wNd9Jl",
        "outputId": "cd577d7f-9da7-4fe5-88ea-e0ead8a5210e"
      },
      "source": [
        "#Poner en una lista los múltiplos de  7 menores a 50\n",
        "\n",
        "[ i for i in range(50) if i%7==0]\n"
      ],
      "execution_count": null,
      "outputs": [
        {
          "output_type": "execute_result",
          "data": {
            "text/plain": [
              "[0, 7, 14, 21, 28, 35, 42, 49]"
            ]
          },
          "metadata": {
            "tags": []
          },
          "execution_count": 28
        }
      ]
    },
    {
      "cell_type": "code",
      "metadata": {
        "colab": {
          "base_uri": "https://localhost:8080/",
          "height": 353
        },
        "id": "MaVt_YfuRl7w",
        "outputId": "7ce7d963-c84f-4cb3-b70f-1135bb36a960"
      },
      "source": [
        "# Llenar un diccionario con los primeros 10 impares como llave y como valor su cuadrado\n",
        "\n",
        "my_dict={key:pow(key,2) for key in range(1,20) if key%2!=0}\n",
        "\n",
        "for key,value in my_dict.items():\n",
        "  print('{}:{}'.format(key,value))\n"
      ],
      "execution_count": null,
      "outputs": [
        {
          "output_type": "stream",
          "text": [
            "1:1\n",
            "3:9\n",
            "5:25\n",
            "7:49\n",
            "9:81\n",
            "11:121\n",
            "13:169\n",
            "15:225\n",
            "17:289\n",
            "19:361\n"
          ],
          "name": "stdout"
        }
      ]
    },
    {
      "cell_type": "code",
      "metadata": {
        "id": "wekt9xDNWWLW",
        "outputId": "7b555066-0246-453a-d8e6-6e66415b7321"
      },
      "source": [
        "# Llenar un diccionario con los primeros 10 impares como llave y como valor su cuadrado\n",
        "\n",
        "my_dict={key:pow(key,2) for key in range(1,20,2) }\n",
        "\n",
        "for key,value in my_dict.items():\n",
        "  print('{}:{}'.format(key,value))\n"
      ],
      "execution_count": null,
      "outputs": [
        {
          "output_type": "stream",
          "text": [
            "1:1\n",
            "3:9\n",
            "5:25\n",
            "7:49\n",
            "9:81\n",
            "11:121\n",
            "13:169\n",
            "15:225\n",
            "17:289\n",
            "19:361\n"
          ],
          "name": "stdout"
        }
      ]
    },
    {
      "cell_type": "code",
      "metadata": {
        "colab": {
          "base_uri": "https://localhost:8080/",
          "height": 319
        },
        "id": "2TwszUK2fqVu",
        "outputId": "c83accce-c674-430a-ca4a-2a3e66c3d471"
      },
      "source": [
        "# Crear una lista con todas las posibles combinaciones a+b+c con a,b y c en el rango de 1 al 5, tal que\n",
        "# a + b + c sea menor que 12 y a, b sean pares\n",
        "\n",
        "r=range(1,6)\n",
        "[[a,b,c] for a in r for b in r for c in r if a+c+b<12 if a%2==0 and b%2==0]"
      ],
      "execution_count": null,
      "outputs": [
        {
          "output_type": "execute_result",
          "data": {
            "text/plain": [
              "[[2, 2, 1],\n",
              " [2, 2, 2],\n",
              " [2, 2, 3],\n",
              " [2, 2, 4],\n",
              " [2, 2, 5],\n",
              " [2, 4, 1],\n",
              " [2, 4, 2],\n",
              " [2, 4, 3],\n",
              " [2, 4, 4],\n",
              " [2, 4, 5],\n",
              " [4, 2, 1],\n",
              " [4, 2, 2],\n",
              " [4, 2, 3],\n",
              " [4, 2, 4],\n",
              " [4, 2, 5],\n",
              " [4, 4, 1],\n",
              " [4, 4, 2],\n",
              " [4, 4, 3]]"
            ]
          },
          "metadata": {
            "tags": []
          },
          "execution_count": 31
        }
      ]
    },
    {
      "cell_type": "code",
      "metadata": {
        "id": "6qiiXF-Fi_Ie"
      },
      "source": [
        "articulos=['abaco','tijeras','pegamento','borrador','tajador','lápiz','pluma','pegamento']\n",
        "cantidades=[i for i in range(len(articulos))]\n",
        "precios=[2*i+1 for i in range(3,11)]"
      ],
      "execution_count": null,
      "outputs": []
    },
    {
      "cell_type": "code",
      "metadata": {
        "colab": {
          "base_uri": "https://localhost:8080/",
          "height": 134
        },
        "id": "BgYVSXL7jwM9",
        "outputId": "b34005a5-5e1d-4665-8303-5b75be0ed70d"
      },
      "source": [
        "# Generar un diccionario\n",
        "#articulo:[cantidad, precio, valor]\n",
        "\n",
        "mydict={articulo:[cantidad,precio,cantidad*precio] for articulo,cantidad,precio in zip(articulos,cantidades,precios)}\n",
        "\n",
        "for key, values in mydict.items():\n",
        "  print('{}:{}'.format(key,values))"
      ],
      "execution_count": null,
      "outputs": [
        {
          "output_type": "stream",
          "text": [
            "abaco:[0, 7, 0]\n",
            "tijeras:[1, 9, 9]\n",
            "pegamento:[7, 21, 147]\n",
            "borrador:[3, 13, 39]\n",
            "tajador:[4, 15, 60]\n",
            "lápiz:[5, 17, 85]\n",
            "pluma:[6, 19, 114]\n"
          ],
          "name": "stdout"
        }
      ]
    },
    {
      "cell_type": "markdown",
      "metadata": {
        "id": "29Lk4IbHS2zU"
      },
      "source": [
        "*List comprehesión* permite crear tuplas "
      ]
    },
    {
      "cell_type": "code",
      "metadata": {
        "colab": {
          "base_uri": "https://localhost:8080/",
          "height": 34
        },
        "id": "ikbNn4uZTWBe",
        "outputId": "9312c261-8971-427c-e083-9d37a07491e5"
      },
      "source": [
        "n=4\n",
        "my_tuple=tuple(x*y for x, y in zip(range(5,30), range(20,120,4)))\n",
        "print(my_tuple)"
      ],
      "execution_count": null,
      "outputs": [
        {
          "output_type": "stream",
          "text": [
            "(100, 144, 196, 256, 324, 400, 484, 576, 676, 784, 900, 1024, 1156, 1296, 1444, 1600, 1764, 1936, 2116, 2304, 2500, 2704, 2916, 3136, 3364)\n"
          ],
          "name": "stdout"
        }
      ]
    },
    {
      "cell_type": "markdown",
      "metadata": {
        "id": "Pn8Cf0ETVLu_"
      },
      "source": [
        "## Ciclo *while*"
      ]
    },
    {
      "cell_type": "markdown",
      "metadata": {
        "id": "bCxvy6oIXn6y"
      },
      "source": [
        "Iterar significa realizar una acción varias veces. Cada vez que se repite se denomina iteración. Debe indicarse un criterio de paro"
      ]
    },
    {
      "cell_type": "code",
      "metadata": {
        "colab": {
          "base_uri": "https://localhost:8080/",
          "height": 204
        },
        "id": "h91FpR9zT-II",
        "outputId": "add3629b-8f51-4930-d235-c11ab6a53a0f"
      },
      "source": [
        "c = 0\n",
        "while c <= 10:\n",
        "    c+=1\n",
        "    print(\"c vale: \", c)"
      ],
      "execution_count": null,
      "outputs": [
        {
          "output_type": "stream",
          "text": [
            "c vale:  1\n",
            "c vale:  2\n",
            "c vale:  3\n",
            "c vale:  4\n",
            "c vale:  5\n",
            "c vale:  6\n",
            "c vale:  7\n",
            "c vale:  8\n",
            "c vale:  9\n",
            "c vale:  10\n",
            "c vale:  11\n"
          ],
          "name": "stdout"
        }
      ]
    },
    {
      "cell_type": "code",
      "metadata": {
        "id": "ZPzX2VUJX1He",
        "outputId": "c1fb0d9d-bd60-467b-8a4c-d6c57f3bd6cf"
      },
      "source": [
        "# Puede usarse la sentencia else junto con el ciclo while. Esto funciona para indicar que la condición ya no se cumple\n",
        "\n",
        "c = 0\n",
        "while c <= 5:\n",
        "    c+=1\n",
        "    print(\"c vale\", c)\n",
        "else:\n",
        "    print(\"Se ha completado toda la iteración y c vale\", c)"
      ],
      "execution_count": null,
      "outputs": [
        {
          "output_type": "stream",
          "text": [
            "c vale 1\n",
            "c vale 2\n",
            "c vale 3\n",
            "c vale 4\n",
            "c vale 5\n",
            "c vale 6\n",
            "Se ha completado toda la iteración y c vale 6\n"
          ],
          "name": "stdout"
        }
      ]
    },
    {
      "cell_type": "code",
      "metadata": {
        "colab": {
          "base_uri": "https://localhost:8080/",
          "height": 101
        },
        "id": "bEh2Z5OnYQtM",
        "outputId": "4ecf7271-e013-47f8-85f8-938673017467"
      },
      "source": [
        "# La instrucción break sirve para \"romper\" la ejecución del While en cualquier momento. No se ejecutará el Else, ya que éste sólo se llama al finalizar la iteración\n",
        "\n",
        "c = 2\n",
        "while c <= 8:\n",
        "    c+=1\n",
        "    if (c==4):\n",
        "        print(\"Rompemos el bucle cuando c vale\", c)\n",
        "        break\n",
        "    print(\"c vale\",c)\n",
        "else:\n",
        "    print(\"Se ha completado toda la iteración y c vale\", c)"
      ],
      "execution_count": null,
      "outputs": [
        {
          "output_type": "stream",
          "text": [
            "c vale 3\n",
            "Rompemos el bucle cuando c vale 4\n"
          ],
          "name": "stdout"
        }
      ]
    },
    {
      "cell_type": "code",
      "metadata": {
        "id": "JzdYeGnfWWLY",
        "outputId": "65030d56-e226-4d73-f541-3e826a097030"
      },
      "source": [
        "# La instrucción break sirve para \"romper\" la ejecución del While en cualquier momento. No se ejecutará el Else, ya que éste sólo se llama al finalizar la iteración\n",
        "\n",
        "c = 4\n",
        "while c <= 8:\n",
        "    c+=1\n",
        "    if (c==4):\n",
        "        print(\"Rompemos el bucle cuando c vale\", c)\n",
        "        break\n",
        "    print(\"c vale\",c)\n",
        "else:\n",
        "    print(\"Se ha completado toda la iteración y c vale\", c)"
      ],
      "execution_count": null,
      "outputs": [
        {
          "output_type": "stream",
          "text": [
            "c vale 5\n",
            "c vale 6\n",
            "c vale 7\n",
            "c vale 8\n",
            "c vale 9\n",
            "Se ha completado toda la iteración y c vale 9\n"
          ],
          "name": "stdout"
        }
      ]
    },
    {
      "cell_type": "code",
      "metadata": {
        "colab": {
          "base_uri": "https://localhost:8080/",
          "height": 134
        },
        "id": "eGBafJEyYhLQ",
        "outputId": "ee750d75-3e8b-438e-bac6-78efb8525be8"
      },
      "source": [
        "# La instruccion continue sirve para \"saltarse\" la iteración actual sin romper el bucle.\n",
        "\n",
        "c = 0\n",
        "\n",
        "while c <= 5:\n",
        "    c+=1\n",
        "    if c==3 or c==4:\n",
        "        print(\"Continuamos con la siguiente iteración\", c)\n",
        "        continue\n",
        "    print(\"c vale\",c)\n",
        "else:\n",
        "    print(\"Se ha completado toda la iteración y c vale\", c)"
      ],
      "execution_count": null,
      "outputs": [
        {
          "output_type": "stream",
          "text": [
            "c vale 1\n",
            "c vale 2\n",
            "Continuamos con la siguiente iteración 3\n",
            "Continuamos con la siguiente iteración 4\n",
            "c vale 5\n",
            "c vale 6\n",
            "Se ha completado toda la iteración y c vale 6\n"
          ],
          "name": "stdout"
        }
      ]
    }
  ]
}