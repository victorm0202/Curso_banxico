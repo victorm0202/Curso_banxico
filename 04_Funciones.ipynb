{
  "nbformat": 4,
  "nbformat_minor": 0,
  "metadata": {
    "colab": {
      "name": "04_Funciones.ipynb",
      "provenance": [],
      "include_colab_link": true
    },
    "kernelspec": {
      "display_name": "Python 3",
      "language": "python",
      "name": "python3"
    },
    "language_info": {
      "codemirror_mode": {
        "name": "ipython",
        "version": 3
      },
      "file_extension": ".py",
      "mimetype": "text/x-python",
      "name": "python",
      "nbconvert_exporter": "python",
      "pygments_lexer": "ipython3",
      "version": "3.7.4"
    }
  },
  "cells": [
    {
      "cell_type": "markdown",
      "metadata": {
        "id": "view-in-github",
        "colab_type": "text"
      },
      "source": [
        "<a href=\"https://colab.research.google.com/github/victorm0202/Curso_banxico/blob/Python-basics/04_Funciones.ipynb\" target=\"_parent\"><img src=\"https://colab.research.google.com/assets/colab-badge.svg\" alt=\"Open In Colab\"/></a>"
      ]
    },
    {
      "cell_type": "markdown",
      "metadata": {
        "id": "rRp6se6wjzGu"
      },
      "source": [
        "# Funciones\n",
        "\n",
        "Las funciones son fragmentos de código que se pueden ejecutar múltiples veces, además pueden recibir y devolver información para comunicarse con el proceso principal.\n"
      ]
    },
    {
      "cell_type": "markdown",
      "metadata": {
        "id": "wMxpZx3roiUS"
      },
      "source": [
        "### Argumentos"
      ]
    },
    {
      "cell_type": "code",
      "metadata": {
        "id": "CkNFV4KgitU9"
      },
      "source": [
        "# Función simple sin argumentos \n",
        "\n",
        "def saludar():\n",
        "  print(\"¡Hola, ten un buen día!\")\n",
        "\n",
        "def despedirse():\n",
        "  print(\"Me despido nos vemos pronto \")\n",
        "  "
      ],
      "execution_count": null,
      "outputs": []
    },
    {
      "cell_type": "code",
      "metadata": {
        "id": "WyFQ-FBUkwYA",
        "outputId": "af76f085-e00f-4683-a14a-efb7598635a1"
      },
      "source": [
        "saludar()\n",
        "\n",
        "print(\"Es un buen día\")\n",
        "\n",
        "despedirse()"
      ],
      "execution_count": null,
      "outputs": [
        {
          "output_type": "stream",
          "text": [
            "¡Hola, ten un buen día!\n",
            "Es un buen día\n",
            "Me despido nos vemos pronto \n"
          ],
          "name": "stdout"
        }
      ]
    },
    {
      "cell_type": "code",
      "metadata": {
        "id": "IgH35qKGlbsb"
      },
      "source": [
        "def dibujar_tabla_del_5():\n",
        "    for i in range(10):\n",
        "        print(\"5 * {} = {}\".format(i,i*5))\n",
        "\n"
      ],
      "execution_count": null,
      "outputs": []
    },
    {
      "cell_type": "code",
      "metadata": {
        "colab": {
          "base_uri": "https://localhost:8080/",
          "height": 185
        },
        "id": "aNYts6tAl1J2",
        "outputId": "0f9a37a7-7f60-4033-a5eb-cb3eb0f504ec"
      },
      "source": [
        "dibujar_tabla_del_5()"
      ],
      "execution_count": null,
      "outputs": [
        {
          "output_type": "stream",
          "text": [
            "5 * 0 = 0\n",
            "5 * 1 = 5\n",
            "5 * 2 = 10\n",
            "5 * 3 = 15\n",
            "5 * 4 = 20\n",
            "5 * 5 = 25\n",
            "5 * 6 = 30\n",
            "5 * 7 = 35\n",
            "5 * 8 = 40\n",
            "5 * 9 = 45\n"
          ],
          "name": "stdout"
        }
      ]
    },
    {
      "cell_type": "code",
      "metadata": {
        "id": "F3xOg-NAk0cc"
      },
      "source": [
        "# Función simple que recibe argumentos\n",
        "\n",
        "def saludar_personalizado(nombre):\n",
        "  print(\"¡Hola, ten un buen día!, {}\".format(nombre))"
      ],
      "execution_count": null,
      "outputs": []
    },
    {
      "cell_type": "code",
      "metadata": {
        "colab": {
          "base_uri": "https://localhost:8080/",
          "height": 34
        },
        "id": "E167s-vYlVtD",
        "outputId": "54f90ad3-29b3-449c-fcd6-013ca930fbb9"
      },
      "source": [
        "saludar_personalizado('Román')"
      ],
      "execution_count": null,
      "outputs": [
        {
          "output_type": "stream",
          "text": [
            "¡Hola, ten un buen día!, Román\n"
          ],
          "name": "stdout"
        }
      ]
    },
    {
      "cell_type": "code",
      "metadata": {
        "colab": {
          "base_uri": "https://localhost:8080/",
          "height": 34
        },
        "id": "qNUAsU0sraWO",
        "outputId": "e023247a-3312-4f7e-e60f-cccddd4ce0e3"
      },
      "source": [
        "saludar_personalizado(4)"
      ],
      "execution_count": null,
      "outputs": [
        {
          "output_type": "stream",
          "text": [
            "¡Hola, ten un buen día!, 4\n"
          ],
          "name": "stdout"
        }
      ]
    },
    {
      "cell_type": "code",
      "metadata": {
        "id": "e8NZNnEenMuO"
      },
      "source": [
        "# Indicar argumentos por defecto\n",
        "d=20\n",
        "\n",
        "def my_suma(a=18, b=12):\n",
        "  c=a+b+d\n",
        "  print(c)"
      ],
      "execution_count": null,
      "outputs": []
    },
    {
      "cell_type": "code",
      "metadata": {
        "colab": {
          "base_uri": "https://localhost:8080/",
          "height": 67
        },
        "id": "-kO3rjAxnZzb",
        "outputId": "94b5a737-ad1b-493e-8cfc-22c128523c31"
      },
      "source": [
        "my_suma()\n",
        "my_suma(15,2)\n",
        "my_suma(b=50,a=80)\n"
      ],
      "execution_count": null,
      "outputs": [
        {
          "output_type": "stream",
          "text": [
            "50\n",
            "37\n",
            "150\n"
          ],
          "name": "stdout"
        }
      ]
    },
    {
      "cell_type": "markdown",
      "metadata": {
        "id": "u1HCoSbBl_zq"
      },
      "source": [
        "**notas adicionales**\n",
        " \n",
        " *  Una variable declarada en una función no existe en la función principal\n",
        " \n",
        " *  una variable declarada fuera de la función (al mismo nivel), sí que es accesible desde la función\n"
      ]
    },
    {
      "cell_type": "code",
      "metadata": {
        "colab": {
          "base_uri": "https://localhost:8080/",
          "height": 34
        },
        "id": "Apz2Pi0Ul9u7",
        "outputId": "487802f2-e474-4b61-cf55-b78e81391684"
      },
      "source": [
        "a=9\n",
        "b=7\n",
        "\n",
        "def my_foo(c):\n",
        "  print(a+c*b)\n",
        "  \n",
        "my_foo(15)"
      ],
      "execution_count": null,
      "outputs": [
        {
          "output_type": "stream",
          "text": [
            "114\n"
          ],
          "name": "stdout"
        }
      ]
    },
    {
      "cell_type": "code",
      "metadata": {
        "id": "UW2_RVjSn8Va"
      },
      "source": [
        "#"
      ],
      "execution_count": null,
      "outputs": []
    },
    {
      "cell_type": "markdown",
      "metadata": {
        "id": "cOmkDm-Pomjd"
      },
      "source": [
        "### Recursividad\n",
        "\n",
        "Se trata de funciones que se llaman a sí mismas durante su propia ejecución. Funcionan de forma similar a las iteraciones, pero debemos encargarnos de planificar el momento en que dejan de llamarse a sí mismas o tendremos una función rescursiva infinita.\n",
        "\n",
        "Suele utilizarse para dividir una tarea en subtareas más simples de forma que sea más fácil abordar el problema y solucionarlo."
      ]
    },
    {
      "cell_type": "code",
      "metadata": {
        "colab": {
          "base_uri": "https://localhost:8080/",
          "height": 218
        },
        "id": "GZuaEe02tzys",
        "outputId": "c2111ed9-ef0d-459e-96b8-03398ca05391"
      },
      "source": [
        "def cuenta_atras(num):\n",
        "    if num > 0:\n",
        "        print(num)\n",
        "        cuenta_atras(num-1)\n",
        "    else:\n",
        "        print(\"Boooooooom!\")\n",
        "        print(\"Fin de la función\", num)\n",
        "        \n",
        "        \n",
        "cuenta_atras(5)"
      ],
      "execution_count": null,
      "outputs": [
        {
          "output_type": "stream",
          "text": [
            "5\n",
            "4\n",
            "3\n",
            "2\n",
            "1\n",
            "Boooooooom!\n",
            "Fin de la función 0\n"
          ],
          "name": "stdout"
        }
      ]
    },
    {
      "cell_type": "code",
      "metadata": {
        "colab": {
          "base_uri": "https://localhost:8080/",
          "height": 118
        },
        "id": "COMTRQ8tooXn",
        "outputId": "8600749c-6acd-463c-ed1d-b63023f163af"
      },
      "source": [
        "def cuenta_atras(num):\n",
        "    if num > 0:\n",
        "        print(num)\n",
        "        num -= 1\n",
        "        cuenta_atras(num)\n",
        "    else:\n",
        "        print(\"Boooooooom!\")\n",
        "        print(\"Fin de la función\", num)\n",
        "    \n",
        "\n",
        "cuenta_atras(5)"
      ],
      "execution_count": null,
      "outputs": [
        {
          "output_type": "stream",
          "text": [
            "5\n",
            "4\n",
            "3\n",
            "2\n",
            "1\n",
            "Boooooooom!\n",
            "Fin de la función 0\n"
          ],
          "name": "stdout"
        }
      ]
    },
    {
      "cell_type": "markdown",
      "metadata": {
        "id": "ekMAoBB2q8kq"
      },
      "source": [
        "### Funciones con retorno"
      ]
    },
    {
      "cell_type": "code",
      "metadata": {
        "colab": {
          "base_uri": "https://localhost:8080/",
          "height": 50
        },
        "id": "MGOy3nVTr_g4",
        "outputId": "286bc27b-3295-4a01-f53c-19775e4bd09d"
      },
      "source": [
        "# Convertir dolares a pesos\n",
        "\n",
        "\n",
        "def DolarToPesos(dolares, equivalencia_un_dolar=20):\n",
        "    return equivalencia_un_dolar*dolares\n",
        "\n",
        "cambio=17\n",
        "dolares=80\n",
        "print('{}$ equivale a ${}'.format(dolares,DolarToPesos(dolares)))\n",
        "\n",
        "print('{}$ equivale a ${}'.format(dolares,DolarToPesos(dolares,cambio)))\n"
      ],
      "execution_count": null,
      "outputs": [
        {
          "output_type": "stream",
          "text": [
            "80$ equivale a $1600\n",
            "80$ equivale a $1360\n"
          ],
          "name": "stdout"
        }
      ]
    },
    {
      "cell_type": "code",
      "metadata": {
        "colab": {
          "base_uri": "https://localhost:8080/",
          "height": 34
        },
        "id": "lvr4hxvsrEUj",
        "outputId": "e068e9ac-84e4-4b81-dc9b-59302b273717"
      },
      "source": [
        "# Determinar el IVA y propina dada una cuenta  (retorno múltiple)\n",
        "\n",
        "def prop_iva(cuenta, iva=0.16, propina=0.10):\n",
        "    return round(cuenta*iva,2), round(cuenta*propina,0)\n",
        "\n",
        "iva, propina= prop_iva(950.75)\n",
        "\n",
        "print('El iva es de: ${} y  la propina de ${}'.format(iva,propina))"
      ],
      "execution_count": null,
      "outputs": [
        {
          "output_type": "stream",
          "text": [
            "El iva es de: $152.12 y  la propina de $95.0\n"
          ],
          "name": "stdout"
        }
      ]
    },
    {
      "cell_type": "code",
      "metadata": {
        "colab": {
          "base_uri": "https://localhost:8080/",
          "height": 34
        },
        "id": "rN-Ygx4co2BJ",
        "outputId": "98afddd7-1706-4c7c-cee0-22fcc5e67676"
      },
      "source": [
        "# Retorno con recursiva\n",
        "def factorial(num):\n",
        "    if num < 2:\n",
        "        fact = 1\n",
        "    else:\n",
        "        fact= num*factorial(num-1)\n",
        "\n",
        "    return fact\n",
        "\n",
        "    \n",
        "print(factorial(5))"
      ],
      "execution_count": null,
      "outputs": [
        {
          "output_type": "stream",
          "text": [
            "120\n"
          ],
          "name": "stdout"
        }
      ]
    }
  ]
}