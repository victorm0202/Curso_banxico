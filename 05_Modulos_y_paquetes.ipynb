{
  "nbformat": 4,
  "nbformat_minor": 0,
  "metadata": {
    "colab": {
      "name": "05_Modulos_y_paquetes.ipynb",
      "provenance": [],
      "include_colab_link": true
    },
    "kernelspec": {
      "display_name": "Python 3",
      "language": "python",
      "name": "python3"
    },
    "language_info": {
      "codemirror_mode": {
        "name": "ipython",
        "version": 3
      },
      "file_extension": ".py",
      "mimetype": "text/x-python",
      "name": "python",
      "nbconvert_exporter": "python",
      "pygments_lexer": "ipython3",
      "version": "3.7.4"
    }
  },
  "cells": [
    {
      "cell_type": "markdown",
      "metadata": {
        "id": "view-in-github",
        "colab_type": "text"
      },
      "source": [
        "<a href=\"https://colab.research.google.com/github/victorm0202/Curso_banxico/blob/Python-basics/05_Modulos_y_paquetes.ipynb\" target=\"_parent\"><img src=\"https://colab.research.google.com/assets/colab-badge.svg\" alt=\"Open In Colab\"/></a>"
      ]
    },
    {
      "cell_type": "markdown",
      "metadata": {
        "id": "CIqzdSIzQxSG"
      },
      "source": [
        "# Módulos y paquetes\n",
        "\n",
        "\n",
        "Los módulos son ficheros que contienen definiciones que se pueden importar en otros scripts para reutilizar sus funcionalidades."
      ]
    },
    {
      "cell_type": "code",
      "metadata": {
        "id": "vxQmJPGNyrP9",
        "outputId": "2f9c36c6-552c-4fa8-c818-b84b92b5d745"
      },
      "source": [
        "# Cargar un paquete completo\n",
        "import math\n",
        "\n",
        "#acceder a las funciones de math\n",
        "\n",
        "# Atributo o variable\n",
        "print('Importar pi de math: Pi ={}'.format(math.pi))\n",
        "\n",
        "\n",
        "# Función\n",
        "\n",
        "math.sin(math.pi)\n",
        "\n",
        "# Es posible asignar un alias a un paquete al asignarse:\n",
        "#  import math as m\n",
        "\n",
        "# En se caso las funciones serian llamadas como\n",
        "\n",
        "#m.pi\n",
        "#m.sin()"
      ],
      "execution_count": null,
      "outputs": [
        {
          "output_type": "stream",
          "text": [
            "Importar pi de math: Pi =3.141592653589793\n"
          ],
          "name": "stdout"
        },
        {
          "output_type": "execute_result",
          "data": {
            "text/plain": [
              "1.2246467991473532e-16"
            ]
          },
          "metadata": {
            "tags": []
          },
          "execution_count": 1
        }
      ]
    },
    {
      "cell_type": "code",
      "metadata": {
        "colab": {
          "base_uri": "https://localhost:8080/",
          "height": 35
        },
        "id": "whDRc-rqz6h8",
        "outputId": "ea3770a9-6d91-4e76-c3e4-bd4cf5bfd81b"
      },
      "source": [
        "import math as m\n",
        "\n",
        "m.pi"
      ],
      "execution_count": null,
      "outputs": [
        {
          "output_type": "execute_result",
          "data": {
            "text/plain": [
              "3.141592653589793"
            ]
          },
          "metadata": {
            "tags": []
          },
          "execution_count": 2
        }
      ]
    },
    {
      "cell_type": "code",
      "metadata": {
        "colab": {
          "base_uri": "https://localhost:8080/",
          "height": 35
        },
        "id": "FwTsRwkuz_UP",
        "outputId": "dec4cf26-c02c-4ed7-85e9-65f8c7af51f8"
      },
      "source": [
        "# Importar una clase-objeto de un paquete\n",
        "\n",
        "import numpy as np\n",
        "\n",
        "np.zeros(10)"
      ],
      "execution_count": null,
      "outputs": [
        {
          "output_type": "execute_result",
          "data": {
            "text/plain": [
              "array([0., 0., 0., 0., 0., 0., 0., 0., 0., 0.])"
            ]
          },
          "metadata": {
            "tags": []
          },
          "execution_count": 3
        }
      ]
    },
    {
      "cell_type": "code",
      "metadata": {
        "colab": {
          "base_uri": "https://localhost:8080/",
          "height": 35
        },
        "id": "2tsu8J-g00wr",
        "outputId": "4201f800-66e6-425d-8595-3c8620cb7093"
      },
      "source": [
        "type(np.zeros)"
      ],
      "execution_count": null,
      "outputs": [
        {
          "output_type": "execute_result",
          "data": {
            "text/plain": [
              "builtin_function_or_method"
            ]
          },
          "metadata": {
            "tags": []
          },
          "execution_count": 4
        }
      ]
    },
    {
      "cell_type": "code",
      "metadata": {
        "colab": {
          "base_uri": "https://localhost:8080/",
          "height": 35
        },
        "id": "1eMJ38T90T3Y",
        "outputId": "40599691-380d-485c-f3f5-f4c55e195fb2"
      },
      "source": [
        "# Importar función específica de un paquete\n",
        "\n",
        "from datetime import datetime\n",
        "from math import pi\n",
        "\n",
        "print(round(pi,2))\n"
      ],
      "execution_count": null,
      "outputs": [
        {
          "output_type": "stream",
          "text": [
            "3.14\n"
          ],
          "name": "stdout"
        }
      ]
    },
    {
      "cell_type": "markdown",
      "metadata": {
        "id": "t1TjMRIURGTZ"
      },
      "source": [
        "## Módulo collections\n",
        "\n",
        "El módulo integrado de colecciones nos proveé otros tipos o mejoras de las colecciones clásicas."
      ]
    },
    {
      "cell_type": "code",
      "metadata": {
        "colab": {
          "base_uri": "https://localhost:8080/",
          "height": 89
        },
        "id": "f7BP0AAANlIo",
        "outputId": "86c4d2ad-00f1-46e5-a2f3-2b5c049955c8"
      },
      "source": [
        "# Contadores (tablas de frecuencia)\n",
        "\n",
        "from collections import Counter\n",
        "#from collections import Counter as contador  (es posible asignar un alias)\n",
        "\n",
        "l = [1,2,3,4,1,2,3,1,2,1]\n",
        "print(Counter(l))\n",
        "#contador(l)\n",
        "\n",
        "## Cantidad de caractéres\n",
        "\n",
        "print(Counter('estrambotico'))\n",
        "\n",
        "animales = \"gato perro canario perro canario perro\"\n",
        "c = Counter(animales.split())\n",
        "print(c)"
      ],
      "execution_count": null,
      "outputs": [
        {
          "output_type": "stream",
          "text": [
            "Counter({1: 4, 2: 3, 3: 2, 4: 1})\n",
            "Counter({'t': 2, 'o': 2, 'e': 1, 's': 1, 'r': 1, 'a': 1, 'm': 1, 'b': 1, 'i': 1, 'c': 1})\n",
            "Counter({'perro': 3, 'canario': 2, 'gato': 1})\n"
          ],
          "name": "stdout"
        }
      ]
    },
    {
      "cell_type": "markdown",
      "metadata": {
        "id": "27yFdw5GScCf"
      },
      "source": [
        "## Módulo datetime\n",
        "\n",
        "Este módulo contiene las clases time y datetime esenciales para manejar tiempo, horas y fechas.\n",
        "\n"
      ]
    },
    {
      "cell_type": "code",
      "metadata": {
        "colab": {
          "base_uri": "https://localhost:8080/",
          "height": 191
        },
        "id": "IfesrfZHSjaW",
        "outputId": "5914f2b2-a839-4ac3-9d36-01b5fb6534b7"
      },
      "source": [
        "from datetime import datetime\n",
        "\n",
        "dt = datetime.now()    # Fecha y hora actual\n",
        "\n",
        "print(dt)\n",
        "print(dt.year)         # año\n",
        "print(dt.month)        # mes\n",
        "print(dt.day)          # día\n",
        "\n",
        "print(dt.hour)         # hora\n",
        "print(dt.minute)       # minutos\n",
        "print(dt.second)       # segundos\n",
        "print(dt.microsecond)  # microsegundos\n",
        "\n",
        "print(\"{}:{}:{}\".format(dt.hour, dt.minute, dt.second))\n",
        "print(\"{}/{}/{}\".format(dt.day, dt.month, dt.year))"
      ],
      "execution_count": null,
      "outputs": [
        {
          "output_type": "stream",
          "text": [
            "2020-08-21 12:17:26.705285\n",
            "2020\n",
            "8\n",
            "21\n",
            "12\n",
            "17\n",
            "26\n",
            "705285\n",
            "12:17:26\n",
            "21/8/2020\n"
          ],
          "name": "stdout"
        }
      ]
    },
    {
      "cell_type": "code",
      "metadata": {
        "id": "oAI97SX2Shx5"
      },
      "source": [
        ""
      ],
      "execution_count": null,
      "outputs": []
    },
    {
      "cell_type": "markdown",
      "metadata": {
        "id": "ESboxtmqS6j-"
      },
      "source": [
        "## Módulo random\n",
        "\n",
        "Este módulo contiene funciones para generar números aleatorios\n"
      ]
    },
    {
      "cell_type": "code",
      "metadata": {
        "colab": {
          "base_uri": "https://localhost:8080/",
          "height": 121
        },
        "id": "BFMPRmy1TAMZ",
        "outputId": "d4c261b3-3a61-4f29-b2cd-6a8d0f06b49a"
      },
      "source": [
        "# Generar números aleatorios\n",
        "\n",
        "import random\n",
        "\n",
        "# Flotante aleatorio >= 0 y < 1.0\n",
        "print(random.random())      \n",
        "\n",
        "# Flotante aleatorio >= 1 y <10.0       \n",
        "print(random.uniform(1,10))\n",
        "\n",
        "# Entero aleatorio de 0 a 9, 10 excluído\n",
        "print(random.randrange(10))\n",
        "\n",
        "# Entero aleatorio de 0 a 100\n",
        "print(random.randrange(0,101))\n",
        "\n",
        "# Entero aleatorio de 0 a 100 cada 2 números, múltiplos de 2\n",
        "print(random.randrange(0,101,2))\n",
        "\n",
        "# Entero aleatorio de 0 a 100 cada 5 números, múltiplos de 5\n",
        "print(random.randrange(0,101,5))"
      ],
      "execution_count": null,
      "outputs": [
        {
          "output_type": "stream",
          "text": [
            "0.3136078220634433\n",
            "1.3009213944523075\n",
            "4\n",
            "48\n",
            "70\n",
            "50\n"
          ],
          "name": "stdout"
        }
      ]
    },
    {
      "cell_type": "code",
      "metadata": {
        "colab": {
          "base_uri": "https://localhost:8080/",
          "height": 69
        },
        "id": "wwE2V8iLTMG8",
        "outputId": "d78a1bf8-795b-4892-b758-207435f928cd"
      },
      "source": [
        "# Muestreo\n",
        "\n",
        "# Letra aleatoria\n",
        "print(random.choice('Hola mundo'.split()))\n",
        "\n",
        "# Elemento aleatorio\n",
        "print(random.choice([1,2,3,4,5]))\n",
        "\n",
        "# Dos elementos aleatorios\n",
        "print(random.sample([1,2,3,4,5], 2))"
      ],
      "execution_count": null,
      "outputs": [
        {
          "output_type": "stream",
          "text": [
            "mundo\n",
            "4\n",
            "[1, 2]\n"
          ],
          "name": "stdout"
        }
      ]
    },
    {
      "cell_type": "code",
      "metadata": {
        "colab": {
          "base_uri": "https://localhost:8080/",
          "height": 35
        },
        "id": "wXor8s8ATWF9",
        "outputId": "ad94bad0-cda2-4dfb-c93e-914ced0300f8"
      },
      "source": [
        "# Mezclas\n",
        "\n",
        "# Barajar una lista, queda guardado\n",
        "lista = [1,2,3,4,5]\n",
        "random.shuffle(lista)\n",
        "print(lista)"
      ],
      "execution_count": null,
      "outputs": [
        {
          "output_type": "stream",
          "text": [
            "[1, 2, 4, 3, 5]\n"
          ],
          "name": "stdout"
        }
      ]
    },
    {
      "cell_type": "code",
      "metadata": {
        "id": "DPZB6OJRWuWm",
        "outputId": "e9c0047f-7ac8-4e4b-c76f-e8a217126a43"
      },
      "source": [
        "import numpy \n",
        "import matplotlib.pyplot as plt\n",
        "\n",
        "rango = numpy.arange(1, 7)\n",
        "print(rango) \n",
        "\n",
        "million_samples = numpy.random.choice(rango, p=[0.1, 0.05, 0.05, 0.2, 0.4, 0.2], size = 1000000)\n",
        "plt.hist(million_samples, density=True, bins = numpy.arange(1, 8))\n"
      ],
      "execution_count": null,
      "outputs": [
        {
          "output_type": "stream",
          "text": [
            "[1 2 3 4 5 6]\n"
          ],
          "name": "stdout"
        },
        {
          "output_type": "execute_result",
          "data": {
            "text/plain": [
              "(array([0.100035, 0.049678, 0.05035 , 0.199371, 0.399577, 0.200989]),\n",
              " array([1, 2, 3, 4, 5, 6, 7]),\n",
              " <a list of 6 Patch objects>)"
            ]
          },
          "metadata": {
            "tags": []
          },
          "execution_count": 11
        }
      ]
    },
    {
      "cell_type": "code",
      "metadata": {
        "id": "gQcmXsnhWuWm",
        "outputId": "f50a82b1-da97-4dd1-ae05-c4a3522dd8ee"
      },
      "source": [
        "import matplotlib.pyplot as plt\n",
        "# generate random Gaussian values\n",
        "from numpy.random import seed\n",
        "from numpy.random import randn\n",
        "# seed random number generator\n",
        "seed(1)\n",
        "# generate 100 Gaussian values N(3,4)\n",
        "muestra = 3 + 2 * np.random.randn(100000)\n",
        "plt.hist(muestra, density=True)\n",
        "plt.axvline(x=3, linewidth=4, color='r')"
      ],
      "execution_count": null,
      "outputs": [
        {
          "output_type": "execute_result",
          "data": {
            "text/plain": [
              "<matplotlib.lines.Line2D at 0x222e4c3cc08>"
            ]
          },
          "metadata": {
            "tags": []
          },
          "execution_count": 12
        },
        {
          "output_type": "display_data",
          "data": {
            "image/png": "[encoded data removed]",
            "text/plain": [
              "<Figure size 432x288 with 1 Axes>"
            ]
          },
          "metadata": {
            "tags": [],
            "needs_background": "light"
          }
        }
      ]
    },
    {
      "cell_type": "code",
      "metadata": {
        "id": "iFy5JROyWuWn",
        "outputId": "fa7c2592-8cc4-4bfe-fa63-43deb3b61ffc"
      },
      "source": [
        "# Fijando una semilla en Numpy\n",
        "np.random.seed(1234)\n",
        "print(np.random.normal(0,1,3))\n",
        "np.random.seed(1234)\n",
        "print(np.random.normal(0,1,3))\n",
        "plt.hist(np.random.normal(0,1,1000), density=True)\n",
        "plt.axvline(x=0, linewidth=4, color='r')"
      ],
      "execution_count": null,
      "outputs": [
        {
          "output_type": "stream",
          "text": [
            "[ 0.47143516 -1.19097569  1.43270697]\n",
            "[ 0.47143516 -1.19097569  1.43270697]\n"
          ],
          "name": "stdout"
        },
        {
          "output_type": "execute_result",
          "data": {
            "text/plain": [
              "<matplotlib.lines.Line2D at 0x222e4d58b08>"
            ]
          },
          "metadata": {
            "tags": []
          },
          "execution_count": 13
        },
        {
          "output_type": "display_data",
          "data": {
            "image/png": "[encoded data removed]",
            "text/plain": [
              "<Figure size 432x288 with 1 Axes>"
            ]
          },
          "metadata": {
            "tags": [],
            "needs_background": "light"
          }
        }
      ]
    }
  ]
}