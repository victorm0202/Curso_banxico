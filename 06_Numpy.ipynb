{
  "nbformat": 4,
  "nbformat_minor": 0,
  "metadata": {
    "colab": {
      "name": "06_Numpy.ipynb",
      "provenance": [],
      "include_colab_link": true
    },
    "kernelspec": {
      "display_name": "Python 3",
      "language": "python",
      "name": "python3"
    },
    "language_info": {
      "codemirror_mode": {
        "name": "ipython",
        "version": 3
      },
      "file_extension": ".py",
      "mimetype": "text/x-python",
      "name": "python",
      "nbconvert_exporter": "python",
      "pygments_lexer": "ipython3",
      "version": "3.7.4"
    }
  },
  "cells": [
    {
      "cell_type": "markdown",
      "metadata": {
        "id": "view-in-github",
        "colab_type": "text"
      },
      "source": [
        "<a href=\"https://colab.research.google.com/github/victorm0202/Curso_banxico/blob/Python-basics/06_Numpy.ipynb\" target=\"_parent\"><img src=\"https://colab.research.google.com/assets/colab-badge.svg\" alt=\"Open In Colab\"/></a>"
      ]
    },
    {
      "cell_type": "markdown",
      "metadata": {
        "id": "TGM_sNMrAiXK"
      },
      "source": [
        "### The NumPy ndarray: A Multidimensional Array Object\n",
        "\n",
        "Basado de Python for Data Analysis Wes M Chap4\n",
        "\n",
        "\n",
        "One of the key features of NumPy is its N-dimensional array object, or ndarray,\n",
        "which is a fast, flexible container for large datasets in Python.Arrays enable you to\n",
        "perform mathematical operations on whole blocks of data using similar syntax to the\n",
        "equivalent operations between scalar elements.\n",
        "\n",
        "Numpy CheatSheet:  \n",
        "\n",
        "https://s3.amazonaws.com/assets.datacamp.com/blog_assets/Numpy_Python_Cheat_Sheet.pdf\n",
        "\n",
        "\n",
        "http://talimi.se/p/numpy/\n"
      ]
    },
    {
      "cell_type": "code",
      "metadata": {
        "id": "00zgvu1qp7Pd"
      },
      "source": [
        "import numpy as np  # Forma convencional de exportar numpy"
      ],
      "execution_count": null,
      "outputs": []
    },
    {
      "cell_type": "code",
      "metadata": {
        "colab": {
          "base_uri": "https://localhost:8080/",
          "height": 54
        },
        "id": "ZVq8TJA0nRaB",
        "outputId": "43d2cbb3-8137-467a-f993-7c58e7d9ce3b"
      },
      "source": [
        "\n",
        "\n",
        "# Generamos un ndarry random\n",
        "data = np.random.randn(2, 3)\n",
        "data\n"
      ],
      "execution_count": null,
      "outputs": [
        {
          "output_type": "execute_result",
          "data": {
            "text/plain": [
              "array([[ 0.94024179, -0.10148237,  0.34834391],\n",
              "       [ 1.03511616, -0.02102503,  0.43659932]])"
            ]
          },
          "metadata": {
            "tags": []
          },
          "execution_count": 2
        }
      ]
    },
    {
      "cell_type": "markdown",
      "metadata": {
        "id": "iPS03IA_GNsm"
      },
      "source": [
        "An ndarray is a generic multidimensional container for homogeneous data; that is, all\n",
        "of the elements must be the same type ."
      ]
    },
    {
      "cell_type": "code",
      "metadata": {
        "colab": {
          "base_uri": "https://localhost:8080/",
          "height": 54
        },
        "id": "lAMkO3OYGMfX",
        "outputId": "36309705-7da7-441c-a11c-97ae61136a7a"
      },
      "source": [
        "# Atributos de un ndarray\n",
        "print(data.shape)\n",
        "\n",
        "print(data.dtype)"
      ],
      "execution_count": null,
      "outputs": [
        {
          "output_type": "stream",
          "text": [
            "(2, 3)\n",
            "float64\n"
          ],
          "name": "stdout"
        }
      ]
    },
    {
      "cell_type": "markdown",
      "metadata": {
        "id": "SC250yQEIZi9"
      },
      "source": [
        "The easiest way to create an array is to use the array function. This accepts any\n",
        "sequence-like object (including other arrays) and produces a new NumPy array containing\n",
        "the passed data."
      ]
    },
    {
      "cell_type": "code",
      "metadata": {
        "colab": {
          "base_uri": "https://localhost:8080/",
          "height": 90
        },
        "id": "LhMZ92wQncYG",
        "outputId": "fc984772-dd22-4f58-fbda-5e4b477726fb"
      },
      "source": [
        "# Array vector\n",
        "a=np.array([1,2,3])\n",
        "\n",
        "print('shape:{}'.format(a.shape))\n",
        "print(a, end='\\n\\n\\n')\n",
        "\n",
        "\n"
      ],
      "execution_count": null,
      "outputs": [
        {
          "output_type": "stream",
          "text": [
            "shape:(3,)\n",
            "[1 2 3]\n",
            "\n",
            "\n"
          ],
          "name": "stdout"
        }
      ]
    },
    {
      "cell_type": "code",
      "metadata": {
        "colab": {
          "base_uri": "https://localhost:8080/",
          "height": 108
        },
        "id": "B1HDQd3N54E6",
        "outputId": "56e07ea5-13f7-4928-f8f1-a3c75b596f72"
      },
      "source": [
        "#Array tipo matriz\n",
        "a2=np.array([(1,2,3),('a','b','c')])\n",
        "\n",
        "print('shape:{}'.format(a2.shape))\n",
        "print(a2,end='\\n\\n\\n')\n"
      ],
      "execution_count": null,
      "outputs": [
        {
          "output_type": "stream",
          "text": [
            "shape:(2, 3)\n",
            "[['1' '2' '3']\n",
            " ['a' 'b' 'c']]\n",
            "\n",
            "\n"
          ],
          "name": "stdout"
        }
      ]
    },
    {
      "cell_type": "code",
      "metadata": {
        "colab": {
          "base_uri": "https://localhost:8080/",
          "height": 90
        },
        "id": "Ggn1DFYB57kK",
        "outputId": "a3e872bf-6de6-490b-ba59-6f30754eb99b"
      },
      "source": [
        "# Array desde una lista\n",
        "lista=[i for i in range(15)]\n",
        "a3=np.array(lista)\n",
        "print('shape:{}'.format(a3.shape))\n",
        "print(a3,end='\\n\\n\\n')\n",
        "\n"
      ],
      "execution_count": null,
      "outputs": [
        {
          "output_type": "stream",
          "text": [
            "shape:(15,)\n",
            "[ 0  1  2  3  4  5  6  7  8  9 10 11 12 13 14]\n",
            "\n",
            "\n"
          ],
          "name": "stdout"
        }
      ]
    },
    {
      "cell_type": "code",
      "metadata": {
        "colab": {
          "base_uri": "https://localhost:8080/",
          "height": 35
        },
        "id": "Ng4T8hEf6u_K",
        "outputId": "b5830bd9-0938-45c0-a923-edf94ce3a41e"
      },
      "source": [
        "np.array([i for i in range(15)])"
      ],
      "execution_count": null,
      "outputs": [
        {
          "output_type": "execute_result",
          "data": {
            "text/plain": [
              "array([ 0,  1,  2,  3,  4,  5,  6,  7,  8,  9, 10, 11, 12, 13, 14])"
            ]
          },
          "metadata": {
            "tags": []
          },
          "execution_count": 7
        }
      ]
    },
    {
      "cell_type": "code",
      "metadata": {
        "colab": {
          "base_uri": "https://localhost:8080/",
          "height": 108
        },
        "id": "uxcr_aUS59fi",
        "outputId": "da6a0c05-2f23-4c6c-ed85-1a4dd2b2efe2"
      },
      "source": [
        "# Array lista de lista\n",
        "a4=np.array([lista,lista])\n",
        "print('shape:{}'.format(a4.shape))\n",
        "print(a4,end='\\n\\n\\n')\n",
        "\n"
      ],
      "execution_count": null,
      "outputs": [
        {
          "output_type": "stream",
          "text": [
            "shape:(2, 15)\n",
            "[[ 0  1  2  3  4  5  6  7  8  9 10 11 12 13 14]\n",
            " [ 0  1  2  3  4  5  6  7  8  9 10 11 12 13 14]]\n",
            "\n",
            "\n"
          ],
          "name": "stdout"
        }
      ]
    },
    {
      "cell_type": "code",
      "metadata": {
        "colab": {
          "base_uri": "https://localhost:8080/",
          "height": 171
        },
        "id": "Q6UeemSq7H-b",
        "outputId": "9011902e-5f6f-4a66-da71-db9ce4bc3bc1"
      },
      "source": [
        "# La materia prima de un np tiene que ser una estructura\n",
        "np.array([0,  1,  2,  3,  4,  5,  6,  7,  8,  9, 10, 11, 12, 13, 14])"
      ],
      "execution_count": null,
      "outputs": [
        {
          "output_type": "execute_result",
          "data": {
            "text/plain": [
              "array([ 0,  1,  2,  3,  4,  5,  6,  7,  8,  9, 10, 11, 12, 13, 14])"
            ]
          },
          "metadata": {
            "tags": []
          },
          "execution_count": 9
        }
      ]
    },
    {
      "cell_type": "code",
      "metadata": {
        "id": "ReRYYG_r5_Z6",
        "outputId": "665085ba-9941-4ccb-92db-86e20ca2a333"
      },
      "source": [
        "# Array dado un shape\n",
        "a5=np.array(lista).reshape(3,5)\n",
        "print('shape:{}'.format(a5.shape))\n",
        "print(a5,end='\\n\\n\\n')"
      ],
      "execution_count": null,
      "outputs": [
        {
          "output_type": "stream",
          "text": [
            "shape:(3, 5)\n",
            "[[ 0  1  2  3  4]\n",
            " [ 5  6  7  8  9]\n",
            " [10 11 12 13 14]]\n",
            "\n",
            "\n"
          ],
          "name": "stdout"
        }
      ]
    },
    {
      "cell_type": "markdown",
      "metadata": {
        "id": "dduKwE4_QBZn"
      },
      "source": [
        "Otros tipos de Arrays"
      ]
    },
    {
      "cell_type": "code",
      "metadata": {
        "id": "aGrL151EQFJt",
        "outputId": "3365225a-e207-4170-d737-38d081022357"
      },
      "source": [
        "misalto='\\n\\n\\n'\n",
        "\n",
        "## Array de ceros\n",
        "print(np.zeros(10), end=misalto)\n",
        "print(np.zeros(10).reshape(2,5), end=misalto)\n",
        "\n",
        "\n",
        "\n"
      ],
      "execution_count": null,
      "outputs": [
        {
          "output_type": "stream",
          "text": [
            "[0. 0. 0. 0. 0. 0. 0. 0. 0. 0.]\n",
            "\n",
            "\n",
            "[[0. 0. 0. 0. 0.]\n",
            " [0. 0. 0. 0. 0.]]\n",
            "\n",
            "\n"
          ],
          "name": "stdout"
        }
      ]
    },
    {
      "cell_type": "code",
      "metadata": {
        "id": "MW-gtPZO8LlW",
        "outputId": "856da9b0-56fc-41d0-b7f4-2e61c054141f"
      },
      "source": [
        "## Array de unos\n",
        "\n",
        "print(np.ones(16), end=misalto)\n",
        "print(np.ones(16).reshape(4,2,2), end=misalto)\n",
        "\n"
      ],
      "execution_count": null,
      "outputs": [
        {
          "output_type": "stream",
          "text": [
            "[1. 1. 1. 1. 1. 1. 1. 1. 1. 1. 1. 1. 1. 1. 1. 1.]\n",
            "\n",
            "\n",
            "[[[1. 1.]\n",
            "  [1. 1.]]\n",
            "\n",
            " [[1. 1.]\n",
            "  [1. 1.]]\n",
            "\n",
            " [[1. 1.]\n",
            "  [1. 1.]]\n",
            "\n",
            " [[1. 1.]\n",
            "  [1. 1.]]]\n",
            "\n",
            "\n"
          ],
          "name": "stdout"
        }
      ]
    },
    {
      "cell_type": "code",
      "metadata": {
        "id": "UuF6E2uM8Xtr",
        "outputId": "94dca01a-2c37-4739-9188-e6ede99df2f7"
      },
      "source": [
        "## Array vacio\n",
        "\n",
        "print(np.empty(10), end=misalto)\n",
        "\n"
      ],
      "execution_count": null,
      "outputs": [
        {
          "output_type": "stream",
          "text": [
            "[0. 0. 0. 0. 0. 0. 0. 0. 0. 0.]\n",
            "\n",
            "\n"
          ],
          "name": "stdout"
        }
      ]
    },
    {
      "cell_type": "code",
      "metadata": {
        "id": "6ty6JljE9MR8",
        "outputId": "e7c017a9-a300-40e9-c135-0f84f5417762"
      },
      "source": [
        "## Identidad\n",
        "\n",
        "print(np.identity(5),end=misalto)\n",
        "\n"
      ],
      "execution_count": null,
      "outputs": [
        {
          "output_type": "stream",
          "text": [
            "[[1. 0. 0. 0. 0.]\n",
            " [0. 1. 0. 0. 0.]\n",
            " [0. 0. 1. 0. 0.]\n",
            " [0. 0. 0. 1. 0.]\n",
            " [0. 0. 0. 0. 1.]]\n",
            "\n",
            "\n"
          ],
          "name": "stdout"
        }
      ]
    },
    {
      "cell_type": "code",
      "metadata": {
        "id": "051r7OWh9PrE",
        "outputId": "047170e0-cd48-4ebc-f226-5b0a05d153d6"
      },
      "source": [
        "## Rellenar un array\n",
        "\n",
        "np.full((2,2),3)\n",
        "\n",
        "\n"
      ],
      "execution_count": null,
      "outputs": [
        {
          "output_type": "execute_result",
          "data": {
            "text/plain": [
              "array([[3, 3],\n",
              "       [3, 3]])"
            ]
          },
          "metadata": {
            "tags": []
          },
          "execution_count": 15
        }
      ]
    },
    {
      "cell_type": "code",
      "metadata": {
        "id": "G2jBD1LrW_qn",
        "outputId": "3ca99af7-0ef8-40d3-821f-cb96166a8bc6"
      },
      "source": [
        "np.full(4,3)"
      ],
      "execution_count": null,
      "outputs": [
        {
          "output_type": "execute_result",
          "data": {
            "text/plain": [
              "array([3, 3, 3, 3])"
            ]
          },
          "metadata": {
            "tags": []
          },
          "execution_count": 16
        }
      ]
    },
    {
      "cell_type": "code",
      "metadata": {
        "id": "uEK6ozum9aNQ",
        "outputId": "93472bab-9a26-4571-fa32-2780718bb510"
      },
      "source": [
        "np.full(4,3).reshape(2,2)"
      ],
      "execution_count": null,
      "outputs": [
        {
          "output_type": "execute_result",
          "data": {
            "text/plain": [
              "array([[3, 3],\n",
              "       [3, 3]])"
            ]
          },
          "metadata": {
            "tags": []
          },
          "execution_count": 17
        }
      ]
    },
    {
      "cell_type": "code",
      "metadata": {
        "id": "JHoHlE4Rgy5m",
        "outputId": "6e4a2174-b8b1-4ffc-97cb-0c29868356c3"
      },
      "source": [
        "np.full((4, 3), [1, 2, 3])"
      ],
      "execution_count": null,
      "outputs": [
        {
          "output_type": "execute_result",
          "data": {
            "text/plain": [
              "array([[1, 2, 3],\n",
              "       [1, 2, 3],\n",
              "       [1, 2, 3],\n",
              "       [1, 2, 3]])"
            ]
          },
          "metadata": {
            "tags": []
          },
          "execution_count": 18
        }
      ]
    },
    {
      "cell_type": "code",
      "metadata": {
        "id": "cgpbj6ly9YNZ",
        "outputId": "6debb23e-fad8-408d-888d-a2e15e104af1"
      },
      "source": [
        "# Range\n",
        "\n",
        "print(np.arange(1,16).reshape(3,5))"
      ],
      "execution_count": null,
      "outputs": [
        {
          "output_type": "stream",
          "text": [
            "[[ 1  2  3  4  5]\n",
            " [ 6  7  8  9 10]\n",
            " [11 12 13 14 15]]\n"
          ],
          "name": "stdout"
        }
      ]
    },
    {
      "cell_type": "markdown",
      "metadata": {
        "id": "8UF4RkePTeLJ"
      },
      "source": [
        "### Arithmetic with NumPy Arrays"
      ]
    },
    {
      "cell_type": "code",
      "metadata": {
        "id": "6DK5NGELHm7P",
        "outputId": "e822e1ec-0490-4614-c51c-b74558d361c0"
      },
      "source": [
        "data"
      ],
      "execution_count": null,
      "outputs": [
        {
          "output_type": "execute_result",
          "data": {
            "text/plain": [
              "array([[ 0.94024179, -0.10148237,  0.34834391],\n",
              "       [ 1.03511616, -0.02102503,  0.43659932]])"
            ]
          },
          "metadata": {
            "tags": []
          },
          "execution_count": 20
        }
      ]
    },
    {
      "cell_type": "code",
      "metadata": {
        "id": "3r7vX5F1W_qo",
        "outputId": "188a1510-f881-461c-e76a-b69b5f55dca0"
      },
      "source": [
        "print(data+2)"
      ],
      "execution_count": null,
      "outputs": [
        {
          "output_type": "stream",
          "text": [
            "[[2.94024179 1.89851763 2.34834391]\n",
            " [3.03511616 1.97897497 2.43659932]]\n"
          ],
          "name": "stdout"
        }
      ]
    },
    {
      "cell_type": "code",
      "metadata": {
        "id": "2OBtD5TKHT3I",
        "outputId": "7bd1ddba-6e79-4afb-aa17-e9447616cefb"
      },
      "source": [
        "print (data+data)"
      ],
      "execution_count": null,
      "outputs": [
        {
          "output_type": "stream",
          "text": [
            "[[ 1.88048359 -0.20296474  0.69668782]\n",
            " [ 2.07023231 -0.04205007  0.87319864]]\n"
          ],
          "name": "stdout"
        }
      ]
    },
    {
      "cell_type": "code",
      "metadata": {
        "id": "mFQw6fIZ_gro",
        "outputId": "bb674c33-dcf4-4ef2-e8de-3f8163faed41"
      },
      "source": [
        "# Permite la suma de un vector a un arreglo\n",
        "data1=np.arange(12).reshape(3,4)\n",
        "print(data1)\n",
        "data2=np.arange(3).reshape(3,1)\n",
        "print(data2)\n",
        "print(data1+data2)"
      ],
      "execution_count": null,
      "outputs": [
        {
          "output_type": "stream",
          "text": [
            "[[ 0  1  2  3]\n",
            " [ 4  5  6  7]\n",
            " [ 8  9 10 11]]\n",
            "[[0]\n",
            " [1]\n",
            " [2]]\n",
            "[[ 0  1  2  3]\n",
            " [ 5  6  7  8]\n",
            " [10 11 12 13]]\n"
          ],
          "name": "stdout"
        }
      ]
    },
    {
      "cell_type": "code",
      "metadata": {
        "id": "QauakSXq_tGV",
        "outputId": "d1ff4dc6-3504-4bad-b597-722818566b51"
      },
      "source": [
        "data1=np.arange(12).reshape(4,3)\n",
        "data2=np.arange(3).reshape(1,3)\n",
        "print(data1)\n",
        "print(data2)\n",
        "print(data1+data2)\n"
      ],
      "execution_count": null,
      "outputs": [
        {
          "output_type": "stream",
          "text": [
            "[[ 0  1  2]\n",
            " [ 3  4  5]\n",
            " [ 6  7  8]\n",
            " [ 9 10 11]]\n",
            "[[0 1 2]]\n",
            "[[ 0  2  4]\n",
            " [ 3  5  7]\n",
            " [ 6  8 10]\n",
            " [ 9 11 13]]\n"
          ],
          "name": "stdout"
        }
      ]
    },
    {
      "cell_type": "code",
      "metadata": {
        "id": "uZAlo10x_7oe",
        "outputId": "f9247700-db1f-4dda-ffc3-2c0280971370"
      },
      "source": [
        "print(data1.shape)\n",
        "print(data2.shape)"
      ],
      "execution_count": null,
      "outputs": [
        {
          "output_type": "stream",
          "text": [
            "(4, 3)\n",
            "(1, 3)\n"
          ],
          "name": "stdout"
        }
      ]
    },
    {
      "cell_type": "code",
      "metadata": {
        "id": "ldtwbMPL_Wdc",
        "outputId": "b669b675-8923-4030-e12e-95fcd11d6005"
      },
      "source": [
        "data1=np.arange(12).reshape(3,4)\n",
        "data2=np.arange(9).reshape(3,3)\n",
        "data1+data2"
      ],
      "execution_count": null,
      "outputs": [
        {
          "output_type": "error",
          "ename": "ValueError",
          "evalue": "operands could not be broadcast together with shapes (3,4) (3,3) ",
          "traceback": [
            "\u001b[1;31m---------------------------------------------------------------------------\u001b[0m",
            "\u001b[1;31mValueError\u001b[0m                                Traceback (most recent call last)",
            "\u001b[1;32m<ipython-input-27-bc8c1d569434>\u001b[0m in \u001b[0;36m<module>\u001b[1;34m\u001b[0m\n\u001b[0;32m      1\u001b[0m \u001b[0mdata1\u001b[0m\u001b[1;33m=\u001b[0m\u001b[0mnp\u001b[0m\u001b[1;33m.\u001b[0m\u001b[0marange\u001b[0m\u001b[1;33m(\u001b[0m\u001b[1;36m12\u001b[0m\u001b[1;33m)\u001b[0m\u001b[1;33m.\u001b[0m\u001b[0mreshape\u001b[0m\u001b[1;33m(\u001b[0m\u001b[1;36m3\u001b[0m\u001b[1;33m,\u001b[0m\u001b[1;36m4\u001b[0m\u001b[1;33m)\u001b[0m\u001b[1;33m\u001b[0m\u001b[1;33m\u001b[0m\u001b[0m\n\u001b[0;32m      2\u001b[0m \u001b[0mdata2\u001b[0m\u001b[1;33m=\u001b[0m\u001b[0mnp\u001b[0m\u001b[1;33m.\u001b[0m\u001b[0marange\u001b[0m\u001b[1;33m(\u001b[0m\u001b[1;36m9\u001b[0m\u001b[1;33m)\u001b[0m\u001b[1;33m.\u001b[0m\u001b[0mreshape\u001b[0m\u001b[1;33m(\u001b[0m\u001b[1;36m3\u001b[0m\u001b[1;33m,\u001b[0m\u001b[1;36m3\u001b[0m\u001b[1;33m)\u001b[0m\u001b[1;33m\u001b[0m\u001b[1;33m\u001b[0m\u001b[0m\n\u001b[1;32m----> 3\u001b[1;33m \u001b[0mdata1\u001b[0m\u001b[1;33m+\u001b[0m\u001b[0mdata2\u001b[0m\u001b[1;33m\u001b[0m\u001b[1;33m\u001b[0m\u001b[0m\n\u001b[0m",
            "\u001b[1;31mValueError\u001b[0m: operands could not be broadcast together with shapes (3,4) (3,3) "
          ]
        }
      ]
    },
    {
      "cell_type": "code",
      "metadata": {
        "id": "wAM6Oa2v-0NM"
      },
      "source": [
        "data1=np.arange(12).reshape(3,4)\n",
        "data2=np.arange(12).reshape(4,3)\n",
        "data1+data2"
      ],
      "execution_count": null,
      "outputs": []
    },
    {
      "cell_type": "code",
      "metadata": {
        "id": "InttEDFWHomp"
      },
      "source": [
        "data = np.arange(1,10).reshape(3,3)\n",
        "print(10*data)"
      ],
      "execution_count": null,
      "outputs": []
    },
    {
      "cell_type": "code",
      "metadata": {
        "id": "VGoYe-q_Tgbf"
      },
      "source": [
        "print(data*data)"
      ],
      "execution_count": null,
      "outputs": []
    },
    {
      "cell_type": "code",
      "metadata": {
        "id": "YBKpmNERTynG"
      },
      "source": [
        "print(data-0.4*data)"
      ],
      "execution_count": null,
      "outputs": []
    },
    {
      "cell_type": "code",
      "metadata": {
        "id": "Zes4yligT13W"
      },
      "source": [
        "print(1/data)"
      ],
      "execution_count": null,
      "outputs": []
    },
    {
      "cell_type": "code",
      "metadata": {
        "id": "1iKfTBN9T7IV"
      },
      "source": [
        "print(data*data>data)"
      ],
      "execution_count": null,
      "outputs": []
    },
    {
      "cell_type": "markdown",
      "metadata": {
        "id": "aS_-qq2wUSrg"
      },
      "source": [
        "### Indexing and Slicing\n",
        "\n",
        "* Vectores"
      ]
    },
    {
      "cell_type": "code",
      "metadata": {
        "id": "F7iFK1Z2UT4t",
        "outputId": "181fd540-89b3-4a57-94f8-9a0140a241ec"
      },
      "source": [
        "arr = np.arange(27)\n",
        "print(arr)\n"
      ],
      "execution_count": null,
      "outputs": [
        {
          "output_type": "stream",
          "text": [
            "[ 0  1  2  3  4  5  6  7  8  9 10 11 12 13 14 15 16 17 18 19 20 21 22 23\n",
            " 24 25 26]\n"
          ],
          "name": "stdout"
        }
      ]
    },
    {
      "cell_type": "code",
      "metadata": {
        "id": "ae2y8Tv6WRBr"
      },
      "source": [
        "def printt(exp, salto='\\n\\n'):\n",
        "    print(exp,end=salto)"
      ],
      "execution_count": null,
      "outputs": []
    },
    {
      "cell_type": "code",
      "metadata": {
        "id": "Hdp05AbcVog2",
        "outputId": "88d51f49-08b9-48c3-e49f-899d2404c28e"
      },
      "source": [
        "# Indexin\n",
        "\n",
        "printt(arr[5])\n",
        "  \n",
        "# Cambiar elemento\n",
        "\n",
        "arr[5]=14\n",
        "\n",
        "printt(arr[5])\n",
        "\n",
        "# Slicin\n",
        "printt(arr[3:7])\n",
        "printt(arr[3:])\n",
        "printt(arr[:8])\n"
      ],
      "execution_count": null,
      "outputs": [
        {
          "output_type": "stream",
          "text": [
            "5\n",
            "\n",
            "14\n",
            "\n",
            "[ 3  4 14  6]\n",
            "\n",
            "[ 3  4 14  6  7  8  9 10 11 12 13 14 15 16 17 18 19 20 21 22 23 24 25 26]\n",
            "\n",
            "[ 0  1  2  3  4 14  6  7]\n",
            "\n"
          ],
          "name": "stdout"
        }
      ]
    },
    {
      "cell_type": "markdown",
      "metadata": {
        "id": "PEg43IMhMWh1"
      },
      "source": [
        "* Matrices"
      ]
    },
    {
      "cell_type": "code",
      "metadata": {
        "id": "RZpAyGw-MZLX",
        "outputId": "c127e5da-32e1-4d05-a5ea-7748c59c27d6"
      },
      "source": [
        "arr=np.arange(9).reshape(3,3)\n",
        "print(arr)"
      ],
      "execution_count": null,
      "outputs": [
        {
          "output_type": "stream",
          "text": [
            "[[0 1 2]\n",
            " [3 4 5]\n",
            " [6 7 8]]\n"
          ],
          "name": "stdout"
        }
      ]
    },
    {
      "cell_type": "markdown",
      "metadata": {
        "id": "TFcwx0ZcOqzC"
      },
      "source": [
        "<img src=\"https://www.oreilly.com/library/view/python-for-data/9781449323592/httpatomoreillycomsourceoreillyimages2172114.png\" alt=\"drawing\" align=\"middle\" width=\"300\"/>"
      ]
    },
    {
      "cell_type": "code",
      "metadata": {
        "id": "xTjjq6UPM9jq",
        "outputId": "42f4cc56-4935-4bf1-f302-0b4b5c0b8a4c"
      },
      "source": [
        "print(arr)\n",
        "# Indexin\n",
        "printt(arr[0,2])\n",
        "\n",
        "#Slicin\n",
        "printt(arr[:2,0])  # Desde- hasta NO se incluye el límite superior\n",
        "printt(arr[2,:])\n",
        "printt(arr[:2,1:])\n",
        "printt(arr[:2,:2])"
      ],
      "execution_count": null,
      "outputs": [
        {
          "output_type": "stream",
          "text": [
            "[[0 1 2]\n",
            " [3 4 5]\n",
            " [6 7 8]]\n",
            "2\n",
            "\n",
            "[0 3]\n",
            "\n",
            "[6 7 8]\n",
            "\n",
            "[[1 2]\n",
            " [4 5]]\n",
            "\n",
            "[[0 1]\n",
            " [3 4]]\n",
            "\n"
          ],
          "name": "stdout"
        }
      ]
    },
    {
      "cell_type": "markdown",
      "metadata": {
        "id": "8IP2HyXTXkA_"
      },
      "source": [
        "#### Boolean indexin\n",
        "\n",
        "* Selecting data from an array by boolean indexing always creates a copy of the data,\n",
        "even if the returned array is unchanged.\n",
        "* The Python keywords and and or do not work with boolean arrays.\n",
        "Use & (and) and | (or) instead.\n"
      ]
    },
    {
      "cell_type": "code",
      "metadata": {
        "id": "AxaFjZysbMV4",
        "outputId": "d8b94783-0d10-4b40-af7c-461e1398154f"
      },
      "source": [
        "\n",
        "names = np.array(['Bob', 'Joe', 'Will', 'Bob', 'Will', 'Joe', 'Joe'])\n",
        "data = np.random.randn(7, 4)\n",
        "print(names)\n",
        "print(data)\n"
      ],
      "execution_count": null,
      "outputs": [
        {
          "output_type": "stream",
          "text": [
            "['Bob' 'Joe' 'Will' 'Bob' 'Will' 'Joe' 'Joe']\n",
            "[[ 0.88222852  1.13273006 -1.4081923  -0.39969902]\n",
            " [-0.68232467  0.39161784 -1.87120263  0.33901992]\n",
            " [ 0.99879721 -0.67269508  0.66948716 -1.17320204]\n",
            " [-0.40056976 -1.16831921 -0.34704258  0.25998767]\n",
            " [ 0.80047981 -0.59211057 -1.15643158  0.80624499]\n",
            " [ 0.03723215 -0.90942567  2.12070499 -1.03960013]\n",
            " [-0.55781301 -1.0232534   0.74983076  0.55731113]]\n"
          ],
          "name": "stdout"
        }
      ]
    },
    {
      "cell_type": "code",
      "metadata": {
        "id": "G8VSMwD4CmSF",
        "outputId": "4aa543be-51ee-4d9f-8a93-74e83890b3ae"
      },
      "source": [
        "names == 'Bob'"
      ],
      "execution_count": null,
      "outputs": [
        {
          "output_type": "execute_result",
          "data": {
            "text/plain": [
              "array([ True, False, False,  True, False, False, False])"
            ]
          },
          "metadata": {
            "tags": []
          },
          "execution_count": 34
        }
      ]
    },
    {
      "cell_type": "code",
      "metadata": {
        "id": "EASXwcX-ERUO",
        "outputId": "df1101be-b82b-4e1f-c2d9-a9ba59d51cdc"
      },
      "source": [
        "~(names == 'Bob')"
      ],
      "execution_count": null,
      "outputs": [
        {
          "output_type": "execute_result",
          "data": {
            "text/plain": [
              "array([False,  True,  True, False,  True,  True,  True])"
            ]
          },
          "metadata": {
            "tags": []
          },
          "execution_count": 35
        }
      ]
    },
    {
      "cell_type": "code",
      "metadata": {
        "id": "WBojPdU0CfJO",
        "outputId": "ab795d1f-388b-4810-b562-f9b1be005722"
      },
      "source": [
        "data[names == 'Bob']"
      ],
      "execution_count": null,
      "outputs": [
        {
          "output_type": "execute_result",
          "data": {
            "text/plain": [
              "array([[ 0.88222852,  1.13273006, -1.4081923 , -0.39969902],\n",
              "       [-0.40056976, -1.16831921, -0.34704258,  0.25998767]])"
            ]
          },
          "metadata": {
            "tags": []
          },
          "execution_count": 36
        }
      ]
    },
    {
      "cell_type": "code",
      "metadata": {
        "id": "st82OSycEjma",
        "outputId": "90f0a2e8-2369-4266-d3a4-fd52eb2b6e02"
      },
      "source": [
        "data[data>1]"
      ],
      "execution_count": null,
      "outputs": [
        {
          "output_type": "execute_result",
          "data": {
            "text/plain": [
              "array([1.13273006, 2.12070499])"
            ]
          },
          "metadata": {
            "tags": []
          },
          "execution_count": 37
        }
      ]
    },
    {
      "cell_type": "code",
      "metadata": {
        "id": "UA6ocKj7W_qr",
        "outputId": "58a685ba-35cd-4b10-f94f-ba51e2a4cd64"
      },
      "source": [
        "data>1"
      ],
      "execution_count": null,
      "outputs": [
        {
          "output_type": "execute_result",
          "data": {
            "text/plain": [
              "array([[False,  True, False, False],\n",
              "       [False, False, False, False],\n",
              "       [False, False, False, False],\n",
              "       [False, False, False, False],\n",
              "       [False, False, False, False],\n",
              "       [False, False,  True, False],\n",
              "       [False, False, False, False]])"
            ]
          },
          "metadata": {
            "tags": []
          },
          "execution_count": 38
        }
      ]
    },
    {
      "cell_type": "code",
      "metadata": {
        "id": "ShuCD90FExmO",
        "outputId": "cf42bee8-12fc-40d6-a600-9ede98d6d74b"
      },
      "source": [
        "data[:,0]>0"
      ],
      "execution_count": null,
      "outputs": [
        {
          "output_type": "execute_result",
          "data": {
            "text/plain": [
              "array([ True, False,  True, False,  True,  True, False])"
            ]
          },
          "metadata": {
            "tags": []
          },
          "execution_count": 39
        }
      ]
    },
    {
      "cell_type": "code",
      "metadata": {
        "id": "j6nfqyGrE9Oi",
        "outputId": "cf88fe12-7b52-45a1-8237-3df4e23ae654"
      },
      "source": [
        "data[data[:,0]>0]"
      ],
      "execution_count": null,
      "outputs": [
        {
          "output_type": "execute_result",
          "data": {
            "text/plain": [
              "array([[ 0.88222852,  1.13273006, -1.4081923 , -0.39969902],\n",
              "       [ 0.99879721, -0.67269508,  0.66948716, -1.17320204],\n",
              "       [ 0.80047981, -0.59211057, -1.15643158,  0.80624499],\n",
              "       [ 0.03723215, -0.90942567,  2.12070499, -1.03960013]])"
            ]
          },
          "metadata": {
            "tags": []
          },
          "execution_count": 40
        }
      ]
    },
    {
      "cell_type": "code",
      "metadata": {
        "id": "4lwBtzoTnhmE",
        "outputId": "55fa55f6-3c3b-40d8-b75f-792becd73fc1"
      },
      "source": [
        "data[names == 'Bob', 2:]"
      ],
      "execution_count": null,
      "outputs": [
        {
          "output_type": "execute_result",
          "data": {
            "text/plain": [
              "array([[-1.4081923 , -0.39969902],\n",
              "       [-0.34704258,  0.25998767]])"
            ]
          },
          "metadata": {
            "tags": []
          },
          "execution_count": 41
        }
      ]
    },
    {
      "cell_type": "code",
      "metadata": {
        "id": "3fx_PuGhnigN",
        "outputId": "0c254790-7732-4b7e-e140-f56895a7492b"
      },
      "source": [
        "# To select everything but 'Bob', you can either use != or negate the condition using ~:\n",
        "data[~(names == 'Bob')]"
      ],
      "execution_count": null,
      "outputs": [
        {
          "output_type": "execute_result",
          "data": {
            "text/plain": [
              "array([[-0.68232467,  0.39161784, -1.87120263,  0.33901992],\n",
              "       [ 0.99879721, -0.67269508,  0.66948716, -1.17320204],\n",
              "       [ 0.80047981, -0.59211057, -1.15643158,  0.80624499],\n",
              "       [ 0.03723215, -0.90942567,  2.12070499, -1.03960013],\n",
              "       [-0.55781301, -1.0232534 ,  0.74983076,  0.55731113]])"
            ]
          },
          "metadata": {
            "tags": []
          },
          "execution_count": 42
        }
      ]
    },
    {
      "cell_type": "code",
      "metadata": {
        "id": "1G69tTGBn80K",
        "outputId": "8cd73059-cc29-4025-f550-54016fe181ba"
      },
      "source": [
        "mask = (names == 'Bob') | (names == 'Will')\n",
        "data[mask]"
      ],
      "execution_count": null,
      "outputs": [
        {
          "output_type": "execute_result",
          "data": {
            "text/plain": [
              "array([[ 0.88222852,  1.13273006, -1.4081923 , -0.39969902],\n",
              "       [ 0.99879721, -0.67269508,  0.66948716, -1.17320204],\n",
              "       [-0.40056976, -1.16831921, -0.34704258,  0.25998767],\n",
              "       [ 0.80047981, -0.59211057, -1.15643158,  0.80624499]])"
            ]
          },
          "metadata": {
            "tags": []
          },
          "execution_count": 43
        }
      ]
    },
    {
      "cell_type": "code",
      "metadata": {
        "id": "19GEVZeio1Ru",
        "outputId": "a78515e2-4f93-4088-fbd6-d7343d0e1a18"
      },
      "source": [
        "data[data < 0]"
      ],
      "execution_count": null,
      "outputs": [
        {
          "output_type": "execute_result",
          "data": {
            "text/plain": [
              "array([-1.4081923 , -0.39969902, -0.68232467, -1.87120263, -0.67269508,\n",
              "       -1.17320204, -0.40056976, -1.16831921, -0.34704258, -0.59211057,\n",
              "       -1.15643158, -0.90942567, -1.03960013, -0.55781301, -1.0232534 ])"
            ]
          },
          "metadata": {
            "tags": []
          },
          "execution_count": 44
        }
      ]
    },
    {
      "cell_type": "code",
      "metadata": {
        "id": "gtPNclTUpBNx",
        "outputId": "1000e5fe-204d-4e3b-c5d5-5e191051b30b"
      },
      "source": [
        "#Setting values with boolean arrays works in a common-sense way. To set all of the negative values in data to 0 we need only do:\n",
        "printt(data)\n",
        "data[data < 0] = 0\n",
        "printt(data)"
      ],
      "execution_count": null,
      "outputs": [
        {
          "output_type": "stream",
          "text": [
            "[[ 0.88222852  1.13273006 -1.4081923  -0.39969902]\n",
            " [-0.68232467  0.39161784 -1.87120263  0.33901992]\n",
            " [ 0.99879721 -0.67269508  0.66948716 -1.17320204]\n",
            " [-0.40056976 -1.16831921 -0.34704258  0.25998767]\n",
            " [ 0.80047981 -0.59211057 -1.15643158  0.80624499]\n",
            " [ 0.03723215 -0.90942567  2.12070499 -1.03960013]\n",
            " [-0.55781301 -1.0232534   0.74983076  0.55731113]]\n",
            "\n",
            "[[0.88222852 1.13273006 0.         0.        ]\n",
            " [0.         0.39161784 0.         0.33901992]\n",
            " [0.99879721 0.         0.66948716 0.        ]\n",
            " [0.         0.         0.         0.25998767]\n",
            " [0.80047981 0.         0.         0.80624499]\n",
            " [0.03723215 0.         2.12070499 0.        ]\n",
            " [0.         0.         0.74983076 0.55731113]]\n",
            "\n"
          ],
          "name": "stdout"
        }
      ]
    },
    {
      "cell_type": "markdown",
      "metadata": {
        "id": "Rrci5opKr0BZ"
      },
      "source": [
        "#### Fancy indexin"
      ]
    },
    {
      "cell_type": "code",
      "metadata": {
        "id": "eJ1XnuCto42M",
        "outputId": "15801c3d-9489-4c34-8c2e-f1a7421c018c"
      },
      "source": [
        "arr=np.arange(40).reshape(8,5)\n",
        "arr"
      ],
      "execution_count": null,
      "outputs": [
        {
          "output_type": "execute_result",
          "data": {
            "text/plain": [
              "array([[ 0,  1,  2,  3,  4],\n",
              "       [ 5,  6,  7,  8,  9],\n",
              "       [10, 11, 12, 13, 14],\n",
              "       [15, 16, 17, 18, 19],\n",
              "       [20, 21, 22, 23, 24],\n",
              "       [25, 26, 27, 28, 29],\n",
              "       [30, 31, 32, 33, 34],\n",
              "       [35, 36, 37, 38, 39]])"
            ]
          },
          "metadata": {
            "tags": []
          },
          "execution_count": 46
        }
      ]
    },
    {
      "cell_type": "code",
      "metadata": {
        "id": "Qcpshua_r-nK",
        "outputId": "882435d3-979d-4819-9cac-c6b3b73f97e2"
      },
      "source": [
        "#Fancy indexing is a term adopted by NumPy to describe indexing using integer arrays\n",
        "\n",
        "printt(arr[[5,2,1]])\n",
        "\n",
        "printt(arr[[-5,-2,-1]])\n",
        "\n",
        "\n",
        "#Here the elements (1, 0), (5, 3), (7, 1), and (2, 2) were selected.\n",
        "printt(arr[[1, 5, 7, 2], [0, 3, 1, 2]])\n",
        "\n",
        "\n",
        "#which is the rectangular region formed by selecting a subset of the matrix’s rows and columns \n",
        "# Consiste en un doble select\n",
        "printt(arr[[1, 5, 7, 2]][:, [0, 3, 1, 2]])\n",
        "\n",
        "\n",
        "# Keep in mind that fancy indexing, unlike slicing, always copies the data into a new array\n"
      ],
      "execution_count": null,
      "outputs": [
        {
          "output_type": "stream",
          "text": [
            "[[25 26 27 28 29]\n",
            " [10 11 12 13 14]\n",
            " [ 5  6  7  8  9]]\n",
            "\n",
            "[[15 16 17 18 19]\n",
            " [30 31 32 33 34]\n",
            " [35 36 37 38 39]]\n",
            "\n",
            "[ 5 28 36 12]\n",
            "\n",
            "[[ 5  8  6  7]\n",
            " [25 28 26 27]\n",
            " [35 38 36 37]\n",
            " [10 13 11 12]]\n",
            "\n"
          ],
          "name": "stdout"
        }
      ]
    },
    {
      "cell_type": "markdown",
      "metadata": {
        "id": "U5ZUL8Hnu29Z"
      },
      "source": [
        "#### Transposing Arrays"
      ]
    },
    {
      "cell_type": "code",
      "metadata": {
        "id": "Lry14E8Wr_aD",
        "outputId": "fbdeb8ec-c6ac-413a-c0de-495919aae421"
      },
      "source": [
        "arr = np.arange(15).reshape((3, 5))\n",
        "printt(arr)\n",
        "printt(arr.T)"
      ],
      "execution_count": null,
      "outputs": [
        {
          "output_type": "stream",
          "text": [
            "[[ 0  1  2  3  4]\n",
            " [ 5  6  7  8  9]\n",
            " [10 11 12 13 14]]\n",
            "\n",
            "[[ 0  5 10]\n",
            " [ 1  6 11]\n",
            " [ 2  7 12]\n",
            " [ 3  8 13]\n",
            " [ 4  9 14]]\n",
            "\n"
          ],
          "name": "stdout"
        }
      ]
    },
    {
      "cell_type": "markdown",
      "metadata": {
        "id": "sPnd2JwSv-6H"
      },
      "source": [
        "### Universal Functions: Fast Element-Wise Array Functions\n",
        "\n",
        "A universal function, or ufunc, is a function that performs element-wise operations\n",
        "on data in ndarrays. You can think of them as fast vectorized wrappers for simple\n",
        "functions that take one or more scalar values and produce one or more scalar results.\n"
      ]
    },
    {
      "cell_type": "code",
      "metadata": {
        "id": "kZ3eFnmNwFFQ",
        "outputId": "957832b6-e07c-45f3-ce3e-342764672aa5"
      },
      "source": [
        "arr = np.arange(10)\n",
        "arr"
      ],
      "execution_count": null,
      "outputs": [
        {
          "output_type": "execute_result",
          "data": {
            "text/plain": [
              "array([0, 1, 2, 3, 4, 5, 6, 7, 8, 9])"
            ]
          },
          "metadata": {
            "tags": []
          },
          "execution_count": 49
        }
      ]
    },
    {
      "cell_type": "code",
      "metadata": {
        "id": "v51o3ROjwI3a",
        "outputId": "dfc8167e-4315-4830-e0de-e9a8031c2707"
      },
      "source": [
        "# Raiz cuadrada por entrada\n",
        "printt(np.sqrt(arr))\n",
        "\n",
        "# Exponencial por entrada\n",
        "\n",
        "printt(np.exp(arr).round())"
      ],
      "execution_count": null,
      "outputs": [
        {
          "output_type": "stream",
          "text": [
            "[0.         1.         1.41421356 1.73205081 2.         2.23606798\n",
            " 2.44948974 2.64575131 2.82842712 3.        ]\n",
            "\n",
            "[1.000e+00 3.000e+00 7.000e+00 2.000e+01 5.500e+01 1.480e+02 4.030e+02\n",
            " 1.097e+03 2.981e+03 8.103e+03]\n",
            "\n"
          ],
          "name": "stdout"
        }
      ]
    },
    {
      "cell_type": "markdown",
      "metadata": {
        "id": "BrsHhT2HxdJH"
      },
      "source": [
        "<img src=\"https://img2018.cnblogs.com/blog/1575244/201901/1575244-20190104110528794-772383246.png\" alt=\"drawing\" align=\"middle\" width=\"500\"/>\n"
      ]
    },
    {
      "cell_type": "markdown",
      "metadata": {
        "id": "tySJTy7gyNbx"
      },
      "source": [
        "<img src=\"https://img2018.cnblogs.com/blog/1575244/201901/1575244-20190104110534666-1972622806.png\" alt=\"drawing\" align=\"middle\" width=\"500\"/>\n",
        "\n"
      ]
    },
    {
      "cell_type": "markdown",
      "metadata": {
        "id": "fzAwZrFD0Sgd"
      },
      "source": [
        "#### Mathematical and Statistical Methods"
      ]
    },
    {
      "cell_type": "code",
      "metadata": {
        "id": "o_tNpvmxwRvH",
        "outputId": "643cfe51-f802-41a0-b103-2e175b50ae3a"
      },
      "source": [
        "arr = np.random.randn(5, 4)\n",
        "arr"
      ],
      "execution_count": null,
      "outputs": [
        {
          "output_type": "execute_result",
          "data": {
            "text/plain": [
              "array([[ 0.31029012, -1.04088446, -1.08424317, -0.1394862 ],\n",
              "       [ 0.82208666, -0.18018932, -0.12622644, -1.09045283],\n",
              "       [-0.26347372,  0.90842893, -0.55292021, -0.86712503],\n",
              "       [ 0.31888398, -0.49637914, -0.26334484,  0.21230114],\n",
              "       [ 1.16174798, -0.18467769,  1.44495465, -1.02466818]])"
            ]
          },
          "metadata": {
            "tags": []
          },
          "execution_count": 51
        }
      ]
    },
    {
      "cell_type": "code",
      "metadata": {
        "id": "dkjEATG00Y__",
        "outputId": "5b9e9a76-2f1f-415d-989d-e13bca4ba73b"
      },
      "source": [
        "# Media global\n",
        "printt(arr.mean())\n",
        "printt(np.mean(arr))"
      ],
      "execution_count": null,
      "outputs": [
        {
          "output_type": "stream",
          "text": [
            "-0.10676888787468716\n",
            "\n",
            "-0.10676888787468716\n",
            "\n"
          ],
          "name": "stdout"
        }
      ]
    },
    {
      "cell_type": "code",
      "metadata": {
        "id": "ZXLkVvb71sa0",
        "outputId": "6d5cfd00-7f35-4dcb-9d71-04862d848011"
      },
      "source": [
        "# Media por axis\n",
        "printt(arr.mean(axis=0)) # por renglón\n",
        "printt(arr.mean(axis=1)) #por columnas"
      ],
      "execution_count": null,
      "outputs": [
        {
          "output_type": "stream",
          "text": [
            "[ 0.46990701 -0.19874033 -0.116356   -0.58188622]\n",
            "\n",
            "[-0.48858093 -0.14369548 -0.19377251 -0.05713471  0.34933919]\n",
            "\n"
          ],
          "name": "stdout"
        }
      ]
    },
    {
      "cell_type": "code",
      "metadata": {
        "id": "ixjit9YN1xi6",
        "outputId": "2b07a37e-ed34-411e-ec0c-7da5b883f47e"
      },
      "source": [
        "# Suma\n",
        "printt(arr.sum())\n",
        "\n",
        "printt(arr.sum(axis=0))\n",
        "\n",
        "printt(arr.sum(axis=1))"
      ],
      "execution_count": null,
      "outputs": [
        {
          "output_type": "stream",
          "text": [
            "-2.1353777574937434\n",
            "\n",
            "[ 2.34953503 -0.99370167 -0.58178001 -2.9094311 ]\n",
            "\n",
            "[-1.95432371 -0.57478192 -0.77509003 -0.22853886  1.39735676]\n",
            "\n"
          ],
          "name": "stdout"
        }
      ]
    },
    {
      "cell_type": "code",
      "metadata": {
        "id": "-HogXzv9W_qv",
        "outputId": "4123dda0-2682-41a7-9412-bbdfee4a6604"
      },
      "source": [
        "arr = np.random.randn(5, 4)\n",
        "print('min:',np.amin(arr))\n",
        "\n",
        "print('min por renglon: ',np.amin(arr, axis=0))\n",
        "\n",
        "print('max: ',np.amax(arr))\n",
        "\n",
        "print('max por renglon: ',np.amax(arr, axis=0))\n",
        "\n",
        "print('max por columna: ',np.amax(arr, axis=1))\n",
        "\n",
        "print('mediana: ',np.median(arr))\n",
        "\n",
        "print('mediana por renglon: ',np.median(arr,axis=0))\n",
        "\n",
        "print('media pesada: ',np.average(arr))\n",
        "\n",
        "print('media aritmética: ',np.mean(arr))\n",
        "\n",
        "print('desviación estándar: ',np.std(arr))\n",
        "\n",
        "print('varianza: ',np.var(arr))\n",
        "\n",
        "print('Percentil 90: ',np.percentile(arr, 90))\n",
        "\n",
        "print('cuantil 0.9: ',np.quantile(arr, 0.9))\n",
        "\n",
        "print('cuantil 0.5: ',np.quantile(arr, 0.5))\n",
        "\n",
        "print('Correlación de Pearson: ',np.corrcoef(arr))\n",
        "\n",
        "print('Covarianza: ',np.cov(arr))"
      ],
      "execution_count": null,
      "outputs": [
        {
          "output_type": "stream",
          "text": [
            "min: -2.0328030751517545\n",
            "min por renglon:  [-2.03280308 -1.98215815 -1.10248062 -0.12305449]\n",
            "max:  2.6106793837136197\n",
            "max por renglon:  [ 0.65513101 -0.11028443  0.2132211   2.61067938]\n",
            "max por columna:  [0.83732126 0.34552814 2.61067938 0.2132211  0.99235428]\n",
            "mediana:  -0.334176618210573\n",
            "mediana por renglon:  [-1.13031551 -0.64454395 -0.54529875  0.83732126]\n",
            "media pesada:  -0.2409561901218713\n",
            "media aritmética:  -0.2409561901218713\n",
            "desviación estándar:  1.0647439872810398\n",
            "varianza:  1.133679758451127\n",
            "Percentil 90:  0.8528245589232407\n",
            "cuantil 0.9:  0.8528245589232407\n",
            "cuantil 0.5:  -0.334176618210573\n",
            "Correlación de Pearson:  [[ 1.          0.62245196  0.73906032 -0.47952723  0.14213968]\n",
            " [ 0.62245196  1.          0.72879274  0.38469326  0.84694611]\n",
            " [ 0.73906032  0.72879274  1.         -0.0024491   0.55467973]\n",
            " [-0.47952723  0.38469326 -0.0024491   1.          0.79591669]\n",
            " [ 0.14213968  0.84694611  0.55467973  0.79591669  1.        ]]\n",
            "Covarianza:  [[ 0.51652309  0.31254451  1.03245727 -0.34087744  0.0956092 ]\n",
            " [ 0.31254451  0.48811521  0.98972044  0.26583727  0.55380443]\n",
            " [ 1.03245727  0.98972044  3.77828456 -0.00470862  1.00908814]\n",
            " [-0.34087744  0.26583727 -0.00470862  0.97831842  0.7367959 ]\n",
            " [ 0.0956092   0.55380443  1.00908814  0.7367959   0.87594925]]\n"
          ],
          "name": "stdout"
        }
      ]
    },
    {
      "cell_type": "code",
      "metadata": {
        "id": "WCMppVsEW_qv",
        "outputId": "99ee6eda-62ae-4d60-f8a2-5cd1a6ecedc6"
      },
      "source": [
        "arr[4,2] = None\n",
        "\n",
        "print(arr)\n",
        "print('min:',np.amin(arr))\n",
        "\n",
        "print('min por renglon: ',np.amin(arr, axis=0))\n",
        "\n",
        "print('max: ',np.amax(arr))\n",
        "\n",
        "print('max por renglon: ',np.amax(arr, axis=0))\n",
        "\n",
        "print('max por columna: ',np.amax(arr, axis=1))\n",
        "\n",
        "print('mediana: ',np.median(arr))\n",
        "\n",
        "print('mediana por renglon: ',np.median(arr,axis=0))\n",
        "\n",
        "print('media pesada: ',np.average(arr))\n",
        "\n",
        "print('media aritmética: ',np.mean(arr))\n",
        "\n",
        "print('desviación estándar: ',np.std(arr))\n",
        "\n",
        "print('varianza: ',np.var(arr))\n",
        "\n",
        "print('Percentil 90: ',np.percentile(arr, 90))\n",
        "\n",
        "print('cuantil 0.9: ',np.quantile(arr, 0.9))\n",
        "\n",
        "print('cuantil 0.5: ',np.quantile(arr, 0.5))\n",
        "\n",
        "print('Correlación de Pearson: ',np.corrcoef(arr))\n",
        "\n",
        "print('Covarianza: ',np.cov(arr))\n"
      ],
      "execution_count": null,
      "outputs": [
        {
          "output_type": "stream",
          "text": [
            "[[ 0.58501729 -0.11028443 -0.75589806  0.83732126]\n",
            " [-1.13031551 -0.85753172 -1.10248062  0.34552814]\n",
            " [ 0.65513101 -1.98215815 -0.54529875  2.61067938]\n",
            " [-2.03280308 -0.64454395  0.2132211  -0.12305449]\n",
            " [-1.22165879 -0.55079359         nan  0.99235428]]\n",
            "min: nan\n",
            "min por renglon:  [-2.03280308 -1.98215815         nan -0.12305449]\n",
            "max:  nan\n",
            "max por renglon:  [ 0.65513101 -0.11028443         nan  2.61067938]\n",
            "max por columna:  [0.83732126 0.34552814 2.61067938 0.2132211         nan]\n",
            "mediana:  nan\n",
            "mediana por renglon:  [-1.13031551 -0.64454395         nan  0.83732126]\n",
            "media pesada:  nan\n",
            "media aritmética:  nan\n",
            "desviación estándar:  nan\n",
            "varianza:  nan\n",
            "Percentil 90:  nan\n",
            "cuantil 0.9:  nan\n",
            "cuantil 0.5:  nan\n",
            "Correlación de Pearson:  [[ 1.          0.62245196  0.73906032 -0.47952723         nan]\n",
            " [ 0.62245196  1.          0.72879274  0.38469326         nan]\n",
            " [ 0.73906032  0.72879274  1.         -0.0024491          nan]\n",
            " [-0.47952723  0.38469326 -0.0024491   1.                 nan]\n",
            " [        nan         nan         nan         nan         nan]]\n",
            "Covarianza:  [[ 0.51652309  0.31254451  1.03245727 -0.34087744         nan]\n",
            " [ 0.31254451  0.48811521  0.98972044  0.26583727         nan]\n",
            " [ 1.03245727  0.98972044  3.77828456 -0.00470862         nan]\n",
            " [-0.34087744  0.26583727 -0.00470862  0.97831842         nan]\n",
            " [        nan         nan         nan         nan         nan]]\n"
          ],
          "name": "stdout"
        },
        {
          "output_type": "stream",
          "text": [
            "C:\\Users\\CIMAT-PRESICIONM38\\Anaconda3\\envs\\Industria 4.0\\lib\\site-packages\\numpy\\lib\\function_base.py:3405: RuntimeWarning: Invalid value encountered in median\n",
            "  r = func(a, **kwargs)\n",
            "C:\\Users\\CIMAT-PRESICIONM38\\Anaconda3\\envs\\Industria 4.0\\lib\\site-packages\\numpy\\lib\\function_base.py:3405: RuntimeWarning: Invalid value encountered in median for 1 results\n",
            "  r = func(a, **kwargs)\n",
            "C:\\Users\\CIMAT-PRESICIONM38\\Anaconda3\\envs\\Industria 4.0\\lib\\site-packages\\numpy\\lib\\function_base.py:3826: RuntimeWarning: Invalid value encountered in percentile\n",
            "  interpolation=interpolation)\n"
          ],
          "name": "stderr"
        }
      ]
    },
    {
      "cell_type": "code",
      "metadata": {
        "id": "pVZpsj9aW_qv",
        "outputId": "cf9db47c-f7bc-4319-a809-2d24ee04f7d4"
      },
      "source": [
        "print(arr)\n",
        "print('min:',np.nanmin(arr))\n",
        "\n",
        "print('max: ',np.nanmax(arr))\n",
        "\n",
        "print('mediana: ',np.nanmedian(arr))\n",
        "\n",
        "print('media aritmética: ',np.nanmean(arr))\n",
        "\n",
        "print('desviación estándar: ',np.nanstd(arr))\n",
        "\n",
        "print('varianza: ',np.nanvar(arr))\n",
        "\n",
        "print('Percentil 90: ',np.nanpercentile(arr, 90))\n",
        "\n",
        "print('cuantil 0.9: ',np.nanquantile(arr, 0.9))\n",
        "\n",
        "print('cuantil 0.5: ',np.nanquantile(arr, 0.5))\n",
        "\n",
        "\n"
      ],
      "execution_count": null,
      "outputs": [
        {
          "output_type": "stream",
          "text": [
            "[[ 0.58501729 -0.11028443 -0.75589806  0.83732126]\n",
            " [-1.13031551 -0.85753172 -1.10248062  0.34552814]\n",
            " [ 0.65513101 -1.98215815 -0.54529875  2.61067938]\n",
            " [-2.03280308 -0.64454395  0.2132211  -0.12305449]\n",
            " [-1.22165879 -0.55079359         nan  0.99235428]]\n",
            "min: -2.0328030751517545\n",
            "max:  2.6106793837136197\n",
            "mediana:  -0.5452987505696152\n",
            "media aritmética:  -0.2535562457041034\n",
            "desviación estándar:  1.0909499925045025\n",
            "varianza:  1.190171886145574\n",
            "Percentil 90:  0.8683278610194474\n",
            "cuantil 0.9:  0.8683278610194474\n",
            "cuantil 0.5:  -0.5452987505696152\n"
          ],
          "name": "stdout"
        }
      ]
    },
    {
      "cell_type": "markdown",
      "metadata": {
        "id": "y07GyQOR3kLq"
      },
      "source": [
        "#### Sort, Unique and other set logic"
      ]
    },
    {
      "cell_type": "code",
      "metadata": {
        "id": "HULeZXFJ3puP",
        "outputId": "fe474f5e-996c-4216-eb66-570383da02ee"
      },
      "source": [
        "# Ordenar\n",
        "arr=np.random.randn(6)\n",
        "printt(arr)\n",
        "arr.sort()  # La función actúa sobre  los datos originales\n",
        "printt(arr)"
      ],
      "execution_count": null,
      "outputs": [
        {
          "output_type": "stream",
          "text": [
            "[-1.82279018  1.779787    1.13727492 -1.30703425  0.35329307  0.14658197]\n",
            "\n",
            "[-1.82279018 -1.30703425  0.14658197  0.35329307  1.13727492  1.779787  ]\n",
            "\n"
          ],
          "name": "stdout"
        }
      ]
    },
    {
      "cell_type": "code",
      "metadata": {
        "id": "oLmYTzwD31oh",
        "outputId": "d58b2dbb-9282-42b8-e811-bff216ae675a"
      },
      "source": [
        "#You can sort each one-dimensional section of values in a multidimensional array inplace \n",
        "#along an axis by passing the axis number to sort:\n",
        "\n",
        "arr=np.random.randint(1,56,25).reshape(5,5)\n",
        "printt(arr)\n",
        "arr.sort(1) # ordenar por renglon\n",
        "printt(arr)\n",
        "arr.sort(0) ## ordenar por columna\n",
        "printt(arr)"
      ],
      "execution_count": null,
      "outputs": [
        {
          "output_type": "stream",
          "text": [
            "[[23 37 24 42 46]\n",
            " [27 10 36  1 44]\n",
            " [49 40 30 45 34]\n",
            " [24 21 28 54 50]\n",
            " [47 43 12 27 49]]\n",
            "\n",
            "[[23 24 37 42 46]\n",
            " [ 1 10 27 36 44]\n",
            " [30 34 40 45 49]\n",
            " [21 24 28 50 54]\n",
            " [12 27 43 47 49]]\n",
            "\n",
            "[[ 1 10 27 36 44]\n",
            " [12 24 28 42 46]\n",
            " [21 24 37 45 49]\n",
            " [23 27 40 47 49]\n",
            " [30 34 43 50 54]]\n",
            "\n"
          ],
          "name": "stdout"
        }
      ]
    },
    {
      "cell_type": "code",
      "metadata": {
        "id": "eHQWf3sQ41YA",
        "outputId": "75488253-df3f-45c5-d143-bf7b3be2b4ea"
      },
      "source": [
        "# Valores únicos\n",
        "names = np.array(['Bob', 'Joe', 'Will', 'Bob', 'Will', 'Joe', 'Joe'])\n",
        "np.unique(names)"
      ],
      "execution_count": null,
      "outputs": [
        {
          "output_type": "execute_result",
          "data": {
            "text/plain": [
              "array(['Bob', 'Joe', 'Will'], dtype='<U4')"
            ]
          },
          "metadata": {
            "tags": []
          },
          "execution_count": 60
        }
      ]
    },
    {
      "cell_type": "markdown",
      "metadata": {
        "id": "QbE5zklo5x05"
      },
      "source": [
        "### Álgebra lineal "
      ]
    },
    {
      "cell_type": "code",
      "metadata": {
        "id": "Sh3vSF7oW_qx",
        "outputId": "c35111c8-957a-4878-a20f-ae89a52166f8"
      },
      "source": [
        "x = np.arange(1,5).reshape(2,2)\n",
        "y = np.arange(1,5).reshape(2,2)\n",
        "print (\"Original: \")\n",
        "print(x)\n",
        "#  add()is used to add matrices\n",
        "print (\"Addition of two matrices: \")\n",
        "print (np.add(x,y))\n",
        "# subtract()is used to subtract matrices\n",
        "print (\"Subtraction of two matrices : \")\n",
        "print (np.subtract(x,y))\n",
        "# divide()is used to divide matrices\n",
        "print (\"Matrix Division : \")\n",
        "print (np.divide(x,y))\n",
        "print (\"Multiplication of two matrices (element-wise): \")\n",
        "print (np.multiply(x,y))\n",
        "print (\"The product of two matrices : \")\n",
        "print (np.dot(x,y))\n",
        "print (\"square root is : \")\n",
        "print (np.sqrt(x))\n",
        "print (\"The summation of elements : \")\n",
        "print (np.sum(y))\n",
        "print (\"The column wise summation  : \")\n",
        "print (np.sum(y,axis=0))\n",
        "print (\"The row wise summation: \")\n",
        "print (np.sum(y,axis=1))\n",
        "# using \"T\" to transpose the matrix\n",
        "print (\"Matrix transposition : \")\n",
        "print (x.T)"
      ],
      "execution_count": null,
      "outputs": [
        {
          "output_type": "stream",
          "text": [
            "Original: \n",
            "[[1 2]\n",
            " [3 4]]\n",
            "Addition of two matrices: \n",
            "[[2 4]\n",
            " [6 8]]\n",
            "Subtraction of two matrices : \n",
            "[[0 0]\n",
            " [0 0]]\n",
            "Matrix Division : \n",
            "[[1. 1.]\n",
            " [1. 1.]]\n",
            "Multiplication of two matrices (element-wise): \n",
            "[[ 1  4]\n",
            " [ 9 16]]\n",
            "The product of two matrices : \n",
            "[[ 7 10]\n",
            " [15 22]]\n",
            "square root is : \n",
            "[[1.         1.41421356]\n",
            " [1.73205081 2.        ]]\n",
            "The summation of elements : \n",
            "10\n",
            "The column wise summation  : \n",
            "[4 6]\n",
            "The row wise summation: \n",
            "[3 7]\n",
            "Matrix transposition : \n",
            "[[1 3]\n",
            " [2 4]]\n"
          ],
          "name": "stdout"
        }
      ]
    },
    {
      "cell_type": "code",
      "metadata": {
        "id": "HQVXW0Gf50Ze"
      },
      "source": [
        "x = np.array([[1., 2., 3.], [4., 5., 6.]])\n",
        "y = np.array([[6., 23.], [-1, 7], [8, 9]])"
      ],
      "execution_count": null,
      "outputs": []
    },
    {
      "cell_type": "code",
      "metadata": {
        "colab": {
          "base_uri": "https://localhost:8080/",
          "height": 54
        },
        "id": "DA_Bhsjf592G",
        "outputId": "744d6254-438a-44fb-9d34-2db4cbb09256"
      },
      "source": [
        "# Producto matricial variaciones\n",
        "print(x.dot(y))\n",
        "print(x)"
      ],
      "execution_count": null,
      "outputs": [
        {
          "output_type": "stream",
          "text": [
            "[[ 28.  64.]\n",
            " [ 67. 181.]]\n",
            "[[1. 2. 3.]\n",
            " [4. 5. 6.]]\n"
          ],
          "name": "stdout"
        }
      ]
    },
    {
      "cell_type": "code",
      "metadata": {
        "colab": {
          "base_uri": "https://localhost:8080/",
          "height": 54
        },
        "id": "__dqQryoA06L",
        "outputId": "37e4fb92-82de-40f7-9dc1-51cee2617da7"
      },
      "source": [
        "print(np.dot(x,y))"
      ],
      "execution_count": null,
      "outputs": [
        {
          "output_type": "stream",
          "text": [
            "[[ 28.  64.]\n",
            " [ 67. 181.]]\n"
          ],
          "name": "stdout"
        }
      ]
    },
    {
      "cell_type": "code",
      "metadata": {
        "colab": {
          "base_uri": "https://localhost:8080/",
          "height": 54
        },
        "id": "BpwoFHkGBBLw",
        "outputId": "0b6bbc2f-44e9-4efd-a4e7-b40ef10440aa"
      },
      "source": [
        "print(x@y) "
      ],
      "execution_count": null,
      "outputs": [
        {
          "output_type": "stream",
          "text": [
            "[[ 28.  64.]\n",
            " [ 67. 181.]]\n"
          ],
          "name": "stdout"
        }
      ]
    },
    {
      "cell_type": "code",
      "metadata": {
        "id": "IxtwWNNU6omH"
      },
      "source": [
        "#numpy.linalg has a standard set of matrix decompositions and things like inverse\n",
        "#and determinant.\n",
        "\n",
        "from numpy.linalg import inv\n",
        "\n",
        "\n"
      ],
      "execution_count": null,
      "outputs": []
    },
    {
      "cell_type": "code",
      "metadata": {
        "id": "P3aKu3Nr6yCd",
        "outputId": "6a3e0f14-25c8-4bb1-ff10-87530efce26b"
      },
      "source": [
        "# Inversa\n",
        "X = np.random.randn(3, 3)\n",
        "mat = X.T.dot(X)\n",
        "inv(mat)"
      ],
      "execution_count": null,
      "outputs": [
        {
          "output_type": "execute_result",
          "data": {
            "text/plain": [
              "array([[  3.5823891 ,  -5.30966364, -12.41368431],\n",
              "       [ -5.30966364,  12.23140001,  25.85968701],\n",
              "       [-12.41368431,  25.85968701,  57.38794201]])"
            ]
          },
          "metadata": {
            "tags": []
          },
          "execution_count": 67
        }
      ]
    },
    {
      "cell_type": "code",
      "metadata": {
        "id": "Jm44orLO68jQ",
        "outputId": "b7edeca4-85eb-4ada-b607-02a682e6babf"
      },
      "source": [
        "mat@inv(mat)"
      ],
      "execution_count": null,
      "outputs": [
        {
          "output_type": "execute_result",
          "data": {
            "text/plain": [
              "array([[ 1.00000000e+00,  8.44913337e-16, -1.00627206e-15],\n",
              "       [ 1.96922743e-15,  1.00000000e+00,  8.70181436e-16],\n",
              "       [-4.90101357e-17,  2.36634319e-15,  1.00000000e+00]])"
            ]
          },
          "metadata": {
            "tags": []
          },
          "execution_count": 68
        }
      ]
    },
    {
      "cell_type": "markdown",
      "metadata": {
        "id": "AuLe7PAD7oAE"
      },
      "source": [
        "<img src=\"http://talimi.se/wp-content/uploads/2018/01/Ska%CC%88rmavbild-2018-01-02-kl.-04.29.04.png\" alt=\"drawing\" align=\"middle\" width=\"300\"/>\n",
        "<img src=\"http://talimi.se/wp-content/uploads/2018/01/Ska%CC%88rmavbild-2018-01-02-kl.-04.29.57.png\" alt=\"drawing\" align=\"middle\" width=\"300\"/>"
      ]
    },
    {
      "cell_type": "markdown",
      "metadata": {
        "id": "6PfiDE0kQXmE"
      },
      "source": [
        "## Referencias"
      ]
    },
    {
      "cell_type": "markdown",
      "metadata": {
        "id": "jSCHC3JgQcFS"
      },
      "source": [
        "* 100 ejercicios con Numpy\n",
        "\n",
        "  https://github.com/rougier/numpy-100"
      ]
    }
  ]
}