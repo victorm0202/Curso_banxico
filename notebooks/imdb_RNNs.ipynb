{
 "cells": [
  {
   "cell_type": "code",
   "execution_count": 1,
   "metadata": {},
   "outputs": [
    {
     "data": {
      "text/plain": [
       "'2.4.3'"
      ]
     },
     "execution_count": 1,
     "metadata": {},
     "output_type": "execute_result"
    }
   ],
   "source": [
    "import keras\n",
    "keras.__version__"
   ]
  },
  {
   "cell_type": "markdown",
   "metadata": {},
   "source": [
    "# RNNs (F. Chollet)\n",
    "\n",
    "## Vanilla RNN"
   ]
  },
  {
   "cell_type": "code",
   "execution_count": 2,
   "metadata": {},
   "outputs": [],
   "source": [
    "from keras.layers import SimpleRNN"
   ]
  },
  {
   "cell_type": "markdown",
   "metadata": {},
   "source": [
    "`SimpleRNN` processes batches of sequences, this means that it takes inputs of shape `(batch_size, timesteps, input_features)`.\n",
    "\n",
    "Like all recurrent layers in Keras, `SimpleRNN` can be run in two different modes: it can return either the full sequences of successive outputs for each timestep (a 3D tensor of shape `(batch_size, timesteps, output_features)`), or it can return only the last output for each \n",
    "input sequence (a 2D tensor of shape `(batch_size, output_features)`). These two modes are controlled by the `return_sequences` constructor argument. Let's take a look at an example:"
   ]
  },
  {
   "cell_type": "code",
   "execution_count": 3,
   "metadata": {},
   "outputs": [
    {
     "name": "stdout",
     "output_type": "stream",
     "text": [
      "Model: \"sequential\"\n",
      "_________________________________________________________________\n",
      "Layer (type)                 Output Shape              Param #   \n",
      "=================================================================\n",
      "embedding (Embedding)        (None, None, 32)          320000    \n",
      "_________________________________________________________________\n",
      "simple_rnn (SimpleRNN)       (None, 32)                2080      \n",
      "=================================================================\n",
      "Total params: 322,080\n",
      "Trainable params: 322,080\n",
      "Non-trainable params: 0\n",
      "_________________________________________________________________\n"
     ]
    }
   ],
   "source": [
    "from keras.models import Sequential\n",
    "from keras.layers import Embedding, SimpleRNN\n",
    "\n",
    "model = Sequential()\n",
    "model.add(Embedding(10000, 32))\n",
    "model.add(SimpleRNN(32))\n",
    "model.summary()"
   ]
  },
  {
   "cell_type": "code",
   "execution_count": 29,
   "metadata": {},
   "outputs": [
    {
     "name": "stdout",
     "output_type": "stream",
     "text": [
      "Model: \"sequential_8\"\n",
      "_________________________________________________________________\n",
      "Layer (type)                 Output Shape              Param #   \n",
      "=================================================================\n",
      "embedding_8 (Embedding)      (None, None, 32)          320000    \n",
      "_________________________________________________________________\n",
      "simple_rnn_2 (SimpleRNN)     (None, None, 32)          2080      \n",
      "=================================================================\n",
      "Total params: 322,080\n",
      "Trainable params: 322,080\n",
      "Non-trainable params: 0\n",
      "_________________________________________________________________\n"
     ]
    }
   ],
   "source": [
    "model = Sequential()\n",
    "model.add(Embedding(10000, 32))\n",
    "model.add(SimpleRNN(32, return_sequences=True))\n",
    "model.summary()"
   ]
  },
  {
   "cell_type": "markdown",
   "metadata": {},
   "source": [
    "It is sometimes useful to stack several recurrent layers one after the other in order to increase the representational power of a network. \n",
    "In such a setup, you have to get all intermediate layers to return full sequences:"
   ]
  },
  {
   "cell_type": "code",
   "execution_count": 30,
   "metadata": {},
   "outputs": [
    {
     "name": "stdout",
     "output_type": "stream",
     "text": [
      "Model: \"sequential_9\"\n",
      "_________________________________________________________________\n",
      "Layer (type)                 Output Shape              Param #   \n",
      "=================================================================\n",
      "embedding_9 (Embedding)      (None, None, 32)          320000    \n",
      "_________________________________________________________________\n",
      "simple_rnn_3 (SimpleRNN)     (None, None, 32)          2080      \n",
      "_________________________________________________________________\n",
      "simple_rnn_4 (SimpleRNN)     (None, None, 32)          2080      \n",
      "_________________________________________________________________\n",
      "simple_rnn_5 (SimpleRNN)     (None, None, 32)          2080      \n",
      "_________________________________________________________________\n",
      "simple_rnn_6 (SimpleRNN)     (None, 32)                2080      \n",
      "=================================================================\n",
      "Total params: 328,320\n",
      "Trainable params: 328,320\n",
      "Non-trainable params: 0\n",
      "_________________________________________________________________\n"
     ]
    }
   ],
   "source": [
    "model = Sequential()\n",
    "model.add(Embedding(10000, 32))\n",
    "model.add(SimpleRNN(32, return_sequences=True))\n",
    "model.add(SimpleRNN(32, return_sequences=True))\n",
    "model.add(SimpleRNN(32, return_sequences=True))\n",
    "model.add(SimpleRNN(32))  # This last layer only returns the last outputs.\n",
    "model.summary()"
   ]
  },
  {
   "cell_type": "markdown",
   "metadata": {},
   "source": [
    "Now let's try to use such a model on the IMDB movie review classification problem. First, let's preprocess the data:"
   ]
  },
  {
   "cell_type": "code",
   "execution_count": 4,
   "metadata": {},
   "outputs": [],
   "source": [
    "import numpy as np\n",
    "# guardar el np.load actual\n",
    "#np_load_old = np.load\n",
    "\n",
    "# modificar los parametros... \n",
    "#np.load = lambda *a,**k: np_load_old(*a, allow_pickle=True, **k)"
   ]
  },
  {
   "cell_type": "code",
   "execution_count": 5,
   "metadata": {},
   "outputs": [
    {
     "name": "stdout",
     "output_type": "stream",
     "text": [
      "Loading data...\n"
     ]
    },
    {
     "name": "stderr",
     "output_type": "stream",
     "text": [
      "/home/victor/virtual_env/deep/lib/python3.8/site-packages/tensorflow/python/keras/datasets/imdb.py:155: VisibleDeprecationWarning: Creating an ndarray from ragged nested sequences (which is a list-or-tuple of lists-or-tuples-or ndarrays with different lengths or shapes) is deprecated. If you meant to do this, you must specify 'dtype=object' when creating the ndarray\n",
      "  x_train, y_train = np.array(xs[:idx]), np.array(labels[:idx])\n",
      "/home/victor/virtual_env/deep/lib/python3.8/site-packages/tensorflow/python/keras/datasets/imdb.py:156: VisibleDeprecationWarning: Creating an ndarray from ragged nested sequences (which is a list-or-tuple of lists-or-tuples-or ndarrays with different lengths or shapes) is deprecated. If you meant to do this, you must specify 'dtype=object' when creating the ndarray\n",
      "  x_test, y_test = np.array(xs[idx:]), np.array(labels[idx:])\n"
     ]
    },
    {
     "name": "stdout",
     "output_type": "stream",
     "text": [
      "25000 train sequences\n",
      "25000 test sequences\n",
      "Pad sequences (samples x time)\n",
      "input_train shape: (25000, 500)\n",
      "input_test shape: (25000, 500)\n"
     ]
    }
   ],
   "source": [
    "from keras.datasets import imdb\n",
    "from keras.preprocessing import sequence\n",
    "\n",
    "max_features = 10000  # number of words to consider as features\n",
    "maxlen = 500  # cut texts after this number of words (among top max_features most common words)\n",
    "batch_size = 32\n",
    "\n",
    "print('Loading data...')\n",
    "(input_train, y_train), (input_test, y_test) = imdb.load_data(num_words=max_features)\n",
    "print(len(input_train), 'train sequences')\n",
    "print(len(input_test), 'test sequences')\n",
    "\n",
    "print('Pad sequences (samples x time)')\n",
    "input_train = sequence.pad_sequences(input_train, maxlen=maxlen)\n",
    "input_test = sequence.pad_sequences(input_test, maxlen=maxlen)\n",
    "print('input_train shape:', input_train.shape)\n",
    "print('input_test shape:', input_test.shape)"
   ]
  },
  {
   "cell_type": "code",
   "execution_count": 6,
   "metadata": {},
   "outputs": [],
   "source": [
    "(tr, y_tr), (te, y_te) = imdb.load_data(num_words=max_features)"
   ]
  },
  {
   "cell_type": "code",
   "execution_count": 34,
   "metadata": {},
   "outputs": [
    {
     "data": {
      "text/plain": [
       "numpy.ndarray"
      ]
     },
     "execution_count": 34,
     "metadata": {},
     "output_type": "execute_result"
    }
   ],
   "source": [
    "type(tr)"
   ]
  },
  {
   "cell_type": "code",
   "execution_count": 10,
   "metadata": {},
   "outputs": [],
   "source": [
    "# vuelvo a restaurar el np.load\n",
    "#np.load = np_load_old"
   ]
  },
  {
   "cell_type": "markdown",
   "metadata": {},
   "source": [
    "Let's train a simple recurrent network using an `Embedding` layer and a `SimpleRNN` layer:"
   ]
  },
  {
   "cell_type": "code",
   "execution_count": 9,
   "metadata": {},
   "outputs": [
    {
     "name": "stdout",
     "output_type": "stream",
     "text": [
      "Epoch 1/10\n",
      "157/157 [==============================] - 14s 90ms/step - loss: 0.5739 - acc: 0.6933 - val_loss: 0.4546 - val_acc: 0.7856\n",
      "Epoch 2/10\n",
      "157/157 [==============================] - 14s 88ms/step - loss: 0.3406 - acc: 0.8580 - val_loss: 0.3546 - val_acc: 0.8556\n",
      "Epoch 3/10\n",
      "157/157 [==============================] - 14s 86ms/step - loss: 0.2556 - acc: 0.9013 - val_loss: 0.3611 - val_acc: 0.8604\n",
      "Epoch 4/10\n",
      "157/157 [==============================] - 14s 88ms/step - loss: 0.2028 - acc: 0.9250 - val_loss: 0.3901 - val_acc: 0.8524\n",
      "Epoch 5/10\n",
      "157/157 [==============================] - 14s 88ms/step - loss: 0.1272 - acc: 0.9538 - val_loss: 0.4610 - val_acc: 0.8226\n",
      "Epoch 6/10\n",
      "157/157 [==============================] - 14s 87ms/step - loss: 0.0795 - acc: 0.9723 - val_loss: 0.5930 - val_acc: 0.8312\n",
      "Epoch 7/10\n",
      "157/157 [==============================] - 13s 84ms/step - loss: 0.0530 - acc: 0.9829 - val_loss: 0.5597 - val_acc: 0.8438\n",
      "Epoch 8/10\n",
      "157/157 [==============================] - 13s 84ms/step - loss: 0.0319 - acc: 0.9896 - val_loss: 0.8165 - val_acc: 0.7858\n",
      "Epoch 9/10\n",
      "157/157 [==============================] - 13s 84ms/step - loss: 0.0198 - acc: 0.9941 - val_loss: 0.8062 - val_acc: 0.8034\n",
      "Epoch 10/10\n",
      "157/157 [==============================] - 13s 84ms/step - loss: 0.0150 - acc: 0.9954 - val_loss: 0.8303 - val_acc: 0.8118\n"
     ]
    }
   ],
   "source": [
    "from keras.layers import Dense\n",
    "\n",
    "model = Sequential()\n",
    "model.add(Embedding(max_features, 32))\n",
    "model.add(SimpleRNN(32))\n",
    "model.add(Dense(25,activation='relu'))\n",
    "model.add(Dense(1, activation='sigmoid'))\n",
    "\n",
    "model.compile(optimizer='rmsprop', loss='binary_crossentropy', metrics=['acc'])\n",
    "history = model.fit(input_train, y_train,\n",
    "                    epochs=10,\n",
    "                    batch_size=128,\n",
    "                    validation_split=0.2)"
   ]
  },
  {
   "cell_type": "markdown",
   "metadata": {},
   "source": [
    "Let's display the training and validation loss and accuracy:"
   ]
  },
  {
   "cell_type": "code",
   "execution_count": 36,
   "metadata": {},
   "outputs": [
    {
     "data": {
      "image/png": "[encoded data removed]",
      "text/plain": [
       "<Figure size 432x288 with 1 Axes>"
      ]
     },
     "metadata": {
      "needs_background": "light"
     },
     "output_type": "display_data"
    },
    {
     "data": {
      "image/png": "[encoded data removed]",
      "text/plain": [
       "<Figure size 432x288 with 1 Axes>"
      ]
     },
     "metadata": {
      "needs_background": "light"
     },
     "output_type": "display_data"
    }
   ],
   "source": [
    "import matplotlib.pyplot as plt\n",
    "\n",
    "acc = history.history['acc']\n",
    "val_acc = history.history['val_acc']\n",
    "loss = history.history['loss']\n",
    "val_loss = history.history['val_loss']\n",
    "\n",
    "epochs = range(len(acc))\n",
    "\n",
    "plt.plot(epochs, acc, 'bo', label='Training acc')\n",
    "plt.plot(epochs, val_acc, 'b', label='Validation acc')\n",
    "plt.title('Training and validation accuracy')\n",
    "plt.legend()\n",
    "\n",
    "plt.figure()\n",
    "\n",
    "plt.plot(epochs, loss, 'bo', label='Training loss')\n",
    "plt.plot(epochs, val_loss, 'b', label='Validation loss')\n",
    "plt.title('Training and validation loss')\n",
    "plt.legend()\n",
    "\n",
    "plt.show()"
   ]
  },
  {
   "cell_type": "markdown",
   "metadata": {},
   "source": [
    "## LSTM\n",
    "\n",
    "Now let's switch to more practical concerns: we will set up a model using a LSTM layer and train it on the IMDB data. Here's the network, \n",
    "similar to the one with `SimpleRNN` that we just presented. We only specify the output dimensionality of the LSTM layer, and leave every \n",
    "other argument (there are lots) to the Keras defaults. Keras has good defaults, and things will almost always \"just work\" without you \n",
    "having to spend time tuning parameters by hand."
   ]
  },
  {
   "cell_type": "code",
   "execution_count": 14,
   "metadata": {},
   "outputs": [
    {
     "name": "stdout",
     "output_type": "stream",
     "text": [
      "Epoch 1/10\n",
      "157/157 [==============================] - 24s 153ms/step - loss: 0.5196 - acc: 0.7514 - val_loss: 0.3474 - val_acc: 0.8540\n",
      "Epoch 2/10\n",
      "157/157 [==============================] - 22s 143ms/step - loss: 0.2915 - acc: 0.8835 - val_loss: 0.3317 - val_acc: 0.8616\n",
      "Epoch 3/10\n",
      "157/157 [==============================] - 22s 140ms/step - loss: 0.2266 - acc: 0.9140 - val_loss: 0.2984 - val_acc: 0.8800\n",
      "Epoch 4/10\n",
      "157/157 [==============================] - 22s 141ms/step - loss: 0.1965 - acc: 0.9254 - val_loss: 0.2976 - val_acc: 0.8824\n",
      "Epoch 5/10\n",
      "157/157 [==============================] - 22s 142ms/step - loss: 0.1737 - acc: 0.9333 - val_loss: 0.3348 - val_acc: 0.8880\n",
      "Epoch 6/10\n",
      "157/157 [==============================] - 23s 143ms/step - loss: 0.1519 - acc: 0.9435 - val_loss: 0.4319 - val_acc: 0.8318\n",
      "Epoch 7/10\n",
      "157/157 [==============================] - 22s 142ms/step - loss: 0.1391 - acc: 0.9505 - val_loss: 0.3283 - val_acc: 0.8846\n",
      "Epoch 8/10\n",
      "157/157 [==============================] - 22s 142ms/step - loss: 0.1216 - acc: 0.9564 - val_loss: 0.3829 - val_acc: 0.8858\n",
      "Epoch 9/10\n",
      "157/157 [==============================] - 22s 141ms/step - loss: 0.1145 - acc: 0.9592 - val_loss: 0.3373 - val_acc: 0.8814\n",
      "Epoch 10/10\n",
      "157/157 [==============================] - 22s 142ms/step - loss: 0.0977 - acc: 0.9658 - val_loss: 0.3751 - val_acc: 0.8828\n"
     ]
    }
   ],
   "source": [
    "from keras.layers import LSTM\n",
    "\n",
    "model = Sequential()\n",
    "model.add(Embedding(max_features, 32))\n",
    "model.add(LSTM(32))\n",
    "model.add(Dense(25,activation='relu'))\n",
    "model.add(Dense(1, activation='sigmoid'))\n",
    "\n",
    "model.compile(optimizer='rmsprop',\n",
    "              loss='binary_crossentropy',\n",
    "              metrics=['acc'])\n",
    "history = model.fit(input_train, y_train,\n",
    "                    epochs=10,\n",
    "                    batch_size=128,\n",
    "                    validation_split=0.2)"
   ]
  },
  {
   "cell_type": "code",
   "execution_count": 15,
   "metadata": {},
   "outputs": [
    {
     "data": {
      "image/png": "[encoded data removed]",
      "text/plain": [
       "<Figure size 432x288 with 1 Axes>"
      ]
     },
     "metadata": {
      "needs_background": "light"
     },
     "output_type": "display_data"
    },
    {
     "data": {
      "image/png": "[encoded data removed]",
      "text/plain": [
       "<Figure size 432x288 with 1 Axes>"
      ]
     },
     "metadata": {
      "needs_background": "light"
     },
     "output_type": "display_data"
    }
   ],
   "source": [
    "acc = history.history['acc']\n",
    "val_acc = history.history['val_acc']\n",
    "loss = history.history['loss']\n",
    "val_loss = history.history['val_loss']\n",
    "\n",
    "epochs = range(len(acc))\n",
    "\n",
    "plt.plot(epochs, acc, 'bo', label='Training acc')\n",
    "plt.plot(epochs, val_acc, 'b', label='Validation acc')\n",
    "plt.title('Training and validation accuracy')\n",
    "plt.legend()\n",
    "\n",
    "plt.figure()\n",
    "\n",
    "plt.plot(epochs, loss, 'bo', label='Training loss')\n",
    "plt.plot(epochs, val_loss, 'b', label='Validation loss')\n",
    "plt.title('Training and validation loss')\n",
    "plt.legend()\n",
    "\n",
    "plt.show()"
   ]
  },
  {
   "cell_type": "markdown",
   "metadata": {},
   "source": [
    "### Stack de LSTM"
   ]
  },
  {
   "cell_type": "code",
   "execution_count": 39,
   "metadata": {},
   "outputs": [
    {
     "name": "stdout",
     "output_type": "stream",
     "text": [
      "Model: \"sequential_12\"\n",
      "_________________________________________________________________\n",
      "Layer (type)                 Output Shape              Param #   \n",
      "=================================================================\n",
      "embedding_12 (Embedding)     (None, None, 32)          320000    \n",
      "_________________________________________________________________\n",
      "lstm_8 (LSTM)                (None, None, 32)          8320      \n",
      "_________________________________________________________________\n",
      "lstm_9 (LSTM)                (None, None, 32)          8320      \n",
      "_________________________________________________________________\n",
      "lstm_10 (LSTM)               (None, None, 32)          8320      \n",
      "_________________________________________________________________\n",
      "lstm_11 (LSTM)               (None, 32)                8320      \n",
      "_________________________________________________________________\n",
      "dense_7 (Dense)              (None, 25)                825       \n",
      "_________________________________________________________________\n",
      "dense_8 (Dense)              (None, 1)                 26        \n",
      "=================================================================\n",
      "Total params: 354,131\n",
      "Trainable params: 354,131\n",
      "Non-trainable params: 0\n",
      "_________________________________________________________________\n"
     ]
    }
   ],
   "source": [
    "model = Sequential()\n",
    "model.add(Embedding(max_features, 32))\n",
    "model.add(LSTM(32, return_sequences=True))\n",
    "model.add(LSTM(32, return_sequences=True))\n",
    "model.add(LSTM(32, return_sequences=True))\n",
    "model.add(LSTM(32))\n",
    "model.add(Dense(25,activation='relu'))\n",
    "model.add(Dense(1, activation='sigmoid'))\n",
    "model.summary()"
   ]
  },
  {
   "cell_type": "code",
   "execution_count": 40,
   "metadata": {},
   "outputs": [
    {
     "name": "stdout",
     "output_type": "stream",
     "text": [
      "Epoch 1/10\n",
      "157/157 [==============================] - 97s 619ms/step - loss: 0.4914 - acc: 0.7576 - val_loss: 0.3249 - val_acc: 0.8624\n",
      "Epoch 2/10\n",
      "157/157 [==============================] - 93s 590ms/step - loss: 0.3011 - acc: 0.8813 - val_loss: 0.4361 - val_acc: 0.8588\n",
      "Epoch 3/10\n",
      "157/157 [==============================] - 95s 603ms/step - loss: 0.2428 - acc: 0.9075 - val_loss: 0.6526 - val_acc: 0.7456\n",
      "Epoch 4/10\n",
      "157/157 [==============================] - 96s 613ms/step - loss: 0.2112 - acc: 0.9225 - val_loss: 0.3044 - val_acc: 0.8806\n",
      "Epoch 5/10\n",
      "157/157 [==============================] - 97s 620ms/step - loss: 0.1839 - acc: 0.9342 - val_loss: 0.2998 - val_acc: 0.8816\n",
      "Epoch 6/10\n",
      "157/157 [==============================] - 99s 631ms/step - loss: 0.1589 - acc: 0.9414 - val_loss: 0.3183 - val_acc: 0.8748\n",
      "Epoch 7/10\n",
      "157/157 [==============================] - 99s 631ms/step - loss: 0.1440 - acc: 0.9498 - val_loss: 0.4010 - val_acc: 0.8788\n",
      "Epoch 8/10\n",
      "157/157 [==============================] - 99s 628ms/step - loss: 0.1291 - acc: 0.9565 - val_loss: 0.6228 - val_acc: 0.8292\n",
      "Epoch 9/10\n",
      "157/157 [==============================] - 95s 608ms/step - loss: 0.1174 - acc: 0.9577 - val_loss: 0.3324 - val_acc: 0.8712\n",
      "Epoch 10/10\n",
      "157/157 [==============================] - 93s 593ms/step - loss: 0.1085 - acc: 0.9617 - val_loss: 0.3561 - val_acc: 0.8758\n"
     ]
    }
   ],
   "source": [
    "model.compile(optimizer='rmsprop',\n",
    "              loss='binary_crossentropy',\n",
    "              metrics=['acc'])\n",
    "history = model.fit(input_train, y_train,\n",
    "                    epochs=10,\n",
    "                    batch_size=128,\n",
    "                    validation_split=0.2)"
   ]
  },
  {
   "cell_type": "markdown",
   "metadata": {},
   "source": [
    "## RNN bidireccional\n",
    "\n",
    "Usaremos LSTM para éste ejemplo, pero puedes agregar otro tipo de RNN"
   ]
  },
  {
   "cell_type": "code",
   "execution_count": 10,
   "metadata": {},
   "outputs": [
    {
     "name": "stdout",
     "output_type": "stream",
     "text": [
      "Model: \"sequential_4\"\n",
      "_________________________________________________________________\n",
      "Layer (type)                 Output Shape              Param #   \n",
      "=================================================================\n",
      "embedding_4 (Embedding)      (None, None, 32)          320000    \n",
      "_________________________________________________________________\n",
      "bidirectional (Bidirectional (None, 64)                16640     \n",
      "_________________________________________________________________\n",
      "dense_2 (Dense)              (None, 25)                1625      \n",
      "_________________________________________________________________\n",
      "dense_3 (Dense)              (None, 1)                 26        \n",
      "=================================================================\n",
      "Total params: 338,291\n",
      "Trainable params: 338,291\n",
      "Non-trainable params: 0\n",
      "_________________________________________________________________\n"
     ]
    }
   ],
   "source": [
    "from keras.layers import LSTM\n",
    "from keras.layers import Bidirectional\n",
    "model = Sequential()\n",
    "model.add(Embedding(max_features, 32))\n",
    "#model.add(Bidirectional(LSTM(32, return_sequences=True)))\n",
    "model.add(Bidirectional(LSTM(32)))\n",
    "model.add(Dense(25,activation='relu'))\n",
    "model.add(Dense(1, activation='sigmoid'))\n",
    "model.compile(loss='categorical_crossentropy', optimizer='rmsprop')\n",
    "          \n",
    "model.compile(optimizer='rmsprop',\n",
    "              loss='binary_crossentropy',\n",
    "              metrics=['acc'])\n",
    "model.summary()"
   ]
  },
  {
   "cell_type": "code",
   "execution_count": 11,
   "metadata": {},
   "outputs": [
    {
     "name": "stdout",
     "output_type": "stream",
     "text": [
      "Epoch 1/10\n",
      "157/157 [==============================] - 38s 245ms/step - loss: 0.4950 - acc: 0.7571 - val_loss: 0.3235 - val_acc: 0.8676\n",
      "Epoch 2/10\n",
      "157/157 [==============================] - 38s 244ms/step - loss: 0.2826 - acc: 0.8869 - val_loss: 0.2943 - val_acc: 0.8768\n",
      "Epoch 3/10\n",
      "157/157 [==============================] - 39s 250ms/step - loss: 0.2242 - acc: 0.9137 - val_loss: 0.3579 - val_acc: 0.8568\n",
      "Epoch 4/10\n",
      "157/157 [==============================] - 41s 262ms/step - loss: 0.1928 - acc: 0.9279 - val_loss: 0.3285 - val_acc: 0.8744\n",
      "Epoch 5/10\n",
      "157/157 [==============================] - 39s 249ms/step - loss: 0.1726 - acc: 0.9383 - val_loss: 0.4477 - val_acc: 0.8626\n",
      "Epoch 6/10\n",
      "157/157 [==============================] - 37s 238ms/step - loss: 0.1537 - acc: 0.9446 - val_loss: 0.5741 - val_acc: 0.8284\n",
      "Epoch 7/10\n",
      "157/157 [==============================] - 37s 236ms/step - loss: 0.1383 - acc: 0.9497 - val_loss: 0.3259 - val_acc: 0.8890\n",
      "Epoch 8/10\n",
      "157/157 [==============================] - 37s 238ms/step - loss: 0.1283 - acc: 0.9543 - val_loss: 0.3352 - val_acc: 0.8852\n",
      "Epoch 9/10\n",
      "157/157 [==============================] - 37s 237ms/step - loss: 0.1134 - acc: 0.9613 - val_loss: 0.4455 - val_acc: 0.8584\n",
      "Epoch 10/10\n",
      "157/157 [==============================] - 37s 237ms/step - loss: 0.1122 - acc: 0.9600 - val_loss: 0.3520 - val_acc: 0.8852\n"
     ]
    }
   ],
   "source": [
    "history = model.fit(input_train, y_train,\n",
    "                    epochs=10,\n",
    "                    batch_size=128,\n",
    "                    validation_split=0.2)"
   ]
  },
  {
   "cell_type": "code",
   "execution_count": 13,
   "metadata": {},
   "outputs": [
    {
     "data": {
      "image/png": "[encoded data removed]",
      "text/plain": [
       "<Figure size 432x288 with 1 Axes>"
      ]
     },
     "metadata": {
      "needs_background": "light"
     },
     "output_type": "display_data"
    },
    {
     "data": {
      "image/png": "[encoded data removed]",
      "text/plain": [
       "<Figure size 432x288 with 1 Axes>"
      ]
     },
     "metadata": {
      "needs_background": "light"
     },
     "output_type": "display_data"
    }
   ],
   "source": [
    "import matplotlib.pyplot as plt\n",
    "\n",
    "acc = history.history['acc']\n",
    "val_acc = history.history['val_acc']\n",
    "loss = history.history['loss']\n",
    "val_loss = history.history['val_loss']\n",
    "\n",
    "epochs = range(len(acc))\n",
    "\n",
    "plt.plot(epochs, acc, 'bo', label='Training acc')\n",
    "plt.plot(epochs, val_acc, 'b', label='Validation acc')\n",
    "plt.title('Training and validation accuracy')\n",
    "plt.legend()\n",
    "\n",
    "plt.figure()\n",
    "\n",
    "plt.plot(epochs, loss, 'bo', label='Training loss')\n",
    "plt.plot(epochs, val_loss, 'b', label='Validation loss')\n",
    "plt.title('Training and validation loss')\n",
    "plt.legend()\n",
    "\n",
    "plt.show()"
   ]
  },
  {
   "cell_type": "markdown",
   "metadata": {},
   "source": [
    "También puedes usar la definición forward-backward layer, que creo, es más clara"
   ]
  },
  {
   "cell_type": "code",
   "execution_count": null,
   "metadata": {},
   "outputs": [],
   "source": [
    "model = Sequential()\n",
    "model.add(Embedding(max_features, 32))\n",
    "forward_layer = LSTM(32, return_sequences=True)\n",
    "backward_layer = LSTM(32, return_sequences=True, go_backwards=True)\n",
    "model.add(Bidirectional(forward_layer, backward_layer=backward_layer))\n",
    "model.add(Dense(1, activation='sigmoid'))\n",
    "\n",
    "model.compile(optimizer='rmsprop',\n",
    "              loss='binary_crossentropy',\n",
    "              metrics=['acc'])\n",
    "model.summary()"
   ]
  },
  {
   "cell_type": "code",
   "execution_count": null,
   "metadata": {},
   "outputs": [],
   "source": []
  }
 ],
 "metadata": {
  "kernelspec": {
   "display_name": "Python 3",
   "language": "python",
   "name": "python3"
  },
  "language_info": {
   "codemirror_mode": {
    "name": "ipython",
    "version": 3
   },
   "file_extension": ".py",
   "mimetype": "text/x-python",
   "name": "python",
   "nbconvert_exporter": "python",
   "pygments_lexer": "ipython3",
   "version": "3.8.5"
  },
  "latex_envs": {
   "LaTeX_envs_menu_present": true,
   "autoclose": false,
   "autocomplete": true,
   "bibliofile": "biblio.bib",
   "cite_by": "apalike",
   "current_citInitial": 1,
   "eqLabelWithNumbers": true,
   "eqNumInitial": 1,
   "hotkeys": {
    "equation": "Ctrl-E",
    "itemize": "Ctrl-I"
   },
   "labels_anchors": false,
   "latex_user_defs": false,
   "report_style_numbering": false,
   "user_envs_cfg": false
  },
  "toc": {
   "base_numbering": 1,
   "nav_menu": {},
   "number_sections": false,
   "sideBar": true,
   "skip_h1_title": false,
   "title_cell": "Table of Contents",
   "title_sidebar": "Contents",
   "toc_cell": false,
   "toc_position": {},
   "toc_section_display": true,
   "toc_window_display": false
  }
 },
 "nbformat": 4,
 "nbformat_minor": 2
}
