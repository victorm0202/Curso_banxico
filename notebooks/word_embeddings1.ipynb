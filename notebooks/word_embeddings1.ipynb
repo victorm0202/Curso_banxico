{
 "cells": [
  {
   "cell_type": "markdown",
   "metadata": {},
   "source": [
    "# Word embeddings (word2vec)"
   ]
  },
  {
   "cell_type": "code",
   "execution_count": null,
   "metadata": {},
   "outputs": [],
   "source": [
    "import os\n",
    "import numpy as np\n",
    "import matplotlib.pyplot as plt\n",
    "from sklearn.decomposition import PCA\n",
    "import seaborn as sns\n",
    "plt.style.use('ggplot')\n",
    "%matplotlib inline"
   ]
  },
  {
   "cell_type": "markdown",
   "metadata": {},
   "source": [
    "## Cargo un modelo pre-entrenado con el spanish billion words corpus\n",
    "### Cristian Cardellino: Spanish Billion Words Corpus and Embeddings (March 2016), https://crscardellino.github.io/SBWCE/\n",
    "\n",
    "### Es un corpus sin anotar de aproximadamente 1.5 billion words, compilado de diferentes corpus y recursos de la web, tales como: Spanish portion of SenSem. Spanish portion of the Ancora Corpus. Tibidabo Treebank and IULA Spanish LSP Treebank."
   ]
  },
  {
   "cell_type": "code",
   "execution_count": null,
   "metadata": {},
   "outputs": [],
   "source": [
    "# uncomment las líneas de código si quieres usar éstos pesos...\n",
    "#from gensim.models.keyedvectors import KeyedVectors\n",
    "# puedes cambiar el argumento 'limit' por size_w si quieres cargar solo una cantidad de vectores\n",
    "#size_w = 100000\n",
    "## poner el archivo que se haya bajado...\n",
    "#wordvectors = KeyedVectors.load_word2vec_format(fname='/home/victor/cursos/optativa2020/data/SBW-vectors-300-min5.bin', binary=True, limit=None)"
   ]
  },
  {
   "cell_type": "markdown",
   "metadata": {},
   "source": [
    "### también puedes usar éstos embeddings pre-entrenados"
   ]
  },
  {
   "cell_type": "code",
   "execution_count": 70,
   "metadata": {},
   "outputs": [],
   "source": [
    "from gensim.models.keyedvectors import KeyedVectors\n",
    "wordvectors_file_vec = '../data/fasttext-sbwc.vec'\n",
    "size_w = 100000\n",
    "wordvectors = KeyedVectors.load_word2vec_format(wordvectors_file_vec)\n",
    "# tambien puedes usar ésta línea de código para simplificar los embeddings limitando el número\n",
    "#wordvectors = KeyedVectors.load_word2vec_format(wordvectors_file_vec, limit=size_w)"
   ]
  },
  {
   "cell_type": "markdown",
   "metadata": {},
   "source": [
    "## para graficar los embeddings"
   ]
  },
  {
   "cell_type": "code",
   "execution_count": 71,
   "metadata": {},
   "outputs": [],
   "source": [
    "sns.set_style('ticks')\n",
    "def plot_sim_words(model,word,n=10):\n",
    "    close_words=model.similar_by_word(word,topn=n)\n",
    "    arr = np.empty((0,300), dtype='f')\n",
    "    word_labels = [word]\n",
    "\n",
    "    arr = np.append(arr, np.array([model[word]]), axis=0)\n",
    "    for wrd_score in close_words:\n",
    "        wrd_vector = model[wrd_score[0]]\n",
    "        word_labels.append(wrd_score[0])\n",
    "        arr = np.append(arr, np.array([wrd_vector]), axis=0)\n",
    "    \n",
    "    \n",
    "    pca = PCA(n_components=2).fit(arr)\n",
    "    Y = pca.transform(arr)\n",
    "\n",
    "    xx = Y[:, 0]\n",
    "    yy = Y[:, 1]\n",
    "    \n",
    "    plt.scatter(xx,yy)   \n",
    "    for label, x, y in zip(word_labels, xx, yy):\n",
    "        plt.annotate(label, xy=(x, y), xytext=(0, 0), textcoords='offset points')\n",
    "    plt.xlim(xx.min()+0.00005, xx.max()+0.00005)\n",
    "    plt.ylim(yy.min()+0.00005, yy.max()+0.00005)\n",
    "    plt.show()"
   ]
  },
  {
   "cell_type": "markdown",
   "metadata": {},
   "source": [
    "## buscar palabras similares semánticamente (según el contexto)"
   ]
  },
  {
   "cell_type": "code",
   "execution_count": 82,
   "metadata": {},
   "outputs": [
    {
     "data": {
      "text/plain": [
       "[('banguat', 0.6114692687988281),\n",
       " ('shcp', 0.6095370054244995),\n",
       " ('carstens', 0.603248119354248),\n",
       " ('banamex', 0.6002482175827026),\n",
       " ('bofaml', 0.5769493579864502),\n",
       " ('cnbv', 0.5652531385421753),\n",
       " ('inflacionaria', 0.561172604560852),\n",
       " ('bofa', 0.5605493783950806),\n",
       " ('invex', 0.5556162595748901),\n",
       " ('inflación', 0.5546154379844666),\n",
       " ('cambiaria', 0.5538493394851685),\n",
       " ('inflacionario', 0.5524628162384033),\n",
       " ('refinanciamiento', 0.5512181520462036),\n",
       " ('bancomex', 0.5507121086120605),\n",
       " ('imef', 0.5480098724365234)]"
      ]
     },
     "execution_count": 82,
     "metadata": {},
     "output_type": "execute_result"
    }
   ],
   "source": [
    "## palabras similares a 'word'\n",
    "#word='laptop'\n",
    "word='banxico'\n",
    "wordvectors.similar_by_word(word,topn=15)"
   ]
  },
  {
   "cell_type": "code",
   "execution_count": 83,
   "metadata": {},
   "outputs": [
    {
     "data": {
      "image/png": "[encoded data removed]",
      "text/plain": [
       "<Figure size 576x576 with 1 Axes>"
      ]
     },
     "metadata": {},
     "output_type": "display_data"
    }
   ],
   "source": [
    "## visualizar con PCA\n",
    "plt.figure(figsize=(8,8))\n",
    "plot_sim_words(wordvectors,word,15)"
   ]
  },
  {
   "cell_type": "markdown",
   "metadata": {},
   "source": [
    "### Aritmética de embeddings para capturar analogías: \n",
    "### `hombre es a rey como mujer es a ......`\n",
    "\n",
    "### king - man = queen - woman\n",
    "### queen $\\approx$ king - man + woman"
   ]
  },
  {
   "cell_type": "code",
   "execution_count": 84,
   "metadata": {},
   "outputs": [
    {
     "data": {
      "text/plain": [
       "[('reina', 0.6306586861610413),\n",
       " ('infanta', 0.5454355478286743),\n",
       " ('princesa', 0.5346059799194336),\n",
       " ('berenguela', 0.5296739935874939),\n",
       " ('consorte', 0.5245281457901001),\n",
       " ('regente', 0.5192065238952637),\n",
       " ('monarca', 0.5124677419662476),\n",
       " ('ranavalona', 0.4996439218521118),\n",
       " ('emperatriz', 0.49612757563591003),\n",
       " ('anjesenpaatón', 0.4857787489891052)]"
      ]
     },
     "execution_count": 84,
     "metadata": {},
     "output_type": "execute_result"
    }
   ],
   "source": [
    "wordvectors.most_similar(positive=['rey','mujer'],negative=['hombre'])"
   ]
  },
  {
   "cell_type": "markdown",
   "metadata": {},
   "source": [
    "casa - hombre = X - mujer\n",
    "\n",
    "\"X\" aprox casa - hombre + mujer"
   ]
  },
  {
   "cell_type": "code",
   "execution_count": 85,
   "metadata": {},
   "outputs": [
    {
     "data": {
      "text/plain": [
       "[('wimzie', 0.8208423852920532),\n",
       " ('casita', 0.8205015659332275),\n",
       " ('abuela', 0.8178000450134277),\n",
       " ('solariega', 0.8130972385406494),\n",
       " ('mansión', 0.8062207102775574),\n",
       " ('casona', 0.8048673272132874),\n",
       " ('abuelastra', 0.8039239048957825),\n",
       " ('suegra', 0.8032931089401245),\n",
       " ('realquilada', 0.8000562191009521),\n",
       " ('tía', 0.7976456880569458)]"
      ]
     },
     "execution_count": 85,
     "metadata": {},
     "output_type": "execute_result"
    }
   ],
   "source": [
    "wordvectors.most_similar_cosmul(positive=['casa','mujer'],negative=['hombre'])"
   ]
  },
  {
   "cell_type": "markdown",
   "metadata": {},
   "source": [
    "\"X\" aprox casa-mujer + hombre"
   ]
  },
  {
   "cell_type": "code",
   "execution_count": 86,
   "metadata": {},
   "outputs": [
    {
     "data": {
      "text/plain": [
       "[('mansión', 0.8917081356048584),\n",
       " ('dueño', 0.8717513680458069),\n",
       " ('terrado', 0.8662133812904358),\n",
       " ('guarida', 0.8657175302505493),\n",
       " ('apartamento', 0.8623498678207397),\n",
       " ('caserón', 0.8612394332885742),\n",
       " ('casita', 0.8607402443885803),\n",
       " ('casas', 0.8567700982093811),\n",
       " ('duendecito', 0.8535193204879761),\n",
       " ('patio', 0.8532143831253052)]"
      ]
     },
     "execution_count": 86,
     "metadata": {},
     "output_type": "execute_result"
    }
   ],
   "source": [
    "wordvectors.most_similar_cosmul(positive=['casa','hombre'],negative=['mujer'])"
   ]
  },
  {
   "cell_type": "markdown",
   "metadata": {},
   "source": [
    "Italia es a Roma como Francia es a...\n",
    "\n",
    "Francia - Italia = X - Roma"
   ]
  },
  {
   "cell_type": "code",
   "execution_count": 87,
   "metadata": {},
   "outputs": [
    {
     "data": {
      "text/plain": [
       "[('parís', 0.9015266299247742),\n",
       " ('marsella', 0.867093563079834),\n",
       " ('aviñón', 0.8584528565406799),\n",
       " ('burdeos', 0.8472610116004944),\n",
       " ('montpellier', 0.8434250950813293),\n",
       " ('lyon', 0.8415652513504028),\n",
       " ('versalles', 0.8248647451400757),\n",
       " ('rennes', 0.824013888835907),\n",
       " ('avignon', 0.8227346539497375),\n",
       " ('poitiers', 0.8194709420204163)]"
      ]
     },
     "execution_count": 87,
     "metadata": {},
     "output_type": "execute_result"
    }
   ],
   "source": [
    "wordvectors.most_similar_cosmul(positive=['francia', 'roma'],negative=['italia'])"
   ]
  },
  {
   "cell_type": "markdown",
   "metadata": {},
   "source": [
    "México es a tacos como Italia es a...\n",
    "\n",
    "Italia - Mexico = X - tacos"
   ]
  },
  {
   "cell_type": "code",
   "execution_count": 88,
   "metadata": {},
   "outputs": [
    {
     "data": {
      "text/plain": [
       "[('fettuccini', 0.9226816296577454),\n",
       " ('mozzarella', 0.9207503199577332),\n",
       " ('tortelli', 0.9037573933601379),\n",
       " ('espaguetis', 0.9031432867050171),\n",
       " ('mozzarela', 0.9022800326347351),\n",
       " ('macarrones', 0.8967775106430054),\n",
       " ('mortadela', 0.892761766910553),\n",
       " ('tortellini', 0.8900210857391357),\n",
       " ('salchichones', 0.8874748945236206),\n",
       " ('salchichonería', 0.8868390917778015)]"
      ]
     },
     "execution_count": 88,
     "metadata": {},
     "output_type": "execute_result"
    }
   ],
   "source": [
    "wordvectors.most_similar_cosmul(positive=['italia', 'tacos'],negative=['mexico'])"
   ]
  },
  {
   "cell_type": "markdown",
   "metadata": {},
   "source": [
    "## Document embeddings y una aplicación muy simple para tareas de aprendizaje"
   ]
  },
  {
   "cell_type": "code",
   "execution_count": 89,
   "metadata": {},
   "outputs": [
    {
     "data": {
      "text/html": [
       "<div>\n",
       "<style scoped>\n",
       "    .dataframe tbody tr th:only-of-type {\n",
       "        vertical-align: middle;\n",
       "    }\n",
       "\n",
       "    .dataframe tbody tr th {\n",
       "        vertical-align: top;\n",
       "    }\n",
       "\n",
       "    .dataframe thead th {\n",
       "        text-align: right;\n",
       "    }\n",
       "</style>\n",
       "<table border=\"1\" class=\"dataframe\">\n",
       "  <thead>\n",
       "    <tr style=\"text-align: right;\">\n",
       "      <th></th>\n",
       "      <th>file</th>\n",
       "      <th>categoria</th>\n",
       "      <th>sentimiento</th>\n",
       "    </tr>\n",
       "  </thead>\n",
       "  <tbody>\n",
       "    <tr>\n",
       "      <th>0</th>\n",
       "      <td>coches_no_1_11.txt</td>\n",
       "      <td>coches</td>\n",
       "      <td>no</td>\n",
       "    </tr>\n",
       "    <tr>\n",
       "      <th>1</th>\n",
       "      <td>coches_no_1_13.txt</td>\n",
       "      <td>coches</td>\n",
       "      <td>no</td>\n",
       "    </tr>\n",
       "    <tr>\n",
       "      <th>2</th>\n",
       "      <td>coches_no_1_15.txt</td>\n",
       "      <td>coches</td>\n",
       "      <td>no</td>\n",
       "    </tr>\n",
       "    <tr>\n",
       "      <th>3</th>\n",
       "      <td>coches_no_1_18.txt</td>\n",
       "      <td>coches</td>\n",
       "      <td>no</td>\n",
       "    </tr>\n",
       "    <tr>\n",
       "      <th>4</th>\n",
       "      <td>coches_no_1_19.txt</td>\n",
       "      <td>coches</td>\n",
       "      <td>no</td>\n",
       "    </tr>\n",
       "    <tr>\n",
       "      <th>...</th>\n",
       "      <td>...</td>\n",
       "      <td>...</td>\n",
       "      <td>...</td>\n",
       "    </tr>\n",
       "    <tr>\n",
       "      <th>395</th>\n",
       "      <td>peliculas_yes_5_23.txt</td>\n",
       "      <td>peliculas</td>\n",
       "      <td>yes</td>\n",
       "    </tr>\n",
       "    <tr>\n",
       "      <th>396</th>\n",
       "      <td>peliculas_yes_5_4.txt</td>\n",
       "      <td>peliculas</td>\n",
       "      <td>yes</td>\n",
       "    </tr>\n",
       "    <tr>\n",
       "      <th>397</th>\n",
       "      <td>peliculas_yes_5_5.txt</td>\n",
       "      <td>peliculas</td>\n",
       "      <td>yes</td>\n",
       "    </tr>\n",
       "    <tr>\n",
       "      <th>398</th>\n",
       "      <td>peliculas_yes_5_7.txt</td>\n",
       "      <td>peliculas</td>\n",
       "      <td>yes</td>\n",
       "    </tr>\n",
       "    <tr>\n",
       "      <th>399</th>\n",
       "      <td>peliculas_yes_5_9.txt</td>\n",
       "      <td>peliculas</td>\n",
       "      <td>yes</td>\n",
       "    </tr>\n",
       "  </tbody>\n",
       "</table>\n",
       "<p>400 rows × 3 columns</p>\n",
       "</div>"
      ],
      "text/plain": [
       "                       file  categoria sentimiento\n",
       "0        coches_no_1_11.txt     coches          no\n",
       "1        coches_no_1_13.txt     coches          no\n",
       "2        coches_no_1_15.txt     coches          no\n",
       "3        coches_no_1_18.txt     coches          no\n",
       "4        coches_no_1_19.txt     coches          no\n",
       "..                      ...        ...         ...\n",
       "395  peliculas_yes_5_23.txt  peliculas         yes\n",
       "396   peliculas_yes_5_4.txt  peliculas         yes\n",
       "397   peliculas_yes_5_5.txt  peliculas         yes\n",
       "398   peliculas_yes_5_7.txt  peliculas         yes\n",
       "399   peliculas_yes_5_9.txt  peliculas         yes\n",
       "\n",
       "[400 rows x 3 columns]"
      ]
     },
     "execution_count": 89,
     "metadata": {},
     "output_type": "execute_result"
    }
   ],
   "source": [
    "from sklearn.feature_extraction.text import CountVectorizer\n",
    "from sklearn.metrics.pairwise import cosine_similarity\n",
    "import matplotlib.pyplot as plt\n",
    "import seaborn as sns\n",
    "import numpy as np\n",
    "import pandas as pd\n",
    "import my_functions\n",
    "from my_functions import *\n",
    "\n",
    "t_data = pd.read_csv('../data/spanish_reviews/reviews_text_caract.csv', header=0)\n",
    "t_data"
   ]
  },
  {
   "cell_type": "code",
   "execution_count": 90,
   "metadata": {},
   "outputs": [],
   "source": [
    "dir_data = '../data/spanish_reviews/all_files/'\n",
    "# leer y preprocesar textos\n",
    "preprocesador = preprocesaTexto(idioma='es', _tokeniza=False, _muestraCambios=False, _quitarAcentos=True, \n",
    "                                _remueveStop=True, _stemming=False)\n",
    "\n",
    "files_txt = dir_data+t_data['file']\n",
    "files_txt = files_txt.tolist()\n",
    "\n",
    "corpus = []\n",
    "for f in files_txt:\n",
    "    file = open(f, 'r', encoding='latin-1')\n",
    "    txt = file.read()\n",
    "    txt_prep = preprocesador.preprocesa(txt)\n",
    "    corpus.append(txt_prep)\n",
    "\n",
    "y1 = t_data['categoria'].astype('category').cat.codes\n",
    "y2 = t_data['sentimiento'].astype('category').cat.codes"
   ]
  },
  {
   "cell_type": "code",
   "execution_count": 99,
   "metadata": {},
   "outputs": [],
   "source": [
    "def frase_a_vec(frase, modelo_wv):\n",
    "    N = 0\n",
    "    acc = np.zeros(modelo_wv.vector_size)\n",
    "    for palabra in frase:\n",
    "        if palabra in modelo_wv.vocab:\n",
    "            acc += modelo_wv[palabra]\n",
    "            N += 1\n",
    "    return acc if N==0 else acc/N\n",
    "\n",
    "def sentencias_a_vec(frases, modelo_wv):\n",
    "    vectores = np.zeros((len(frases), modelo_wv.vector_size))\n",
    "    for (i, frase) in enumerate(frases):\n",
    "        vectores[i,:] = frase_a_vec(frase, modelo_wv)\n",
    "    return vectores"
   ]
  },
  {
   "cell_type": "code",
   "execution_count": 92,
   "metadata": {},
   "outputs": [
    {
     "data": {
      "text/plain": [
       "300"
      ]
     },
     "execution_count": 92,
     "metadata": {},
     "output_type": "execute_result"
    }
   ],
   "source": [
    "wordvectors.vector_size"
   ]
  },
  {
   "cell_type": "code",
   "execution_count": 124,
   "metadata": {},
   "outputs": [],
   "source": [
    "docs_vec = np.zeros((len(corpus), wordvectors.vector_size))\n",
    "\n",
    "for (i, txt) in enumerate(corpus):\n",
    "    tokens = word_tokenize(txt)\n",
    "    docs_vec[i,:] = frase_a_vec(tokens, wordvectors)"
   ]
  },
  {
   "cell_type": "code",
   "execution_count": 125,
   "metadata": {},
   "outputs": [
    {
     "data": {
      "text/plain": [
       "(400, 300)"
      ]
     },
     "execution_count": 125,
     "metadata": {},
     "output_type": "execute_result"
    }
   ],
   "source": [
    "docs_vec.shape"
   ]
  },
  {
   "cell_type": "code",
   "execution_count": 132,
   "metadata": {},
   "outputs": [
    {
     "data": {
      "application/vnd.plotly.v1+json": {
       "config": {
        "plotlyServerURL": "https://plot.ly"
       },
       "data": [
        {
         "customdata": [
          [
           "no"
          ],
          [
           "no"
          ],
          [
           "no"
          ],
          [
           "no"
          ],
          [
           "no"
          ],
          [
           "no"
          ],
          [
           "no"
          ],
          [
           "no"
          ],
          [
           "no"
          ],
          [
           "no"
          ],
          [
           "no"
          ],
          [
           "no"
          ],
          [
           "no"
          ],
          [
           "no"
          ],
          [
           "no"
          ],
          [
           "no"
          ],
          [
           "no"
          ],
          [
           "no"
          ],
          [
           "no"
          ],
          [
           "no"
          ],
          [
           "no"
          ],
          [
           "no"
          ],
          [
           "no"
          ],
          [
           "no"
          ],
          [
           "no"
          ],
          [
           "yes"
          ],
          [
           "yes"
          ],
          [
           "yes"
          ],
          [
           "yes"
          ],
          [
           "yes"
          ],
          [
           "yes"
          ],
          [
           "yes"
          ],
          [
           "yes"
          ],
          [
           "yes"
          ],
          [
           "yes"
          ],
          [
           "yes"
          ],
          [
           "yes"
          ],
          [
           "yes"
          ],
          [
           "yes"
          ],
          [
           "yes"
          ],
          [
           "yes"
          ],
          [
           "yes"
          ],
          [
           "yes"
          ],
          [
           "yes"
          ],
          [
           "yes"
          ],
          [
           "yes"
          ],
          [
           "yes"
          ],
          [
           "yes"
          ],
          [
           "yes"
          ],
          [
           "yes"
          ]
         ],
         "hovertemplate": "topico=coches<br>pc1=%{x}<br>pc2=%{y}<br>sentimiento=%{customdata[0]}<extra></extra>",
         "legendgroup": "coches",
         "marker": {
          "color": "#636efa",
          "symbol": "circle"
         },
         "mode": "markers",
         "name": "coches",
         "orientation": "v",
         "showlegend": true,
         "type": "scatter",
         "x": [
          -5.940934637662338,
          -1.8335957738775808,
          -2.3390939544302447,
          1.0710187671613882,
          -7.611598736334622,
          -4.816485938617386,
          -4.850406217753645,
          -3.361963568745855,
          -3.9249008019092795,
          -4.156192155496872,
          -4.310113862760378,
          -3.2343480273805993,
          -5.473156421404626,
          -3.5544994946723683,
          -4.736980070987633,
          -4.654778272361588,
          -3.479565165593293,
          0.1969014521211528,
          -5.0128784029119835,
          -4.533250106342644,
          -3.0993585954098726,
          -3.5547152706417147,
          -4.385021290334334,
          -6.837898694402336,
          -4.665472286569599,
          -2.79529496566961,
          -6.510137444423889,
          -2.4453886055943674,
          -6.309278737275091,
          -2.8109137911448965,
          -3.212995481238197,
          -6.217603361270662,
          -4.200890251739718,
          -4.949693773966289,
          -7.290845099158154,
          -3.5547152706417147,
          1.0063144835030347,
          -1.3047243647806674,
          -5.552206388631812,
          -6.742420437311598,
          -8.474595386813283,
          -4.28217189167001,
          2.8827233312826293,
          -0.10471656344408717,
          -5.923184018294386,
          -4.108103937381534,
          -5.883724091160538,
          -7.387981621431708,
          -6.708632666468604,
          -11.408033815454994
         ],
         "xaxis": "x",
         "y": [
          -3.991104428737974,
          -4.874820111902881,
          -2.866880047703323,
          -5.7162997801178195,
          -1.7052063908878152,
          -3.0291769394535093,
          -1.1150489768392509,
          -2.6399105206705458,
          -2.1637921376097764,
          -1.893875962662691,
          -2.3971325609675964,
          -4.346477764641617,
          -3.9310488327908573,
          -3.8532312398631836,
          -0.9311464997109651,
          -2.5646767115709497,
          -2.442285970072266,
          -3.2115574399577143,
          -2.710078145936042,
          -1.987330105658156,
          -0.8943594344211796,
          -3.449930060518481,
          -1.6558268059724635,
          -0.22912133356961342,
          -0.5763553550477842,
          -5.06645317634512,
          -2.4698785943090527,
          -2.5030774901081605,
          2.397540576842344,
          0.4046433414520945,
          -0.7171410481135689,
          -2.098547703243525,
          -3.118344419592191,
          -1.9876372241141413,
          0.3591613989469527,
          -3.449930060518481,
          -3.538634599749642,
          -2.958603836474287,
          -2.526461670961351,
          1.0220461660288325,
          -0.08607210790833701,
          -0.6069117084570591,
          -2.5172180659273806,
          -3.767358412313219,
          -2.58355014129891,
          -4.396885984408689,
          -2.713116834731753,
          0.2021439193095355,
          -3.3194907926169694,
          2.882276692433071
         ],
         "yaxis": "y"
        },
        {
         "customdata": [
          [
           "no"
          ],
          [
           "no"
          ],
          [
           "no"
          ],
          [
           "no"
          ],
          [
           "no"
          ],
          [
           "no"
          ],
          [
           "no"
          ],
          [
           "no"
          ],
          [
           "no"
          ],
          [
           "no"
          ],
          [
           "no"
          ],
          [
           "no"
          ],
          [
           "no"
          ],
          [
           "no"
          ],
          [
           "no"
          ],
          [
           "no"
          ],
          [
           "no"
          ],
          [
           "no"
          ],
          [
           "no"
          ],
          [
           "no"
          ],
          [
           "no"
          ],
          [
           "no"
          ],
          [
           "no"
          ],
          [
           "no"
          ],
          [
           "no"
          ],
          [
           "yes"
          ],
          [
           "yes"
          ],
          [
           "yes"
          ],
          [
           "yes"
          ],
          [
           "yes"
          ],
          [
           "yes"
          ],
          [
           "yes"
          ],
          [
           "yes"
          ],
          [
           "yes"
          ],
          [
           "yes"
          ],
          [
           "yes"
          ],
          [
           "yes"
          ],
          [
           "yes"
          ],
          [
           "yes"
          ],
          [
           "yes"
          ],
          [
           "yes"
          ],
          [
           "yes"
          ],
          [
           "yes"
          ],
          [
           "yes"
          ],
          [
           "yes"
          ],
          [
           "yes"
          ],
          [
           "yes"
          ],
          [
           "yes"
          ],
          [
           "yes"
          ],
          [
           "yes"
          ]
         ],
         "hovertemplate": "topico=hoteles<br>pc1=%{x}<br>pc2=%{y}<br>sentimiento=%{customdata[0]}<extra></extra>",
         "legendgroup": "hoteles",
         "marker": {
          "color": "#EF553B",
          "symbol": "circle"
         },
         "mode": "markers",
         "name": "hoteles",
         "orientation": "v",
         "showlegend": true,
         "type": "scatter",
         "x": [
          -3.7348743415722585,
          -4.186535425114612,
          0.6106065415823395,
          -3.623642004149251,
          -5.344654545194712,
          -0.04984043496651461,
          -4.7165823395651545,
          -8.710922220989195,
          -2.0354476982259238,
          -7.2076245043375975,
          -2.0746504523415954,
          -3.1009562797379533,
          -0.5790620139525267,
          -5.19270454905799,
          -6.219757328315189,
          -3.488289633814667,
          -4.522293960647422,
          -3.904233451759814,
          -1.2596107345942202,
          -2.8457826197069154,
          -1.9354630163942586,
          -2.4882328257278044,
          -2.7306963227976784,
          -2.4813121744662263,
          -4.5283401401413625,
          -2.0677112925969343,
          -5.316106925048562,
          -3.9006267256109917,
          -3.308510017429954,
          -3.812440639293547,
          -3.7379621015019406,
          -0.39467156967060446,
          -4.847266353379372,
          -2.7333870180991546,
          -3.86479235644752,
          -8.458847272070189,
          -3.079546824051641,
          -0.874509404930518,
          -5.937051687202114,
          -4.784582054237465,
          -5.601731424310559,
          -8.72596197516896,
          -3.543634270835734,
          -8.658399974162593,
          -6.446570442944425,
          0.09827903486111042,
          -0.4884247237600121,
          -1.147417728428308,
          -1.550388553462672,
          -0.01481880730285413
         ],
         "xaxis": "x",
         "y": [
          -7.761721549927459,
          -7.7098299902643435,
          -9.091665973607967,
          -1.7986764874396155,
          -7.546921801758676,
          -6.8500341084117835,
          -5.425569777821726,
          -6.820418940549337,
          -7.237113061264715,
          -9.827853666617163,
          -8.395048869743352,
          -9.215282159515832,
          -8.74581927818732,
          -7.363236868001119,
          -8.32796337284936,
          -7.432844488819045,
          -6.853252042778601,
          -7.466881598084467,
          -8.907147877881037,
          -8.93799006224029,
          -8.574107208162948,
          -8.415147116158257,
          -7.217390389407208,
          -6.3950909144186125,
          -7.395119829290034,
          -7.486464232153865,
          -7.487557795259673,
          -8.72902848025013,
          -9.06248209026066,
          -8.392259487538315,
          -6.800784852986714,
          -7.650143583317609,
          -8.901563928696692,
          -8.944635774695534,
          -9.943073942514301,
          -6.008603259429422,
          -8.809446104622776,
          -7.944517439648994,
          -8.042088168199683,
          -5.492399855063881,
          -7.0475504047844195,
          -5.820769274013948,
          -7.1219712479076716,
          -4.424201207026748,
          -8.681645759807177,
          -8.55688845379475,
          -4.751281274509347,
          -7.399561308940524,
          -8.935188672662811,
          -7.371732782300471
         ],
         "yaxis": "y"
        },
        {
         "customdata": [
          [
           "no"
          ],
          [
           "no"
          ],
          [
           "no"
          ],
          [
           "no"
          ],
          [
           "no"
          ],
          [
           "no"
          ],
          [
           "no"
          ],
          [
           "no"
          ],
          [
           "no"
          ],
          [
           "no"
          ],
          [
           "no"
          ],
          [
           "no"
          ],
          [
           "no"
          ],
          [
           "no"
          ],
          [
           "no"
          ],
          [
           "no"
          ],
          [
           "no"
          ],
          [
           "no"
          ],
          [
           "no"
          ],
          [
           "no"
          ],
          [
           "no"
          ],
          [
           "no"
          ],
          [
           "no"
          ],
          [
           "no"
          ],
          [
           "no"
          ],
          [
           "yes"
          ],
          [
           "yes"
          ],
          [
           "yes"
          ],
          [
           "yes"
          ],
          [
           "yes"
          ],
          [
           "yes"
          ],
          [
           "yes"
          ],
          [
           "yes"
          ],
          [
           "yes"
          ],
          [
           "yes"
          ],
          [
           "yes"
          ],
          [
           "yes"
          ],
          [
           "yes"
          ],
          [
           "yes"
          ],
          [
           "yes"
          ],
          [
           "yes"
          ],
          [
           "yes"
          ],
          [
           "yes"
          ],
          [
           "yes"
          ],
          [
           "yes"
          ],
          [
           "yes"
          ],
          [
           "yes"
          ],
          [
           "yes"
          ],
          [
           "yes"
          ],
          [
           "yes"
          ]
         ],
         "hovertemplate": "topico=lavadoras<br>pc1=%{x}<br>pc2=%{y}<br>sentimiento=%{customdata[0]}<extra></extra>",
         "legendgroup": "lavadoras",
         "marker": {
          "color": "#00cc96",
          "symbol": "circle"
         },
         "mode": "markers",
         "name": "lavadoras",
         "orientation": "v",
         "showlegend": true,
         "type": "scatter",
         "x": [
          -4.939467615144277,
          -3.9725287130343587,
          -1.7255221053247143,
          -4.505865787581852,
          -4.58033347018357,
          -2.2117356383132587,
          -5.158951815908608,
          -4.757520805942862,
          -4.526192988016202,
          -5.095890421247676,
          -5.3781000569123645,
          -3.664189439163493,
          -3.759940591401701,
          -7.039986560937628,
          -8.219028930207147,
          -7.257347188459782,
          -8.426656054944711,
          -4.849166801469028,
          -5.308079270755732,
          -5.963165089459295,
          -4.934913752393897,
          -3.4890888086242624,
          -3.3074189808650694,
          -4.866254061241848,
          -8.754281776757193,
          -7.183271744309633,
          -4.078960755039844,
          -6.230988479845287,
          -6.642325290126217,
          -5.082048990763791,
          -2.91056395313293,
          -0.6364361458854175,
          -6.451875474472066,
          -10.396004176312811,
          -8.690597425534595,
          -4.952942438324855,
          -6.039122921106143,
          -8.37430141390134,
          -5.054546890581696,
          -4.154779606429769,
          -6.148843746950119,
          -8.798877329435443,
          -10.771941812398717,
          -5.339824631951497,
          -8.157351911148178,
          -7.967265842274757,
          -8.331080000581165,
          -8.230446999225254,
          -11.219531017917147,
          -7.336682275217225
         ],
         "xaxis": "x",
         "y": [
          -5.26265645771681,
          -3.684541858042121,
          -3.5874101241531005,
          -2.8249936244930343,
          -3.2969879348010296,
          -3.5795075874417486,
          -3.154294175658412,
          -3.602235413133928,
          -4.067691940050109,
          0.44274403795882794,
          -4.223046828251826,
          -3.2781432118566465,
          -4.263181441275485,
          -1.7879916634070574,
          0.22228382512469255,
          0.6670673508214874,
          -3.927455218772107,
          -2.4218470787288644,
          -2.987459234228521,
          -0.03401722697714865,
          -2.4026983409512446,
          -4.635444849213364,
          -2.3363229497839275,
          -1.829649444486409,
          -0.042072444777264004,
          -2.0536016271316804,
          -4.580667763264098,
          -2.4211811752269323,
          -2.0747262371279547,
          0.2795760688318319,
          -6.92850291715976,
          -5.038525016920047,
          -2.18888598816954,
          -2.8913598717514506,
          1.9675796930764158,
          -1.9334756610317478,
          -3.6777070932959743,
          1.3888532372769666,
          -3.819353312043732,
          -2.675755239104664,
          -3.905524327755842,
          -1.1267956740255896,
          1.197728792718193,
          -2.9267392718942316,
          -2.0472547854753818,
          -3.2341326902178906,
          -3.898424145570792,
          0.8508642493383706,
          5.976066620739386,
          -2.5258460429408136
         ],
         "yaxis": "y"
        },
        {
         "customdata": [
          [
           "no"
          ],
          [
           "no"
          ],
          [
           "no"
          ],
          [
           "no"
          ],
          [
           "no"
          ],
          [
           "no"
          ],
          [
           "no"
          ],
          [
           "no"
          ],
          [
           "no"
          ],
          [
           "no"
          ],
          [
           "no"
          ],
          [
           "no"
          ],
          [
           "no"
          ],
          [
           "no"
          ],
          [
           "no"
          ],
          [
           "no"
          ],
          [
           "no"
          ],
          [
           "no"
          ],
          [
           "no"
          ],
          [
           "no"
          ],
          [
           "no"
          ],
          [
           "no"
          ],
          [
           "no"
          ],
          [
           "no"
          ],
          [
           "no"
          ],
          [
           "yes"
          ],
          [
           "yes"
          ],
          [
           "yes"
          ],
          [
           "yes"
          ],
          [
           "yes"
          ],
          [
           "yes"
          ],
          [
           "yes"
          ],
          [
           "yes"
          ],
          [
           "yes"
          ],
          [
           "yes"
          ],
          [
           "yes"
          ],
          [
           "yes"
          ],
          [
           "yes"
          ],
          [
           "yes"
          ],
          [
           "yes"
          ],
          [
           "yes"
          ],
          [
           "yes"
          ],
          [
           "yes"
          ],
          [
           "yes"
          ],
          [
           "yes"
          ],
          [
           "yes"
          ],
          [
           "yes"
          ],
          [
           "yes"
          ],
          [
           "yes"
          ],
          [
           "yes"
          ]
         ],
         "hovertemplate": "topico=libros<br>pc1=%{x}<br>pc2=%{y}<br>sentimiento=%{customdata[0]}<extra></extra>",
         "legendgroup": "libros",
         "marker": {
          "color": "#ab63fa",
          "symbol": "circle"
         },
         "mode": "markers",
         "name": "libros",
         "orientation": "v",
         "showlegend": true,
         "type": "scatter",
         "x": [
          7.552251267967152,
          8.222750796562245,
          9.278961734575589,
          7.19482403756916,
          5.089402057688899,
          6.010135503389398,
          7.914336001868281,
          8.191121596845756,
          7.008867948276396,
          6.012944357887022,
          6.580925207559299,
          8.343630586824569,
          8.436839521719032,
          6.535579751345809,
          6.44480647269344,
          6.184424045796638,
          5.936924158809872,
          5.7407704572364935,
          5.524867111314088,
          6.158675924414218,
          8.350454078535478,
          6.361274945460564,
          6.56554789150054,
          9.310613333748837,
          4.292235885421295,
          9.811885072651487,
          6.469935562225194,
          6.689845765161202,
          5.9495297752938,
          6.258712452667566,
          7.527078652140287,
          7.03053675800193,
          7.574777409640605,
          5.5916169604571735,
          8.534618352485538,
          5.959936640871092,
          6.9314956365499185,
          7.941943364256265,
          7.778757517689609,
          7.231575154956045,
          8.519702190931103,
          8.734823151694709,
          6.771837098127202,
          7.817865640287572,
          5.58600358117046,
          11.258980008967574,
          3.2657208936645796,
          8.410694585083997,
          8.362084339434025,
          9.47093115658455
         ],
         "xaxis": "x",
         "y": [
          -0.5659273094174511,
          -7.309694282108394,
          -2.930814956729937,
          -4.06144928383171,
          -4.122859906325043,
          -2.5115217259081737,
          -3.9226056693157836,
          -3.2354487352748973,
          -2.729592194493717,
          -3.9016563845692387,
          -2.4163564452503437,
          -5.398212945373293,
          -2.5985788472909555,
          -3.7330754184674517,
          -4.444503331580315,
          -1.6900638864910986,
          -5.127699518446812,
          -3.941001514150945,
          -4.225256750126917,
          -3.2061154949784814,
          -2.560305678874979,
          -3.409969564092381,
          -3.202401096862604,
          -5.845664711044346,
          -4.068084192518943,
          1.5823889766483308,
          -4.41430978808409,
          -4.25608441820014,
          -6.850051646518195,
          -4.221346623204826,
          -3.46868861945104,
          -4.3309851702576685,
          -4.990608506412228,
          -4.2461715538461045,
          -5.3223320458914145,
          -6.4829763793469075,
          -4.779878476653938,
          -5.001031057487845,
          -5.563000389203163,
          -5.569370954522093,
          -6.361172291767096,
          -3.1975894983716735,
          -5.26114123680335,
          -4.64737204737077,
          -6.093552388309488,
          -4.138004310288829,
          -3.1184747031227196,
          -0.7952300128656269,
          -4.636199506898277,
          -4.525301449502311
         ],
         "yaxis": "y"
        },
        {
         "customdata": [
          [
           "no"
          ],
          [
           "no"
          ],
          [
           "no"
          ],
          [
           "no"
          ],
          [
           "no"
          ],
          [
           "no"
          ],
          [
           "no"
          ],
          [
           "no"
          ],
          [
           "no"
          ],
          [
           "no"
          ],
          [
           "no"
          ],
          [
           "no"
          ],
          [
           "no"
          ],
          [
           "no"
          ],
          [
           "no"
          ],
          [
           "no"
          ],
          [
           "no"
          ],
          [
           "no"
          ],
          [
           "no"
          ],
          [
           "no"
          ],
          [
           "no"
          ],
          [
           "no"
          ],
          [
           "no"
          ],
          [
           "no"
          ],
          [
           "no"
          ],
          [
           "yes"
          ],
          [
           "yes"
          ],
          [
           "yes"
          ],
          [
           "yes"
          ],
          [
           "yes"
          ],
          [
           "yes"
          ],
          [
           "yes"
          ],
          [
           "yes"
          ],
          [
           "yes"
          ],
          [
           "yes"
          ],
          [
           "yes"
          ],
          [
           "yes"
          ],
          [
           "yes"
          ],
          [
           "yes"
          ],
          [
           "yes"
          ],
          [
           "yes"
          ],
          [
           "yes"
          ],
          [
           "yes"
          ],
          [
           "yes"
          ],
          [
           "yes"
          ],
          [
           "yes"
          ],
          [
           "yes"
          ],
          [
           "yes"
          ],
          [
           "yes"
          ],
          [
           "yes"
          ]
         ],
         "hovertemplate": "topico=moviles<br>pc1=%{x}<br>pc2=%{y}<br>sentimiento=%{customdata[0]}<extra></extra>",
         "legendgroup": "moviles",
         "marker": {
          "color": "#FFA15A",
          "symbol": "circle"
         },
         "mode": "markers",
         "name": "moviles",
         "orientation": "v",
         "showlegend": true,
         "type": "scatter",
         "x": [
          -10.051128999431343,
          -6.127413348706865,
          -4.296339282356621,
          -1.5397460536870504,
          -2.347527003262064,
          -5.70032294112037,
          0.48328274956152795,
          -1.8558723573532743,
          -2.502492937349444,
          -5.902799546050918,
          -3.9240078039628115,
          -2.6983219881629124,
          -6.072531209368128,
          -4.415341027129996,
          -3.6258979244533767,
          0.4182999711174198,
          -8.391951761599582,
          -10.158398319164835,
          -8.006579895108974,
          -6.4809706731185095,
          -5.069696634213202,
          -1.1721756496636657,
          -9.867925900682707,
          -0.3775624775600417,
          -6.979518755332562,
          -5.931903579037607,
          -0.2966860892145112,
          -15.440286003528492,
          -6.326301329241074,
          -4.585905266776778,
          -7.716824088553717,
          -3.6746398293311304,
          -6.931345388739144,
          -8.627459727523094,
          -9.226859827503663,
          -7.381992148822596,
          -8.619711966336368,
          -5.028856977376816,
          -5.86366940383141,
          -2.1546525785496398,
          -7.044285735071527,
          -2.9859043543466868,
          -9.37844633443097,
          -6.990149566887513,
          -6.069240241961241,
          -5.510848962309495,
          -5.146326062201396,
          -4.075049418085893,
          -4.639916867313748,
          -2.072890178304159
         ],
         "xaxis": "x",
         "y": [
          2.5446969070895844,
          4.703654200008447,
          0.4932200377965002,
          -0.8948436465818296,
          0.7099399148473414,
          1.9562759489064026,
          -0.4392232836131563,
          -0.3264044271902688,
          -1.3844327370515734,
          4.969324296814836,
          -2.0543979348764534,
          2.1859237756059837,
          3.5468304226483776,
          3.9760678968877077,
          4.8217522236519645,
          -0.49469306978557565,
          6.200533273313692,
          9.345614670253998,
          4.5322697279567725,
          4.943692437372339,
          3.6812126953580773,
          -0.7766025198455349,
          6.730435400018365,
          -1.1529791990251195,
          7.807885387250982,
          2.444906781291792,
          3.075330424866776,
          19.85499328120602,
          6.975844467815488,
          6.142454627630294,
          7.381168250868915,
          0.8224065177055097,
          5.381806296256343,
          6.311566151948086,
          8.462146152148872,
          8.398854879367283,
          3.0880188677440783,
          8.043755364072252,
          2.4822259098437556,
          1.0440923311190164,
          8.686139040294297,
          3.657800099679222,
          8.842828380324423,
          11.840804583970833,
          3.8651326797958867,
          3.3618738655631404,
          2.176318042388032,
          3.851558782561632,
          6.550980188047263,
          3.237495825345652
         ],
         "yaxis": "y"
        },
        {
         "customdata": [
          [
           "no"
          ],
          [
           "no"
          ],
          [
           "no"
          ],
          [
           "no"
          ],
          [
           "no"
          ],
          [
           "no"
          ],
          [
           "no"
          ],
          [
           "no"
          ],
          [
           "no"
          ],
          [
           "no"
          ],
          [
           "no"
          ],
          [
           "no"
          ],
          [
           "no"
          ],
          [
           "no"
          ],
          [
           "no"
          ],
          [
           "no"
          ],
          [
           "no"
          ],
          [
           "no"
          ],
          [
           "no"
          ],
          [
           "no"
          ],
          [
           "no"
          ],
          [
           "no"
          ],
          [
           "no"
          ],
          [
           "no"
          ],
          [
           "no"
          ],
          [
           "yes"
          ],
          [
           "yes"
          ],
          [
           "yes"
          ],
          [
           "yes"
          ],
          [
           "yes"
          ],
          [
           "yes"
          ],
          [
           "yes"
          ],
          [
           "yes"
          ],
          [
           "yes"
          ],
          [
           "yes"
          ],
          [
           "yes"
          ],
          [
           "yes"
          ],
          [
           "yes"
          ],
          [
           "yes"
          ],
          [
           "yes"
          ],
          [
           "yes"
          ],
          [
           "yes"
          ],
          [
           "yes"
          ],
          [
           "yes"
          ],
          [
           "yes"
          ],
          [
           "yes"
          ],
          [
           "yes"
          ],
          [
           "yes"
          ],
          [
           "yes"
          ],
          [
           "yes"
          ]
         ],
         "hovertemplate": "topico=musica<br>pc1=%{x}<br>pc2=%{y}<br>sentimiento=%{customdata[0]}<extra></extra>",
         "legendgroup": "musica",
         "marker": {
          "color": "#19d3f3",
          "symbol": "circle"
         },
         "mode": "markers",
         "name": "musica",
         "orientation": "v",
         "showlegend": true,
         "type": "scatter",
         "x": [
          8.356311395478428,
          8.8697029834635,
          10.943282556999762,
          10.447758341825534,
          10.900202941566103,
          9.52341969392163,
          8.454150783838184,
          6.488030071198615,
          7.969656893430911,
          15.611186923748676,
          9.28551034444936,
          10.127023364968968,
          10.556407088401748,
          11.813134813297234,
          9.169491079215755,
          9.43781391576578,
          9.294017972228525,
          12.128961399630606,
          7.816310990109604,
          11.380735311570888,
          4.65080223560079,
          12.430248802749619,
          9.509209353527545,
          7.413757856893413,
          12.659697216608992,
          11.549847852894233,
          12.194258906226072,
          6.87704778444923,
          12.938585408591637,
          8.597762881269299,
          11.963509119753127,
          10.995212420390436,
          14.536379425831571,
          8.661547570655424,
          9.4347498707541,
          9.347225208117605,
          9.567465940993086,
          12.196331481235624,
          9.06825165934053,
          8.828626699156104,
          14.300184934968282,
          11.013110569834325,
          8.704506240854595,
          10.9788933155667,
          13.069285446936057,
          8.662583361800102,
          9.374118937944864,
          10.124081682766699,
          10.745166375683949,
          9.921078027435815
         ],
         "xaxis": "x",
         "y": [
          -1.683305098032683,
          8.79754904858611,
          11.13948314869865,
          0.5632877401317163,
          4.502039836703714,
          8.281189441142331,
          -2.6895786522936658,
          2.8233649077176213,
          -6.885006061077247,
          24.007914614020784,
          3.458796988866735,
          5.583929377068002,
          5.204665971065279,
          8.21087272400046,
          4.810240303949921,
          10.402235680623779,
          6.822820483645463,
          20.11669949207133,
          6.174444815779834,
          9.04186431489135,
          4.20034360425203,
          8.626495349417747,
          -0.5718311480341728,
          3.7925251569175296,
          10.873477639999821,
          6.332535148313134,
          9.479305154311994,
          4.961675413350293,
          14.79086890996451,
          7.356416921953807,
          13.36213087097536,
          9.751575932559577,
          13.753477372156452,
          5.178380444157211,
          6.421227481530753,
          9.117758731351074,
          7.575844804137565,
          10.282602410559566,
          6.4162740905079865,
          9.06961997679784,
          19.71338395767692,
          6.521244461440677,
          1.9397592233582508,
          -1.9243650766847116,
          8.374260991208741,
          6.764305172672015,
          3.4411246036564713,
          11.660808744310268,
          8.836469045037418,
          10.13878395770539
         ],
         "yaxis": "y"
        },
        {
         "customdata": [
          [
           "no"
          ],
          [
           "no"
          ],
          [
           "no"
          ],
          [
           "no"
          ],
          [
           "no"
          ],
          [
           "no"
          ],
          [
           "no"
          ],
          [
           "no"
          ],
          [
           "no"
          ],
          [
           "no"
          ],
          [
           "no"
          ],
          [
           "no"
          ],
          [
           "no"
          ],
          [
           "no"
          ],
          [
           "no"
          ],
          [
           "no"
          ],
          [
           "no"
          ],
          [
           "no"
          ],
          [
           "no"
          ],
          [
           "no"
          ],
          [
           "no"
          ],
          [
           "no"
          ],
          [
           "no"
          ],
          [
           "no"
          ],
          [
           "no"
          ],
          [
           "yes"
          ],
          [
           "yes"
          ],
          [
           "yes"
          ],
          [
           "yes"
          ],
          [
           "yes"
          ],
          [
           "yes"
          ],
          [
           "yes"
          ],
          [
           "yes"
          ],
          [
           "yes"
          ],
          [
           "yes"
          ],
          [
           "yes"
          ],
          [
           "yes"
          ],
          [
           "yes"
          ],
          [
           "yes"
          ],
          [
           "yes"
          ],
          [
           "yes"
          ],
          [
           "yes"
          ],
          [
           "yes"
          ],
          [
           "yes"
          ],
          [
           "yes"
          ],
          [
           "yes"
          ],
          [
           "yes"
          ],
          [
           "yes"
          ],
          [
           "yes"
          ],
          [
           "yes"
          ]
         ],
         "hovertemplate": "topico=ordenadores<br>pc1=%{x}<br>pc2=%{y}<br>sentimiento=%{customdata[0]}<extra></extra>",
         "legendgroup": "ordenadores",
         "marker": {
          "color": "#FF6692",
          "symbol": "circle"
         },
         "mode": "markers",
         "name": "ordenadores",
         "orientation": "v",
         "showlegend": true,
         "type": "scatter",
         "x": [
          -3.1332554934183903,
          -3.89356584296317,
          0.011172843872430125,
          -9.606070150252675,
          -3.895196889751456,
          -4.3051805764124715,
          4.037168949728245,
          -5.363564119655891,
          -6.491003612882917,
          -4.990216545270584,
          -6.3860765859682225,
          -7.065281389304335,
          -4.16328728084681,
          -7.523855008808176,
          -11.43089892249195,
          -7.419030797514305,
          -8.968131043196271,
          -5.944659944084817,
          -2.3470549898923045,
          -1.6310908533557218,
          -5.2206768366739595,
          -6.472723376921648,
          -6.013963510528707,
          -10.11581577378673,
          -1.9510311033323884,
          -5.527457147818237,
          -6.729337837944997,
          -10.08920968747169,
          -3.9557679911031194,
          -5.410353657417177,
          -1.973082206574309,
          -7.324143303372011,
          -13.635907105139156,
          -5.131957706011235,
          -0.02638093340912583,
          -6.307717308938892,
          -6.859353541907985,
          -9.757482841429745,
          -10.04158430322335,
          -1.91614256436478,
          -9.676122054539375,
          -0.7738647655348981,
          -7.698554315007567,
          -5.280474331520744,
          -5.70509486510312,
          -8.608910850759942,
          -11.468110228983171,
          -8.562605243222592,
          -7.0254250923529,
          -6.1978689304595
         ],
         "xaxis": "x",
         "y": [
          1.4694067754000195,
          -0.7619134042796399,
          2.8370698303162087,
          12.076166254517853,
          3.61588604571521,
          4.361300033723007,
          0.1992789561984496,
          1.9810597177814513,
          6.264197788789492,
          1.0596356671265177,
          5.916757097412966,
          10.675849417168063,
          1.1240199891120506,
          7.7824903433154535,
          11.702188235963225,
          3.1206760723284734,
          7.778637235059219,
          9.232700600349949,
          -2.0639151454699256,
          1.2905039363250062,
          5.8414130849486705,
          6.212973581068549,
          6.554444107838174,
          15.376560983779349,
          -1.658632810793959,
          3.0203940458738825,
          4.895709050859116,
          8.751483382348106,
          6.761463606807719,
          7.211261685235085,
          -0.08476095002560725,
          10.864298961791514,
          18.83000734700981,
          5.829758581747093,
          4.833047651471053,
          5.653298685482722,
          6.875635452200966,
          7.416443810119972,
          9.848109424577448,
          -0.9039367177586995,
          12.022074061035614,
          1.7777962168741266,
          4.720854062636432,
          15.214847641789268,
          13.668935273493858,
          11.922760001557627,
          15.15866783120228,
          10.999715074120143,
          9.453903332760557,
          5.818639629787289
         ],
         "yaxis": "y"
        },
        {
         "customdata": [
          [
           "no"
          ],
          [
           "no"
          ],
          [
           "no"
          ],
          [
           "no"
          ],
          [
           "no"
          ],
          [
           "no"
          ],
          [
           "no"
          ],
          [
           "no"
          ],
          [
           "no"
          ],
          [
           "no"
          ],
          [
           "no"
          ],
          [
           "no"
          ],
          [
           "no"
          ],
          [
           "no"
          ],
          [
           "no"
          ],
          [
           "no"
          ],
          [
           "no"
          ],
          [
           "no"
          ],
          [
           "no"
          ],
          [
           "no"
          ],
          [
           "no"
          ],
          [
           "no"
          ],
          [
           "no"
          ],
          [
           "no"
          ],
          [
           "no"
          ],
          [
           "yes"
          ],
          [
           "yes"
          ],
          [
           "yes"
          ],
          [
           "yes"
          ],
          [
           "yes"
          ],
          [
           "yes"
          ],
          [
           "yes"
          ],
          [
           "yes"
          ],
          [
           "yes"
          ],
          [
           "yes"
          ],
          [
           "yes"
          ],
          [
           "yes"
          ],
          [
           "yes"
          ],
          [
           "yes"
          ],
          [
           "yes"
          ],
          [
           "yes"
          ],
          [
           "yes"
          ],
          [
           "yes"
          ],
          [
           "yes"
          ],
          [
           "yes"
          ],
          [
           "yes"
          ],
          [
           "yes"
          ],
          [
           "yes"
          ],
          [
           "yes"
          ],
          [
           "yes"
          ]
         ],
         "hovertemplate": "topico=peliculas<br>pc1=%{x}<br>pc2=%{y}<br>sentimiento=%{customdata[0]}<extra></extra>",
         "legendgroup": "peliculas",
         "marker": {
          "color": "#B6E880",
          "symbol": "circle"
         },
         "mode": "markers",
         "name": "peliculas",
         "orientation": "v",
         "showlegend": true,
         "type": "scatter",
         "x": [
          9.094142582608654,
          4.8447859920465035,
          6.223755583491205,
          10.002030219716874,
          8.24993780348845,
          5.467629110763844,
          9.683014150405253,
          7.9926226996459455,
          5.316622655774538,
          5.787765814613852,
          7.6209273898910395,
          6.106208472990722,
          9.486776910548455,
          7.352685373249682,
          9.211134222911351,
          5.9396353020084,
          7.6374986264645175,
          7.762746231232438,
          7.098064284044845,
          6.540116060228807,
          10.135516085818555,
          6.4071562902927575,
          7.258092210591109,
          7.531598026981873,
          8.409882874406918,
          9.555351227173684,
          8.102142016104244,
          5.222635279551927,
          6.122406853731114,
          7.377264161875989,
          9.23098400892955,
          7.219408997836733,
          9.533827115932578,
          9.251916685849466,
          7.89475089859054,
          7.096497947780482,
          5.022231053787438,
          7.033620015329254,
          6.151488108482102,
          11.548562463552651,
          8.34212121966407,
          6.950557711913792,
          8.895262232488905,
          6.867280996312947,
          9.807698559203702,
          7.855141921227415,
          8.523375623513122,
          9.219578865673014,
          5.92282807138234,
          9.640047758443973
         ],
         "xaxis": "x",
         "y": [
          -1.531662299746315,
          -0.6939107078182002,
          -2.128943476778599,
          -2.950956632334101,
          -0.03113465367458382,
          -4.550885535213049,
          -0.32905334436759187,
          -4.419739258222757,
          -4.659872501434152,
          -2.247334975904377,
          -1.1504364398333207,
          -2.4875359484964648,
          -0.6935912445863136,
          -1.7343110896939047,
          -1.0798706243113703,
          -2.6087327027479446,
          -2.105272747834466,
          -2.3631767228835927,
          -1.4344389281905787,
          -4.1997393576368545,
          -0.041422612776351,
          -2.9080519426098883,
          -4.0286968275590755,
          -2.24356815654853,
          -4.2531866170340455,
          -1.200875802730096,
          -1.894024581432641,
          0.01308911879135645,
          -3.140863296230985,
          -4.3195010687975035,
          3.704188824927912,
          -2.210670532511045,
          -1.233530527829034,
          0.33679042160142714,
          1.3946724861850253,
          -4.2974158489833725,
          -3.2532695173892052,
          -1.425372045916654,
          -1.8237348348646587,
          2.6500436092178012,
          -2.9136253064263644,
          -0.308018042067451,
          -4.8379115255402985,
          -1.293007212231003,
          -2.986889005522121,
          -2.164666477507557,
          -0.3892559925504858,
          -0.5243205449092732,
          -1.7624338806567945,
          -4.434447117141857
         ],
         "yaxis": "y"
        }
       ],
       "layout": {
        "autosize": false,
        "height": 600,
        "legend": {
         "title": {
          "text": "topico"
         },
         "tracegroupgap": 0
        },
        "margin": {
         "t": 60
        },
        "template": {
         "data": {
          "bar": [
           {
            "error_x": {
             "color": "#2a3f5f"
            },
            "error_y": {
             "color": "#2a3f5f"
            },
            "marker": {
             "line": {
              "color": "#E5ECF6",
              "width": 0.5
             }
            },
            "type": "bar"
           }
          ],
          "barpolar": [
           {
            "marker": {
             "line": {
              "color": "#E5ECF6",
              "width": 0.5
             }
            },
            "type": "barpolar"
           }
          ],
          "carpet": [
           {
            "aaxis": {
             "endlinecolor": "#2a3f5f",
             "gridcolor": "white",
             "linecolor": "white",
             "minorgridcolor": "white",
             "startlinecolor": "#2a3f5f"
            },
            "baxis": {
             "endlinecolor": "#2a3f5f",
             "gridcolor": "white",
             "linecolor": "white",
             "minorgridcolor": "white",
             "startlinecolor": "#2a3f5f"
            },
            "type": "carpet"
           }
          ],
          "choropleth": [
           {
            "colorbar": {
             "outlinewidth": 0,
             "ticks": ""
            },
            "type": "choropleth"
           }
          ],
          "contour": [
           {
            "colorbar": {
             "outlinewidth": 0,
             "ticks": ""
            },
            "colorscale": [
             [
              0,
              "#0d0887"
             ],
             [
              0.1111111111111111,
              "#46039f"
             ],
             [
              0.2222222222222222,
              "#7201a8"
             ],
             [
              0.3333333333333333,
              "#9c179e"
             ],
             [
              0.4444444444444444,
              "#bd3786"
             ],
             [
              0.5555555555555556,
              "#d8576b"
             ],
             [
              0.6666666666666666,
              "#ed7953"
             ],
             [
              0.7777777777777778,
              "#fb9f3a"
             ],
             [
              0.8888888888888888,
              "#fdca26"
             ],
             [
              1,
              "#f0f921"
             ]
            ],
            "type": "contour"
           }
          ],
          "contourcarpet": [
           {
            "colorbar": {
             "outlinewidth": 0,
             "ticks": ""
            },
            "type": "contourcarpet"
           }
          ],
          "heatmap": [
           {
            "colorbar": {
             "outlinewidth": 0,
             "ticks": ""
            },
            "colorscale": [
             [
              0,
              "#0d0887"
             ],
             [
              0.1111111111111111,
              "#46039f"
             ],
             [
              0.2222222222222222,
              "#7201a8"
             ],
             [
              0.3333333333333333,
              "#9c179e"
             ],
             [
              0.4444444444444444,
              "#bd3786"
             ],
             [
              0.5555555555555556,
              "#d8576b"
             ],
             [
              0.6666666666666666,
              "#ed7953"
             ],
             [
              0.7777777777777778,
              "#fb9f3a"
             ],
             [
              0.8888888888888888,
              "#fdca26"
             ],
             [
              1,
              "#f0f921"
             ]
            ],
            "type": "heatmap"
           }
          ],
          "heatmapgl": [
           {
            "colorbar": {
             "outlinewidth": 0,
             "ticks": ""
            },
            "colorscale": [
             [
              0,
              "#0d0887"
             ],
             [
              0.1111111111111111,
              "#46039f"
             ],
             [
              0.2222222222222222,
              "#7201a8"
             ],
             [
              0.3333333333333333,
              "#9c179e"
             ],
             [
              0.4444444444444444,
              "#bd3786"
             ],
             [
              0.5555555555555556,
              "#d8576b"
             ],
             [
              0.6666666666666666,
              "#ed7953"
             ],
             [
              0.7777777777777778,
              "#fb9f3a"
             ],
             [
              0.8888888888888888,
              "#fdca26"
             ],
             [
              1,
              "#f0f921"
             ]
            ],
            "type": "heatmapgl"
           }
          ],
          "histogram": [
           {
            "marker": {
             "colorbar": {
              "outlinewidth": 0,
              "ticks": ""
             }
            },
            "type": "histogram"
           }
          ],
          "histogram2d": [
           {
            "colorbar": {
             "outlinewidth": 0,
             "ticks": ""
            },
            "colorscale": [
             [
              0,
              "#0d0887"
             ],
             [
              0.1111111111111111,
              "#46039f"
             ],
             [
              0.2222222222222222,
              "#7201a8"
             ],
             [
              0.3333333333333333,
              "#9c179e"
             ],
             [
              0.4444444444444444,
              "#bd3786"
             ],
             [
              0.5555555555555556,
              "#d8576b"
             ],
             [
              0.6666666666666666,
              "#ed7953"
             ],
             [
              0.7777777777777778,
              "#fb9f3a"
             ],
             [
              0.8888888888888888,
              "#fdca26"
             ],
             [
              1,
              "#f0f921"
             ]
            ],
            "type": "histogram2d"
           }
          ],
          "histogram2dcontour": [
           {
            "colorbar": {
             "outlinewidth": 0,
             "ticks": ""
            },
            "colorscale": [
             [
              0,
              "#0d0887"
             ],
             [
              0.1111111111111111,
              "#46039f"
             ],
             [
              0.2222222222222222,
              "#7201a8"
             ],
             [
              0.3333333333333333,
              "#9c179e"
             ],
             [
              0.4444444444444444,
              "#bd3786"
             ],
             [
              0.5555555555555556,
              "#d8576b"
             ],
             [
              0.6666666666666666,
              "#ed7953"
             ],
             [
              0.7777777777777778,
              "#fb9f3a"
             ],
             [
              0.8888888888888888,
              "#fdca26"
             ],
             [
              1,
              "#f0f921"
             ]
            ],
            "type": "histogram2dcontour"
           }
          ],
          "mesh3d": [
           {
            "colorbar": {
             "outlinewidth": 0,
             "ticks": ""
            },
            "type": "mesh3d"
           }
          ],
          "parcoords": [
           {
            "line": {
             "colorbar": {
              "outlinewidth": 0,
              "ticks": ""
             }
            },
            "type": "parcoords"
           }
          ],
          "pie": [
           {
            "automargin": true,
            "type": "pie"
           }
          ],
          "scatter": [
           {
            "marker": {
             "colorbar": {
              "outlinewidth": 0,
              "ticks": ""
             }
            },
            "type": "scatter"
           }
          ],
          "scatter3d": [
           {
            "line": {
             "colorbar": {
              "outlinewidth": 0,
              "ticks": ""
             }
            },
            "marker": {
             "colorbar": {
              "outlinewidth": 0,
              "ticks": ""
             }
            },
            "type": "scatter3d"
           }
          ],
          "scattercarpet": [
           {
            "marker": {
             "colorbar": {
              "outlinewidth": 0,
              "ticks": ""
             }
            },
            "type": "scattercarpet"
           }
          ],
          "scattergeo": [
           {
            "marker": {
             "colorbar": {
              "outlinewidth": 0,
              "ticks": ""
             }
            },
            "type": "scattergeo"
           }
          ],
          "scattergl": [
           {
            "marker": {
             "colorbar": {
              "outlinewidth": 0,
              "ticks": ""
             }
            },
            "type": "scattergl"
           }
          ],
          "scattermapbox": [
           {
            "marker": {
             "colorbar": {
              "outlinewidth": 0,
              "ticks": ""
             }
            },
            "type": "scattermapbox"
           }
          ],
          "scatterpolar": [
           {
            "marker": {
             "colorbar": {
              "outlinewidth": 0,
              "ticks": ""
             }
            },
            "type": "scatterpolar"
           }
          ],
          "scatterpolargl": [
           {
            "marker": {
             "colorbar": {
              "outlinewidth": 0,
              "ticks": ""
             }
            },
            "type": "scatterpolargl"
           }
          ],
          "scatterternary": [
           {
            "marker": {
             "colorbar": {
              "outlinewidth": 0,
              "ticks": ""
             }
            },
            "type": "scatterternary"
           }
          ],
          "surface": [
           {
            "colorbar": {
             "outlinewidth": 0,
             "ticks": ""
            },
            "colorscale": [
             [
              0,
              "#0d0887"
             ],
             [
              0.1111111111111111,
              "#46039f"
             ],
             [
              0.2222222222222222,
              "#7201a8"
             ],
             [
              0.3333333333333333,
              "#9c179e"
             ],
             [
              0.4444444444444444,
              "#bd3786"
             ],
             [
              0.5555555555555556,
              "#d8576b"
             ],
             [
              0.6666666666666666,
              "#ed7953"
             ],
             [
              0.7777777777777778,
              "#fb9f3a"
             ],
             [
              0.8888888888888888,
              "#fdca26"
             ],
             [
              1,
              "#f0f921"
             ]
            ],
            "type": "surface"
           }
          ],
          "table": [
           {
            "cells": {
             "fill": {
              "color": "#EBF0F8"
             },
             "line": {
              "color": "white"
             }
            },
            "header": {
             "fill": {
              "color": "#C8D4E3"
             },
             "line": {
              "color": "white"
             }
            },
            "type": "table"
           }
          ]
         },
         "layout": {
          "annotationdefaults": {
           "arrowcolor": "#2a3f5f",
           "arrowhead": 0,
           "arrowwidth": 1
          },
          "coloraxis": {
           "colorbar": {
            "outlinewidth": 0,
            "ticks": ""
           }
          },
          "colorscale": {
           "diverging": [
            [
             0,
             "#8e0152"
            ],
            [
             0.1,
             "#c51b7d"
            ],
            [
             0.2,
             "#de77ae"
            ],
            [
             0.3,
             "#f1b6da"
            ],
            [
             0.4,
             "#fde0ef"
            ],
            [
             0.5,
             "#f7f7f7"
            ],
            [
             0.6,
             "#e6f5d0"
            ],
            [
             0.7,
             "#b8e186"
            ],
            [
             0.8,
             "#7fbc41"
            ],
            [
             0.9,
             "#4d9221"
            ],
            [
             1,
             "#276419"
            ]
           ],
           "sequential": [
            [
             0,
             "#0d0887"
            ],
            [
             0.1111111111111111,
             "#46039f"
            ],
            [
             0.2222222222222222,
             "#7201a8"
            ],
            [
             0.3333333333333333,
             "#9c179e"
            ],
            [
             0.4444444444444444,
             "#bd3786"
            ],
            [
             0.5555555555555556,
             "#d8576b"
            ],
            [
             0.6666666666666666,
             "#ed7953"
            ],
            [
             0.7777777777777778,
             "#fb9f3a"
            ],
            [
             0.8888888888888888,
             "#fdca26"
            ],
            [
             1,
             "#f0f921"
            ]
           ],
           "sequentialminus": [
            [
             0,
             "#0d0887"
            ],
            [
             0.1111111111111111,
             "#46039f"
            ],
            [
             0.2222222222222222,
             "#7201a8"
            ],
            [
             0.3333333333333333,
             "#9c179e"
            ],
            [
             0.4444444444444444,
             "#bd3786"
            ],
            [
             0.5555555555555556,
             "#d8576b"
            ],
            [
             0.6666666666666666,
             "#ed7953"
            ],
            [
             0.7777777777777778,
             "#fb9f3a"
            ],
            [
             0.8888888888888888,
             "#fdca26"
            ],
            [
             1,
             "#f0f921"
            ]
           ]
          },
          "colorway": [
           "#636efa",
           "#EF553B",
           "#00cc96",
           "#ab63fa",
           "#FFA15A",
           "#19d3f3",
           "#FF6692",
           "#B6E880",
           "#FF97FF",
           "#FECB52"
          ],
          "font": {
           "color": "#2a3f5f"
          },
          "geo": {
           "bgcolor": "white",
           "lakecolor": "white",
           "landcolor": "#E5ECF6",
           "showlakes": true,
           "showland": true,
           "subunitcolor": "white"
          },
          "hoverlabel": {
           "align": "left"
          },
          "hovermode": "closest",
          "mapbox": {
           "style": "light"
          },
          "paper_bgcolor": "white",
          "plot_bgcolor": "#E5ECF6",
          "polar": {
           "angularaxis": {
            "gridcolor": "white",
            "linecolor": "white",
            "ticks": ""
           },
           "bgcolor": "#E5ECF6",
           "radialaxis": {
            "gridcolor": "white",
            "linecolor": "white",
            "ticks": ""
           }
          },
          "scene": {
           "xaxis": {
            "backgroundcolor": "#E5ECF6",
            "gridcolor": "white",
            "gridwidth": 2,
            "linecolor": "white",
            "showbackground": true,
            "ticks": "",
            "zerolinecolor": "white"
           },
           "yaxis": {
            "backgroundcolor": "#E5ECF6",
            "gridcolor": "white",
            "gridwidth": 2,
            "linecolor": "white",
            "showbackground": true,
            "ticks": "",
            "zerolinecolor": "white"
           },
           "zaxis": {
            "backgroundcolor": "#E5ECF6",
            "gridcolor": "white",
            "gridwidth": 2,
            "linecolor": "white",
            "showbackground": true,
            "ticks": "",
            "zerolinecolor": "white"
           }
          },
          "shapedefaults": {
           "line": {
            "color": "#2a3f5f"
           }
          },
          "ternary": {
           "aaxis": {
            "gridcolor": "white",
            "linecolor": "white",
            "ticks": ""
           },
           "baxis": {
            "gridcolor": "white",
            "linecolor": "white",
            "ticks": ""
           },
           "bgcolor": "#E5ECF6",
           "caxis": {
            "gridcolor": "white",
            "linecolor": "white",
            "ticks": ""
           }
          },
          "title": {
           "x": 0.05
          },
          "xaxis": {
           "automargin": true,
           "gridcolor": "white",
           "linecolor": "white",
           "ticks": "",
           "title": {
            "standoff": 15
           },
           "zerolinecolor": "white",
           "zerolinewidth": 2
          },
          "yaxis": {
           "automargin": true,
           "gridcolor": "white",
           "linecolor": "white",
           "ticks": "",
           "title": {
            "standoff": 15
           },
           "zerolinecolor": "white",
           "zerolinewidth": 2
          }
         }
        },
        "width": 600,
        "xaxis": {
         "anchor": "y",
         "domain": [
          0,
          1
         ],
         "title": {
          "text": "pc1"
         }
        },
        "yaxis": {
         "anchor": "x",
         "domain": [
          0,
          1
         ],
         "title": {
          "text": "pc2"
         }
        }
       }
      },
      "text/html": [
       "<div>\n",
       "        \n",
       "        \n",
       "            <div id=\"f9c7ba1c-014f-4f06-8c0f-90adfd7f901d\" class=\"plotly-graph-div\" style=\"height:600px; width:600px;\"></div>\n",
       "            <script type=\"text/javascript\">\n",
       "                require([\"plotly\"], function(Plotly) {\n",
       "                    window.PLOTLYENV=window.PLOTLYENV || {};\n",
       "                    \n",
       "                if (document.getElementById(\"f9c7ba1c-014f-4f06-8c0f-90adfd7f901d\")) {\n",
       "                    Plotly.newPlot(\n",
       "                        'f9c7ba1c-014f-4f06-8c0f-90adfd7f901d',\n",
       "                        [{\"customdata\": [[\"no\"], [\"no\"], [\"no\"], [\"no\"], [\"no\"], [\"no\"], [\"no\"], [\"no\"], [\"no\"], [\"no\"], [\"no\"], [\"no\"], [\"no\"], [\"no\"], [\"no\"], [\"no\"], [\"no\"], [\"no\"], [\"no\"], [\"no\"], [\"no\"], [\"no\"], [\"no\"], [\"no\"], [\"no\"], [\"yes\"], [\"yes\"], [\"yes\"], [\"yes\"], [\"yes\"], [\"yes\"], [\"yes\"], [\"yes\"], [\"yes\"], [\"yes\"], [\"yes\"], [\"yes\"], [\"yes\"], [\"yes\"], [\"yes\"], [\"yes\"], [\"yes\"], [\"yes\"], [\"yes\"], [\"yes\"], [\"yes\"], [\"yes\"], [\"yes\"], [\"yes\"], [\"yes\"]], \"hovertemplate\": \"topico=coches<br>pc1=%{x}<br>pc2=%{y}<br>sentimiento=%{customdata[0]}<extra></extra>\", \"legendgroup\": \"coches\", \"marker\": {\"color\": \"#636efa\", \"symbol\": \"circle\"}, \"mode\": \"markers\", \"name\": \"coches\", \"orientation\": \"v\", \"showlegend\": true, \"type\": \"scatter\", \"x\": [-5.940934637662338, -1.8335957738775808, -2.3390939544302447, 1.0710187671613882, -7.611598736334622, -4.816485938617386, -4.850406217753645, -3.361963568745855, -3.9249008019092795, -4.156192155496872, -4.310113862760378, -3.2343480273805993, -5.473156421404626, -3.5544994946723683, -4.736980070987633, -4.654778272361588, -3.479565165593293, 0.1969014521211528, -5.0128784029119835, -4.533250106342644, -3.0993585954098726, -3.5547152706417147, -4.385021290334334, -6.837898694402336, -4.665472286569599, -2.79529496566961, -6.510137444423889, -2.4453886055943674, -6.309278737275091, -2.8109137911448965, -3.212995481238197, -6.217603361270662, -4.200890251739718, -4.949693773966289, -7.290845099158154, -3.5547152706417147, 1.0063144835030347, -1.3047243647806674, -5.552206388631812, -6.742420437311598, -8.474595386813283, -4.28217189167001, 2.8827233312826293, -0.10471656344408717, -5.923184018294386, -4.108103937381534, -5.883724091160538, -7.387981621431708, -6.708632666468604, -11.408033815454994], \"xaxis\": \"x\", \"y\": [-3.991104428737974, -4.874820111902881, -2.866880047703323, -5.7162997801178195, -1.7052063908878152, -3.0291769394535093, -1.1150489768392509, -2.6399105206705458, -2.1637921376097764, -1.893875962662691, -2.3971325609675964, -4.346477764641617, -3.9310488327908573, -3.8532312398631836, -0.9311464997109651, -2.5646767115709497, -2.442285970072266, -3.2115574399577143, -2.710078145936042, -1.987330105658156, -0.8943594344211796, -3.449930060518481, -1.6558268059724635, -0.22912133356961342, -0.5763553550477842, -5.06645317634512, -2.4698785943090527, -2.5030774901081605, 2.397540576842344, 0.4046433414520945, -0.7171410481135689, -2.098547703243525, -3.118344419592191, -1.9876372241141413, 0.3591613989469527, -3.449930060518481, -3.538634599749642, -2.958603836474287, -2.526461670961351, 1.0220461660288325, -0.08607210790833701, -0.6069117084570591, -2.5172180659273806, -3.767358412313219, -2.58355014129891, -4.396885984408689, -2.713116834731753, 0.2021439193095355, -3.3194907926169694, 2.882276692433071], \"yaxis\": \"y\"}, {\"customdata\": [[\"no\"], [\"no\"], [\"no\"], [\"no\"], [\"no\"], [\"no\"], [\"no\"], [\"no\"], [\"no\"], [\"no\"], [\"no\"], [\"no\"], [\"no\"], [\"no\"], [\"no\"], [\"no\"], [\"no\"], [\"no\"], [\"no\"], [\"no\"], [\"no\"], [\"no\"], [\"no\"], [\"no\"], [\"no\"], [\"yes\"], [\"yes\"], [\"yes\"], [\"yes\"], [\"yes\"], [\"yes\"], [\"yes\"], [\"yes\"], [\"yes\"], [\"yes\"], [\"yes\"], [\"yes\"], [\"yes\"], [\"yes\"], [\"yes\"], [\"yes\"], [\"yes\"], [\"yes\"], [\"yes\"], [\"yes\"], [\"yes\"], [\"yes\"], [\"yes\"], [\"yes\"], [\"yes\"]], \"hovertemplate\": \"topico=hoteles<br>pc1=%{x}<br>pc2=%{y}<br>sentimiento=%{customdata[0]}<extra></extra>\", \"legendgroup\": \"hoteles\", \"marker\": {\"color\": \"#EF553B\", \"symbol\": \"circle\"}, \"mode\": \"markers\", \"name\": \"hoteles\", \"orientation\": \"v\", \"showlegend\": true, \"type\": \"scatter\", \"x\": [-3.7348743415722585, -4.186535425114612, 0.6106065415823395, -3.623642004149251, -5.344654545194712, -0.04984043496651461, -4.7165823395651545, -8.710922220989195, -2.0354476982259238, -7.2076245043375975, -2.0746504523415954, -3.1009562797379533, -0.5790620139525267, -5.19270454905799, -6.219757328315189, -3.488289633814667, -4.522293960647422, -3.904233451759814, -1.2596107345942202, -2.8457826197069154, -1.9354630163942586, -2.4882328257278044, -2.7306963227976784, -2.4813121744662263, -4.5283401401413625, -2.0677112925969343, -5.316106925048562, -3.9006267256109917, -3.308510017429954, -3.812440639293547, -3.7379621015019406, -0.39467156967060446, -4.847266353379372, -2.7333870180991546, -3.86479235644752, -8.458847272070189, -3.079546824051641, -0.874509404930518, -5.937051687202114, -4.784582054237465, -5.601731424310559, -8.72596197516896, -3.543634270835734, -8.658399974162593, -6.446570442944425, 0.09827903486111042, -0.4884247237600121, -1.147417728428308, -1.550388553462672, -0.01481880730285413], \"xaxis\": \"x\", \"y\": [-7.761721549927459, -7.7098299902643435, -9.091665973607967, -1.7986764874396155, -7.546921801758676, -6.8500341084117835, -5.425569777821726, -6.820418940549337, -7.237113061264715, -9.827853666617163, -8.395048869743352, -9.215282159515832, -8.74581927818732, -7.363236868001119, -8.32796337284936, -7.432844488819045, -6.853252042778601, -7.466881598084467, -8.907147877881037, -8.93799006224029, -8.574107208162948, -8.415147116158257, -7.217390389407208, -6.3950909144186125, -7.395119829290034, -7.486464232153865, -7.487557795259673, -8.72902848025013, -9.06248209026066, -8.392259487538315, -6.800784852986714, -7.650143583317609, -8.901563928696692, -8.944635774695534, -9.943073942514301, -6.008603259429422, -8.809446104622776, -7.944517439648994, -8.042088168199683, -5.492399855063881, -7.0475504047844195, -5.820769274013948, -7.1219712479076716, -4.424201207026748, -8.681645759807177, -8.55688845379475, -4.751281274509347, -7.399561308940524, -8.935188672662811, -7.371732782300471], \"yaxis\": \"y\"}, {\"customdata\": [[\"no\"], [\"no\"], [\"no\"], [\"no\"], [\"no\"], [\"no\"], [\"no\"], [\"no\"], [\"no\"], [\"no\"], [\"no\"], [\"no\"], [\"no\"], [\"no\"], [\"no\"], [\"no\"], [\"no\"], [\"no\"], [\"no\"], [\"no\"], [\"no\"], [\"no\"], [\"no\"], [\"no\"], [\"no\"], [\"yes\"], [\"yes\"], [\"yes\"], [\"yes\"], [\"yes\"], [\"yes\"], [\"yes\"], [\"yes\"], [\"yes\"], [\"yes\"], [\"yes\"], [\"yes\"], [\"yes\"], [\"yes\"], [\"yes\"], [\"yes\"], [\"yes\"], [\"yes\"], [\"yes\"], [\"yes\"], [\"yes\"], [\"yes\"], [\"yes\"], [\"yes\"], [\"yes\"]], \"hovertemplate\": \"topico=lavadoras<br>pc1=%{x}<br>pc2=%{y}<br>sentimiento=%{customdata[0]}<extra></extra>\", \"legendgroup\": \"lavadoras\", \"marker\": {\"color\": \"#00cc96\", \"symbol\": \"circle\"}, \"mode\": \"markers\", \"name\": \"lavadoras\", \"orientation\": \"v\", \"showlegend\": true, \"type\": \"scatter\", \"x\": [-4.939467615144277, -3.9725287130343587, -1.7255221053247143, -4.505865787581852, -4.58033347018357, -2.2117356383132587, -5.158951815908608, -4.757520805942862, -4.526192988016202, -5.095890421247676, -5.3781000569123645, -3.664189439163493, -3.759940591401701, -7.039986560937628, -8.219028930207147, -7.257347188459782, -8.426656054944711, -4.849166801469028, -5.308079270755732, -5.963165089459295, -4.934913752393897, -3.4890888086242624, -3.3074189808650694, -4.866254061241848, -8.754281776757193, -7.183271744309633, -4.078960755039844, -6.230988479845287, -6.642325290126217, -5.082048990763791, -2.91056395313293, -0.6364361458854175, -6.451875474472066, -10.396004176312811, -8.690597425534595, -4.952942438324855, -6.039122921106143, -8.37430141390134, -5.054546890581696, -4.154779606429769, -6.148843746950119, -8.798877329435443, -10.771941812398717, -5.339824631951497, -8.157351911148178, -7.967265842274757, -8.331080000581165, -8.230446999225254, -11.219531017917147, -7.336682275217225], \"xaxis\": \"x\", \"y\": [-5.26265645771681, -3.684541858042121, -3.5874101241531005, -2.8249936244930343, -3.2969879348010296, -3.5795075874417486, -3.154294175658412, -3.602235413133928, -4.067691940050109, 0.44274403795882794, -4.223046828251826, -3.2781432118566465, -4.263181441275485, -1.7879916634070574, 0.22228382512469255, 0.6670673508214874, -3.927455218772107, -2.4218470787288644, -2.987459234228521, -0.03401722697714865, -2.4026983409512446, -4.635444849213364, -2.3363229497839275, -1.829649444486409, -0.042072444777264004, -2.0536016271316804, -4.580667763264098, -2.4211811752269323, -2.0747262371279547, 0.2795760688318319, -6.92850291715976, -5.038525016920047, -2.18888598816954, -2.8913598717514506, 1.9675796930764158, -1.9334756610317478, -3.6777070932959743, 1.3888532372769666, -3.819353312043732, -2.675755239104664, -3.905524327755842, -1.1267956740255896, 1.197728792718193, -2.9267392718942316, -2.0472547854753818, -3.2341326902178906, -3.898424145570792, 0.8508642493383706, 5.976066620739386, -2.5258460429408136], \"yaxis\": \"y\"}, {\"customdata\": [[\"no\"], [\"no\"], [\"no\"], [\"no\"], [\"no\"], [\"no\"], [\"no\"], [\"no\"], [\"no\"], [\"no\"], [\"no\"], [\"no\"], [\"no\"], [\"no\"], [\"no\"], [\"no\"], [\"no\"], [\"no\"], [\"no\"], [\"no\"], [\"no\"], [\"no\"], [\"no\"], [\"no\"], [\"no\"], [\"yes\"], [\"yes\"], [\"yes\"], [\"yes\"], [\"yes\"], [\"yes\"], [\"yes\"], [\"yes\"], [\"yes\"], [\"yes\"], [\"yes\"], [\"yes\"], [\"yes\"], [\"yes\"], [\"yes\"], [\"yes\"], [\"yes\"], [\"yes\"], [\"yes\"], [\"yes\"], [\"yes\"], [\"yes\"], [\"yes\"], [\"yes\"], [\"yes\"]], \"hovertemplate\": \"topico=libros<br>pc1=%{x}<br>pc2=%{y}<br>sentimiento=%{customdata[0]}<extra></extra>\", \"legendgroup\": \"libros\", \"marker\": {\"color\": \"#ab63fa\", \"symbol\": \"circle\"}, \"mode\": \"markers\", \"name\": \"libros\", \"orientation\": \"v\", \"showlegend\": true, \"type\": \"scatter\", \"x\": [7.552251267967152, 8.222750796562245, 9.278961734575589, 7.19482403756916, 5.089402057688899, 6.010135503389398, 7.914336001868281, 8.191121596845756, 7.008867948276396, 6.012944357887022, 6.580925207559299, 8.343630586824569, 8.436839521719032, 6.535579751345809, 6.44480647269344, 6.184424045796638, 5.936924158809872, 5.7407704572364935, 5.524867111314088, 6.158675924414218, 8.350454078535478, 6.361274945460564, 6.56554789150054, 9.310613333748837, 4.292235885421295, 9.811885072651487, 6.469935562225194, 6.689845765161202, 5.9495297752938, 6.258712452667566, 7.527078652140287, 7.03053675800193, 7.574777409640605, 5.5916169604571735, 8.534618352485538, 5.959936640871092, 6.9314956365499185, 7.941943364256265, 7.778757517689609, 7.231575154956045, 8.519702190931103, 8.734823151694709, 6.771837098127202, 7.817865640287572, 5.58600358117046, 11.258980008967574, 3.2657208936645796, 8.410694585083997, 8.362084339434025, 9.47093115658455], \"xaxis\": \"x\", \"y\": [-0.5659273094174511, -7.309694282108394, -2.930814956729937, -4.06144928383171, -4.122859906325043, -2.5115217259081737, -3.9226056693157836, -3.2354487352748973, -2.729592194493717, -3.9016563845692387, -2.4163564452503437, -5.398212945373293, -2.5985788472909555, -3.7330754184674517, -4.444503331580315, -1.6900638864910986, -5.127699518446812, -3.941001514150945, -4.225256750126917, -3.2061154949784814, -2.560305678874979, -3.409969564092381, -3.202401096862604, -5.845664711044346, -4.068084192518943, 1.5823889766483308, -4.41430978808409, -4.25608441820014, -6.850051646518195, -4.221346623204826, -3.46868861945104, -4.3309851702576685, -4.990608506412228, -4.2461715538461045, -5.3223320458914145, -6.4829763793469075, -4.779878476653938, -5.001031057487845, -5.563000389203163, -5.569370954522093, -6.361172291767096, -3.1975894983716735, -5.26114123680335, -4.64737204737077, -6.093552388309488, -4.138004310288829, -3.1184747031227196, -0.7952300128656269, -4.636199506898277, -4.525301449502311], \"yaxis\": \"y\"}, {\"customdata\": [[\"no\"], [\"no\"], [\"no\"], [\"no\"], [\"no\"], [\"no\"], [\"no\"], [\"no\"], [\"no\"], [\"no\"], [\"no\"], [\"no\"], [\"no\"], [\"no\"], [\"no\"], [\"no\"], [\"no\"], [\"no\"], [\"no\"], [\"no\"], [\"no\"], [\"no\"], [\"no\"], [\"no\"], [\"no\"], [\"yes\"], [\"yes\"], [\"yes\"], [\"yes\"], [\"yes\"], [\"yes\"], [\"yes\"], [\"yes\"], [\"yes\"], [\"yes\"], [\"yes\"], [\"yes\"], [\"yes\"], [\"yes\"], [\"yes\"], [\"yes\"], [\"yes\"], [\"yes\"], [\"yes\"], [\"yes\"], [\"yes\"], [\"yes\"], [\"yes\"], [\"yes\"], [\"yes\"]], \"hovertemplate\": \"topico=moviles<br>pc1=%{x}<br>pc2=%{y}<br>sentimiento=%{customdata[0]}<extra></extra>\", \"legendgroup\": \"moviles\", \"marker\": {\"color\": \"#FFA15A\", \"symbol\": \"circle\"}, \"mode\": \"markers\", \"name\": \"moviles\", \"orientation\": \"v\", \"showlegend\": true, \"type\": \"scatter\", \"x\": [-10.051128999431343, -6.127413348706865, -4.296339282356621, -1.5397460536870504, -2.347527003262064, -5.70032294112037, 0.48328274956152795, -1.8558723573532743, -2.502492937349444, -5.902799546050918, -3.9240078039628115, -2.6983219881629124, -6.072531209368128, -4.415341027129996, -3.6258979244533767, 0.4182999711174198, -8.391951761599582, -10.158398319164835, -8.006579895108974, -6.4809706731185095, -5.069696634213202, -1.1721756496636657, -9.867925900682707, -0.3775624775600417, -6.979518755332562, -5.931903579037607, -0.2966860892145112, -15.440286003528492, -6.326301329241074, -4.585905266776778, -7.716824088553717, -3.6746398293311304, -6.931345388739144, -8.627459727523094, -9.226859827503663, -7.381992148822596, -8.619711966336368, -5.028856977376816, -5.86366940383141, -2.1546525785496398, -7.044285735071527, -2.9859043543466868, -9.37844633443097, -6.990149566887513, -6.069240241961241, -5.510848962309495, -5.146326062201396, -4.075049418085893, -4.639916867313748, -2.072890178304159], \"xaxis\": \"x\", \"y\": [2.5446969070895844, 4.703654200008447, 0.4932200377965002, -0.8948436465818296, 0.7099399148473414, 1.9562759489064026, -0.4392232836131563, -0.3264044271902688, -1.3844327370515734, 4.969324296814836, -2.0543979348764534, 2.1859237756059837, 3.5468304226483776, 3.9760678968877077, 4.8217522236519645, -0.49469306978557565, 6.200533273313692, 9.345614670253998, 4.5322697279567725, 4.943692437372339, 3.6812126953580773, -0.7766025198455349, 6.730435400018365, -1.1529791990251195, 7.807885387250982, 2.444906781291792, 3.075330424866776, 19.85499328120602, 6.975844467815488, 6.142454627630294, 7.381168250868915, 0.8224065177055097, 5.381806296256343, 6.311566151948086, 8.462146152148872, 8.398854879367283, 3.0880188677440783, 8.043755364072252, 2.4822259098437556, 1.0440923311190164, 8.686139040294297, 3.657800099679222, 8.842828380324423, 11.840804583970833, 3.8651326797958867, 3.3618738655631404, 2.176318042388032, 3.851558782561632, 6.550980188047263, 3.237495825345652], \"yaxis\": \"y\"}, {\"customdata\": [[\"no\"], [\"no\"], [\"no\"], [\"no\"], [\"no\"], [\"no\"], [\"no\"], [\"no\"], [\"no\"], [\"no\"], [\"no\"], [\"no\"], [\"no\"], [\"no\"], [\"no\"], [\"no\"], [\"no\"], [\"no\"], [\"no\"], [\"no\"], [\"no\"], [\"no\"], [\"no\"], [\"no\"], [\"no\"], [\"yes\"], [\"yes\"], [\"yes\"], [\"yes\"], [\"yes\"], [\"yes\"], [\"yes\"], [\"yes\"], [\"yes\"], [\"yes\"], [\"yes\"], [\"yes\"], [\"yes\"], [\"yes\"], [\"yes\"], [\"yes\"], [\"yes\"], [\"yes\"], [\"yes\"], [\"yes\"], [\"yes\"], [\"yes\"], [\"yes\"], [\"yes\"], [\"yes\"]], \"hovertemplate\": \"topico=musica<br>pc1=%{x}<br>pc2=%{y}<br>sentimiento=%{customdata[0]}<extra></extra>\", \"legendgroup\": \"musica\", \"marker\": {\"color\": \"#19d3f3\", \"symbol\": \"circle\"}, \"mode\": \"markers\", \"name\": \"musica\", \"orientation\": \"v\", \"showlegend\": true, \"type\": \"scatter\", \"x\": [8.356311395478428, 8.8697029834635, 10.943282556999762, 10.447758341825534, 10.900202941566103, 9.52341969392163, 8.454150783838184, 6.488030071198615, 7.969656893430911, 15.611186923748676, 9.28551034444936, 10.127023364968968, 10.556407088401748, 11.813134813297234, 9.169491079215755, 9.43781391576578, 9.294017972228525, 12.128961399630606, 7.816310990109604, 11.380735311570888, 4.65080223560079, 12.430248802749619, 9.509209353527545, 7.413757856893413, 12.659697216608992, 11.549847852894233, 12.194258906226072, 6.87704778444923, 12.938585408591637, 8.597762881269299, 11.963509119753127, 10.995212420390436, 14.536379425831571, 8.661547570655424, 9.4347498707541, 9.347225208117605, 9.567465940993086, 12.196331481235624, 9.06825165934053, 8.828626699156104, 14.300184934968282, 11.013110569834325, 8.704506240854595, 10.9788933155667, 13.069285446936057, 8.662583361800102, 9.374118937944864, 10.124081682766699, 10.745166375683949, 9.921078027435815], \"xaxis\": \"x\", \"y\": [-1.683305098032683, 8.79754904858611, 11.13948314869865, 0.5632877401317163, 4.502039836703714, 8.281189441142331, -2.6895786522936658, 2.8233649077176213, -6.885006061077247, 24.007914614020784, 3.458796988866735, 5.583929377068002, 5.204665971065279, 8.21087272400046, 4.810240303949921, 10.402235680623779, 6.822820483645463, 20.11669949207133, 6.174444815779834, 9.04186431489135, 4.20034360425203, 8.626495349417747, -0.5718311480341728, 3.7925251569175296, 10.873477639999821, 6.332535148313134, 9.479305154311994, 4.961675413350293, 14.79086890996451, 7.356416921953807, 13.36213087097536, 9.751575932559577, 13.753477372156452, 5.178380444157211, 6.421227481530753, 9.117758731351074, 7.575844804137565, 10.282602410559566, 6.4162740905079865, 9.06961997679784, 19.71338395767692, 6.521244461440677, 1.9397592233582508, -1.9243650766847116, 8.374260991208741, 6.764305172672015, 3.4411246036564713, 11.660808744310268, 8.836469045037418, 10.13878395770539], \"yaxis\": \"y\"}, {\"customdata\": [[\"no\"], [\"no\"], [\"no\"], [\"no\"], [\"no\"], [\"no\"], [\"no\"], [\"no\"], [\"no\"], [\"no\"], [\"no\"], [\"no\"], [\"no\"], [\"no\"], [\"no\"], [\"no\"], [\"no\"], [\"no\"], [\"no\"], [\"no\"], [\"no\"], [\"no\"], [\"no\"], [\"no\"], [\"no\"], [\"yes\"], [\"yes\"], [\"yes\"], [\"yes\"], [\"yes\"], [\"yes\"], [\"yes\"], [\"yes\"], [\"yes\"], [\"yes\"], [\"yes\"], [\"yes\"], [\"yes\"], [\"yes\"], [\"yes\"], [\"yes\"], [\"yes\"], [\"yes\"], [\"yes\"], [\"yes\"], [\"yes\"], [\"yes\"], [\"yes\"], [\"yes\"], [\"yes\"]], \"hovertemplate\": \"topico=ordenadores<br>pc1=%{x}<br>pc2=%{y}<br>sentimiento=%{customdata[0]}<extra></extra>\", \"legendgroup\": \"ordenadores\", \"marker\": {\"color\": \"#FF6692\", \"symbol\": \"circle\"}, \"mode\": \"markers\", \"name\": \"ordenadores\", \"orientation\": \"v\", \"showlegend\": true, \"type\": \"scatter\", \"x\": [-3.1332554934183903, -3.89356584296317, 0.011172843872430125, -9.606070150252675, -3.895196889751456, -4.3051805764124715, 4.037168949728245, -5.363564119655891, -6.491003612882917, -4.990216545270584, -6.3860765859682225, -7.065281389304335, -4.16328728084681, -7.523855008808176, -11.43089892249195, -7.419030797514305, -8.968131043196271, -5.944659944084817, -2.3470549898923045, -1.6310908533557218, -5.2206768366739595, -6.472723376921648, -6.013963510528707, -10.11581577378673, -1.9510311033323884, -5.527457147818237, -6.729337837944997, -10.08920968747169, -3.9557679911031194, -5.410353657417177, -1.973082206574309, -7.324143303372011, -13.635907105139156, -5.131957706011235, -0.02638093340912583, -6.307717308938892, -6.859353541907985, -9.757482841429745, -10.04158430322335, -1.91614256436478, -9.676122054539375, -0.7738647655348981, -7.698554315007567, -5.280474331520744, -5.70509486510312, -8.608910850759942, -11.468110228983171, -8.562605243222592, -7.0254250923529, -6.1978689304595], \"xaxis\": \"x\", \"y\": [1.4694067754000195, -0.7619134042796399, 2.8370698303162087, 12.076166254517853, 3.61588604571521, 4.361300033723007, 0.1992789561984496, 1.9810597177814513, 6.264197788789492, 1.0596356671265177, 5.916757097412966, 10.675849417168063, 1.1240199891120506, 7.7824903433154535, 11.702188235963225, 3.1206760723284734, 7.778637235059219, 9.232700600349949, -2.0639151454699256, 1.2905039363250062, 5.8414130849486705, 6.212973581068549, 6.554444107838174, 15.376560983779349, -1.658632810793959, 3.0203940458738825, 4.895709050859116, 8.751483382348106, 6.761463606807719, 7.211261685235085, -0.08476095002560725, 10.864298961791514, 18.83000734700981, 5.829758581747093, 4.833047651471053, 5.653298685482722, 6.875635452200966, 7.416443810119972, 9.848109424577448, -0.9039367177586995, 12.022074061035614, 1.7777962168741266, 4.720854062636432, 15.214847641789268, 13.668935273493858, 11.922760001557627, 15.15866783120228, 10.999715074120143, 9.453903332760557, 5.818639629787289], \"yaxis\": \"y\"}, {\"customdata\": [[\"no\"], [\"no\"], [\"no\"], [\"no\"], [\"no\"], [\"no\"], [\"no\"], [\"no\"], [\"no\"], [\"no\"], [\"no\"], [\"no\"], [\"no\"], [\"no\"], [\"no\"], [\"no\"], [\"no\"], [\"no\"], [\"no\"], [\"no\"], [\"no\"], [\"no\"], [\"no\"], [\"no\"], [\"no\"], [\"yes\"], [\"yes\"], [\"yes\"], [\"yes\"], [\"yes\"], [\"yes\"], [\"yes\"], [\"yes\"], [\"yes\"], [\"yes\"], [\"yes\"], [\"yes\"], [\"yes\"], [\"yes\"], [\"yes\"], [\"yes\"], [\"yes\"], [\"yes\"], [\"yes\"], [\"yes\"], [\"yes\"], [\"yes\"], [\"yes\"], [\"yes\"], [\"yes\"]], \"hovertemplate\": \"topico=peliculas<br>pc1=%{x}<br>pc2=%{y}<br>sentimiento=%{customdata[0]}<extra></extra>\", \"legendgroup\": \"peliculas\", \"marker\": {\"color\": \"#B6E880\", \"symbol\": \"circle\"}, \"mode\": \"markers\", \"name\": \"peliculas\", \"orientation\": \"v\", \"showlegend\": true, \"type\": \"scatter\", \"x\": [9.094142582608654, 4.8447859920465035, 6.223755583491205, 10.002030219716874, 8.24993780348845, 5.467629110763844, 9.683014150405253, 7.9926226996459455, 5.316622655774538, 5.787765814613852, 7.6209273898910395, 6.106208472990722, 9.486776910548455, 7.352685373249682, 9.211134222911351, 5.9396353020084, 7.6374986264645175, 7.762746231232438, 7.098064284044845, 6.540116060228807, 10.135516085818555, 6.4071562902927575, 7.258092210591109, 7.531598026981873, 8.409882874406918, 9.555351227173684, 8.102142016104244, 5.222635279551927, 6.122406853731114, 7.377264161875989, 9.23098400892955, 7.219408997836733, 9.533827115932578, 9.251916685849466, 7.89475089859054, 7.096497947780482, 5.022231053787438, 7.033620015329254, 6.151488108482102, 11.548562463552651, 8.34212121966407, 6.950557711913792, 8.895262232488905, 6.867280996312947, 9.807698559203702, 7.855141921227415, 8.523375623513122, 9.219578865673014, 5.92282807138234, 9.640047758443973], \"xaxis\": \"x\", \"y\": [-1.531662299746315, -0.6939107078182002, -2.128943476778599, -2.950956632334101, -0.03113465367458382, -4.550885535213049, -0.32905334436759187, -4.419739258222757, -4.659872501434152, -2.247334975904377, -1.1504364398333207, -2.4875359484964648, -0.6935912445863136, -1.7343110896939047, -1.0798706243113703, -2.6087327027479446, -2.105272747834466, -2.3631767228835927, -1.4344389281905787, -4.1997393576368545, -0.041422612776351, -2.9080519426098883, -4.0286968275590755, -2.24356815654853, -4.2531866170340455, -1.200875802730096, -1.894024581432641, 0.01308911879135645, -3.140863296230985, -4.3195010687975035, 3.704188824927912, -2.210670532511045, -1.233530527829034, 0.33679042160142714, 1.3946724861850253, -4.2974158489833725, -3.2532695173892052, -1.425372045916654, -1.8237348348646587, 2.6500436092178012, -2.9136253064263644, -0.308018042067451, -4.8379115255402985, -1.293007212231003, -2.986889005522121, -2.164666477507557, -0.3892559925504858, -0.5243205449092732, -1.7624338806567945, -4.434447117141857], \"yaxis\": \"y\"}],\n",
       "                        {\"autosize\": false, \"height\": 600, \"legend\": {\"title\": {\"text\": \"topico\"}, \"tracegroupgap\": 0}, \"margin\": {\"t\": 60}, \"template\": {\"data\": {\"bar\": [{\"error_x\": {\"color\": \"#2a3f5f\"}, \"error_y\": {\"color\": \"#2a3f5f\"}, \"marker\": {\"line\": {\"color\": \"#E5ECF6\", \"width\": 0.5}}, \"type\": \"bar\"}], \"barpolar\": [{\"marker\": {\"line\": {\"color\": \"#E5ECF6\", \"width\": 0.5}}, \"type\": \"barpolar\"}], \"carpet\": [{\"aaxis\": {\"endlinecolor\": \"#2a3f5f\", \"gridcolor\": \"white\", \"linecolor\": \"white\", \"minorgridcolor\": \"white\", \"startlinecolor\": \"#2a3f5f\"}, \"baxis\": {\"endlinecolor\": \"#2a3f5f\", \"gridcolor\": \"white\", \"linecolor\": \"white\", \"minorgridcolor\": \"white\", \"startlinecolor\": \"#2a3f5f\"}, \"type\": \"carpet\"}], \"choropleth\": [{\"colorbar\": {\"outlinewidth\": 0, \"ticks\": \"\"}, \"type\": \"choropleth\"}], \"contour\": [{\"colorbar\": {\"outlinewidth\": 0, \"ticks\": \"\"}, \"colorscale\": [[0.0, \"#0d0887\"], [0.1111111111111111, \"#46039f\"], [0.2222222222222222, \"#7201a8\"], [0.3333333333333333, \"#9c179e\"], [0.4444444444444444, \"#bd3786\"], [0.5555555555555556, \"#d8576b\"], [0.6666666666666666, \"#ed7953\"], [0.7777777777777778, \"#fb9f3a\"], [0.8888888888888888, \"#fdca26\"], [1.0, \"#f0f921\"]], \"type\": \"contour\"}], \"contourcarpet\": [{\"colorbar\": {\"outlinewidth\": 0, \"ticks\": \"\"}, \"type\": \"contourcarpet\"}], \"heatmap\": [{\"colorbar\": {\"outlinewidth\": 0, \"ticks\": \"\"}, \"colorscale\": [[0.0, \"#0d0887\"], [0.1111111111111111, \"#46039f\"], [0.2222222222222222, \"#7201a8\"], [0.3333333333333333, \"#9c179e\"], [0.4444444444444444, \"#bd3786\"], [0.5555555555555556, \"#d8576b\"], [0.6666666666666666, \"#ed7953\"], [0.7777777777777778, \"#fb9f3a\"], [0.8888888888888888, \"#fdca26\"], [1.0, \"#f0f921\"]], \"type\": \"heatmap\"}], \"heatmapgl\": [{\"colorbar\": {\"outlinewidth\": 0, \"ticks\": \"\"}, \"colorscale\": [[0.0, \"#0d0887\"], [0.1111111111111111, \"#46039f\"], [0.2222222222222222, \"#7201a8\"], [0.3333333333333333, \"#9c179e\"], [0.4444444444444444, \"#bd3786\"], [0.5555555555555556, \"#d8576b\"], [0.6666666666666666, \"#ed7953\"], [0.7777777777777778, \"#fb9f3a\"], [0.8888888888888888, \"#fdca26\"], [1.0, \"#f0f921\"]], \"type\": \"heatmapgl\"}], \"histogram\": [{\"marker\": {\"colorbar\": {\"outlinewidth\": 0, \"ticks\": \"\"}}, \"type\": \"histogram\"}], \"histogram2d\": [{\"colorbar\": {\"outlinewidth\": 0, \"ticks\": \"\"}, \"colorscale\": [[0.0, \"#0d0887\"], [0.1111111111111111, \"#46039f\"], [0.2222222222222222, \"#7201a8\"], [0.3333333333333333, \"#9c179e\"], [0.4444444444444444, \"#bd3786\"], [0.5555555555555556, \"#d8576b\"], [0.6666666666666666, \"#ed7953\"], [0.7777777777777778, \"#fb9f3a\"], [0.8888888888888888, \"#fdca26\"], [1.0, \"#f0f921\"]], \"type\": \"histogram2d\"}], \"histogram2dcontour\": [{\"colorbar\": {\"outlinewidth\": 0, \"ticks\": \"\"}, \"colorscale\": [[0.0, \"#0d0887\"], [0.1111111111111111, \"#46039f\"], [0.2222222222222222, \"#7201a8\"], [0.3333333333333333, \"#9c179e\"], [0.4444444444444444, \"#bd3786\"], [0.5555555555555556, \"#d8576b\"], [0.6666666666666666, \"#ed7953\"], [0.7777777777777778, \"#fb9f3a\"], [0.8888888888888888, \"#fdca26\"], [1.0, \"#f0f921\"]], \"type\": \"histogram2dcontour\"}], \"mesh3d\": [{\"colorbar\": {\"outlinewidth\": 0, \"ticks\": \"\"}, \"type\": \"mesh3d\"}], \"parcoords\": [{\"line\": {\"colorbar\": {\"outlinewidth\": 0, \"ticks\": \"\"}}, \"type\": \"parcoords\"}], \"pie\": [{\"automargin\": true, \"type\": \"pie\"}], \"scatter\": [{\"marker\": {\"colorbar\": {\"outlinewidth\": 0, \"ticks\": \"\"}}, \"type\": \"scatter\"}], \"scatter3d\": [{\"line\": {\"colorbar\": {\"outlinewidth\": 0, \"ticks\": \"\"}}, \"marker\": {\"colorbar\": {\"outlinewidth\": 0, \"ticks\": \"\"}}, \"type\": \"scatter3d\"}], \"scattercarpet\": [{\"marker\": {\"colorbar\": {\"outlinewidth\": 0, \"ticks\": \"\"}}, \"type\": \"scattercarpet\"}], \"scattergeo\": [{\"marker\": {\"colorbar\": {\"outlinewidth\": 0, \"ticks\": \"\"}}, \"type\": \"scattergeo\"}], \"scattergl\": [{\"marker\": {\"colorbar\": {\"outlinewidth\": 0, \"ticks\": \"\"}}, \"type\": \"scattergl\"}], \"scattermapbox\": [{\"marker\": {\"colorbar\": {\"outlinewidth\": 0, \"ticks\": \"\"}}, \"type\": \"scattermapbox\"}], \"scatterpolar\": [{\"marker\": {\"colorbar\": {\"outlinewidth\": 0, \"ticks\": \"\"}}, \"type\": \"scatterpolar\"}], \"scatterpolargl\": [{\"marker\": {\"colorbar\": {\"outlinewidth\": 0, \"ticks\": \"\"}}, \"type\": \"scatterpolargl\"}], \"scatterternary\": [{\"marker\": {\"colorbar\": {\"outlinewidth\": 0, \"ticks\": \"\"}}, \"type\": \"scatterternary\"}], \"surface\": [{\"colorbar\": {\"outlinewidth\": 0, \"ticks\": \"\"}, \"colorscale\": [[0.0, \"#0d0887\"], [0.1111111111111111, \"#46039f\"], [0.2222222222222222, \"#7201a8\"], [0.3333333333333333, \"#9c179e\"], [0.4444444444444444, \"#bd3786\"], [0.5555555555555556, \"#d8576b\"], [0.6666666666666666, \"#ed7953\"], [0.7777777777777778, \"#fb9f3a\"], [0.8888888888888888, \"#fdca26\"], [1.0, \"#f0f921\"]], \"type\": \"surface\"}], \"table\": [{\"cells\": {\"fill\": {\"color\": \"#EBF0F8\"}, \"line\": {\"color\": \"white\"}}, \"header\": {\"fill\": {\"color\": \"#C8D4E3\"}, \"line\": {\"color\": \"white\"}}, \"type\": \"table\"}]}, \"layout\": {\"annotationdefaults\": {\"arrowcolor\": \"#2a3f5f\", \"arrowhead\": 0, \"arrowwidth\": 1}, \"coloraxis\": {\"colorbar\": {\"outlinewidth\": 0, \"ticks\": \"\"}}, \"colorscale\": {\"diverging\": [[0, \"#8e0152\"], [0.1, \"#c51b7d\"], [0.2, \"#de77ae\"], [0.3, \"#f1b6da\"], [0.4, \"#fde0ef\"], [0.5, \"#f7f7f7\"], [0.6, \"#e6f5d0\"], [0.7, \"#b8e186\"], [0.8, \"#7fbc41\"], [0.9, \"#4d9221\"], [1, \"#276419\"]], \"sequential\": [[0.0, \"#0d0887\"], [0.1111111111111111, \"#46039f\"], [0.2222222222222222, \"#7201a8\"], [0.3333333333333333, \"#9c179e\"], [0.4444444444444444, \"#bd3786\"], [0.5555555555555556, \"#d8576b\"], [0.6666666666666666, \"#ed7953\"], [0.7777777777777778, \"#fb9f3a\"], [0.8888888888888888, \"#fdca26\"], [1.0, \"#f0f921\"]], \"sequentialminus\": [[0.0, \"#0d0887\"], [0.1111111111111111, \"#46039f\"], [0.2222222222222222, \"#7201a8\"], [0.3333333333333333, \"#9c179e\"], [0.4444444444444444, \"#bd3786\"], [0.5555555555555556, \"#d8576b\"], [0.6666666666666666, \"#ed7953\"], [0.7777777777777778, \"#fb9f3a\"], [0.8888888888888888, \"#fdca26\"], [1.0, \"#f0f921\"]]}, \"colorway\": [\"#636efa\", \"#EF553B\", \"#00cc96\", \"#ab63fa\", \"#FFA15A\", \"#19d3f3\", \"#FF6692\", \"#B6E880\", \"#FF97FF\", \"#FECB52\"], \"font\": {\"color\": \"#2a3f5f\"}, \"geo\": {\"bgcolor\": \"white\", \"lakecolor\": \"white\", \"landcolor\": \"#E5ECF6\", \"showlakes\": true, \"showland\": true, \"subunitcolor\": \"white\"}, \"hoverlabel\": {\"align\": \"left\"}, \"hovermode\": \"closest\", \"mapbox\": {\"style\": \"light\"}, \"paper_bgcolor\": \"white\", \"plot_bgcolor\": \"#E5ECF6\", \"polar\": {\"angularaxis\": {\"gridcolor\": \"white\", \"linecolor\": \"white\", \"ticks\": \"\"}, \"bgcolor\": \"#E5ECF6\", \"radialaxis\": {\"gridcolor\": \"white\", \"linecolor\": \"white\", \"ticks\": \"\"}}, \"scene\": {\"xaxis\": {\"backgroundcolor\": \"#E5ECF6\", \"gridcolor\": \"white\", \"gridwidth\": 2, \"linecolor\": \"white\", \"showbackground\": true, \"ticks\": \"\", \"zerolinecolor\": \"white\"}, \"yaxis\": {\"backgroundcolor\": \"#E5ECF6\", \"gridcolor\": \"white\", \"gridwidth\": 2, \"linecolor\": \"white\", \"showbackground\": true, \"ticks\": \"\", \"zerolinecolor\": \"white\"}, \"zaxis\": {\"backgroundcolor\": \"#E5ECF6\", \"gridcolor\": \"white\", \"gridwidth\": 2, \"linecolor\": \"white\", \"showbackground\": true, \"ticks\": \"\", \"zerolinecolor\": \"white\"}}, \"shapedefaults\": {\"line\": {\"color\": \"#2a3f5f\"}}, \"ternary\": {\"aaxis\": {\"gridcolor\": \"white\", \"linecolor\": \"white\", \"ticks\": \"\"}, \"baxis\": {\"gridcolor\": \"white\", \"linecolor\": \"white\", \"ticks\": \"\"}, \"bgcolor\": \"#E5ECF6\", \"caxis\": {\"gridcolor\": \"white\", \"linecolor\": \"white\", \"ticks\": \"\"}}, \"title\": {\"x\": 0.05}, \"xaxis\": {\"automargin\": true, \"gridcolor\": \"white\", \"linecolor\": \"white\", \"ticks\": \"\", \"title\": {\"standoff\": 15}, \"zerolinecolor\": \"white\", \"zerolinewidth\": 2}, \"yaxis\": {\"automargin\": true, \"gridcolor\": \"white\", \"linecolor\": \"white\", \"ticks\": \"\", \"title\": {\"standoff\": 15}, \"zerolinecolor\": \"white\", \"zerolinewidth\": 2}}}, \"width\": 600, \"xaxis\": {\"anchor\": \"y\", \"domain\": [0.0, 1.0], \"title\": {\"text\": \"pc1\"}}, \"yaxis\": {\"anchor\": \"x\", \"domain\": [0.0, 1.0], \"title\": {\"text\": \"pc2\"}}},\n",
       "                        {\"responsive\": true}\n",
       "                    ).then(function(){\n",
       "                            \n",
       "var gd = document.getElementById('f9c7ba1c-014f-4f06-8c0f-90adfd7f901d');\n",
       "var x = new MutationObserver(function (mutations, observer) {{\n",
       "        var display = window.getComputedStyle(gd).display;\n",
       "        if (!display || display === 'none') {{\n",
       "            console.log([gd, 'removed!']);\n",
       "            Plotly.purge(gd);\n",
       "            observer.disconnect();\n",
       "        }}\n",
       "}});\n",
       "\n",
       "// Listen for the removal of the full notebook cells\n",
       "var notebookContainer = gd.closest('#notebook-container');\n",
       "if (notebookContainer) {{\n",
       "    x.observe(notebookContainer, {childList: true});\n",
       "}}\n",
       "\n",
       "// Listen for the clearing of the current output cell\n",
       "var outputEl = gd.closest('.output');\n",
       "if (outputEl) {{\n",
       "    x.observe(outputEl, {childList: true});\n",
       "}}\n",
       "\n",
       "                        })\n",
       "                };\n",
       "                });\n",
       "            </script>\n",
       "        </div>"
      ]
     },
     "metadata": {},
     "output_type": "display_data"
    }
   ],
   "source": [
    "from sklearn.decomposition import PCA, KernelPCA\n",
    "from sklearn.preprocessing import StandardScaler\n",
    "import plotly.express as px\n",
    "\n",
    "X = StandardScaler().fit_transform(docs_vec)\n",
    "pca = PCA(n_components=5)\n",
    "docs_pca = pca.fit_transform(X)\n",
    "proj = pd.DataFrame(docs_pca,columns = ['pc1','pc2','pc3','pc4','pc5'])\n",
    "\n",
    "proj_docs = pd.DataFrame({'pc1': proj['pc1'], 'pc2': proj['pc2'], 'pc3': proj['pc3'], 'topico': t_data['categoria'],\n",
    "                       'sentimiento':t_data['sentimiento']})\n",
    "\n",
    "fig = px.scatter(proj_docs, x='pc1', y='pc2', hover_data=['sentimiento'], color = 'topico')\n",
    "fig.update_layout(\n",
    "    autosize=False,\n",
    "    width=600,\n",
    "    height=600,\n",
    ")\n",
    "fig.show()"
   ]
  },
  {
   "cell_type": "code",
   "execution_count": 133,
   "metadata": {},
   "outputs": [
    {
     "name": "stdout",
     "output_type": "stream",
     "text": [
      "              precision    recall  f1-score   support\n",
      "\n",
      "           0       0.57      0.81      0.67        36\n",
      "           1       0.76      0.50      0.60        44\n",
      "\n",
      "    accuracy                           0.64        80\n",
      "   macro avg       0.66      0.65      0.63        80\n",
      "weighted avg       0.67      0.64      0.63        80\n",
      "\n"
     ]
    }
   ],
   "source": [
    "from sklearn.model_selection import train_test_split\n",
    "from sklearn.svm import SVC # Support vector classifier\n",
    "from sklearn import metrics\n",
    "\n",
    "X_train, X_test, y_train, y_test = train_test_split(docs_vec, y2, test_size=0.2, random_state=42)\n",
    "\n",
    "svm = SVC(kernel='linear')\n",
    "svm.fit(X_train, y_train)\n",
    "y_pred = svm.predict(X_test)\n",
    "print(metrics.classification_report(y_test, y_pred))"
   ]
  },
  {
   "cell_type": "code",
   "execution_count": 134,
   "metadata": {},
   "outputs": [
    {
     "name": "stdout",
     "output_type": "stream",
     "text": [
      "              precision    recall  f1-score   support\n",
      "\n",
      "           0       0.65      0.78      0.71        36\n",
      "           1       0.78      0.66      0.72        44\n",
      "\n",
      "    accuracy                           0.71        80\n",
      "   macro avg       0.72      0.72      0.71        80\n",
      "weighted avg       0.72      0.71      0.71        80\n",
      "\n"
     ]
    }
   ],
   "source": [
    "from sklearn.linear_model import LogisticRegression\n",
    "\n",
    "clf = LogisticRegression(penalty='l2', C=15)\n",
    "clf.fit(X_train, y_train)\n",
    "y_pred = clf.predict(X_test)\n",
    "y_pred\n",
    "print(metrics.classification_report(y_test, y_pred))"
   ]
  },
  {
   "cell_type": "code",
   "execution_count": 135,
   "metadata": {
    "scrolled": false
   },
   "outputs": [
    {
     "name": "stdout",
     "output_type": "stream",
     "text": [
      "              precision    recall  f1-score   support\n",
      "\n",
      "           0       1.00      0.92      0.96        13\n",
      "           1       1.00      1.00      1.00        13\n",
      "           2       1.00      1.00      1.00        11\n",
      "           3       0.88      1.00      0.93         7\n",
      "           4       0.89      1.00      0.94         8\n",
      "           5       1.00      1.00      1.00        10\n",
      "           6       1.00      1.00      1.00         5\n",
      "           7       1.00      0.92      0.96        13\n",
      "\n",
      "    accuracy                           0.97        80\n",
      "   macro avg       0.97      0.98      0.97        80\n",
      "weighted avg       0.98      0.97      0.98        80\n",
      "\n"
     ]
    },
    {
     "data": {
      "image/png": "[encoded data removed]",
      "text/plain": [
       "<Figure size 576x432 with 2 Axes>"
      ]
     },
     "metadata": {},
     "output_type": "display_data"
    }
   ],
   "source": [
    "X_train, X_test, y_train, y_test = train_test_split(docs_vec, y1, test_size=0.2, random_state=42)\n",
    "\n",
    "svm = SVC(kernel='linear')\n",
    "svm.fit(X_train, y_train)\n",
    "y_pred = svm.predict(X_test)\n",
    "print(metrics.classification_report(y_test, y_pred))\n",
    "\n",
    "plt.rcParams['figure.figsize'] = (8, 6)\n",
    "disp1 = metrics.plot_confusion_matrix(svm, X_test, y_test, cmap=plt.cm.Blues, normalize = None)\n",
    "disp1.ax_.set_title('Matriz de confusion. Sin normalizar',{'fontsize':15})\n",
    "plt.show()"
   ]
  },
  {
   "cell_type": "code",
   "execution_count": 136,
   "metadata": {
    "scrolled": false
   },
   "outputs": [
    {
     "name": "stdout",
     "output_type": "stream",
     "text": [
      "              precision    recall  f1-score   support\n",
      "\n",
      "           0       1.00      0.92      0.96        13\n",
      "           1       1.00      1.00      1.00        13\n",
      "           2       1.00      1.00      1.00        11\n",
      "           3       0.88      1.00      0.93         7\n",
      "           4       0.89      1.00      0.94         8\n",
      "           5       1.00      1.00      1.00        10\n",
      "           6       1.00      1.00      1.00         5\n",
      "           7       1.00      0.92      0.96        13\n",
      "\n",
      "    accuracy                           0.97        80\n",
      "   macro avg       0.97      0.98      0.97        80\n",
      "weighted avg       0.98      0.97      0.98        80\n",
      "\n"
     ]
    },
    {
     "data": {
      "image/png": "[encoded data removed]",
      "text/plain": [
       "<Figure size 576x432 with 2 Axes>"
      ]
     },
     "metadata": {},
     "output_type": "display_data"
    }
   ],
   "source": [
    "from sklearn.linear_model import LogisticRegression\n",
    "\n",
    "clf = LogisticRegression(penalty='l2', C=15, multi_class='ovr')\n",
    "clf.fit(X_train, y_train)\n",
    "y_pred = clf.predict(X_test)\n",
    "y_pred\n",
    "print(metrics.classification_report(y_test, y_pred))\n",
    "\n",
    "plt.rcParams['figure.figsize'] = (8, 6)\n",
    "disp1 = metrics.plot_confusion_matrix(clf, X_test, y_test, cmap=plt.cm.Blues, normalize = None)\n",
    "disp1.ax_.set_title('Matriz de confusion. Sin normalizar',{'fontsize':15})\n",
    "plt.show()"
   ]
  },
  {
   "cell_type": "code",
   "execution_count": null,
   "metadata": {},
   "outputs": [],
   "source": []
  }
 ],
 "metadata": {
  "kernelspec": {
   "display_name": "Python 3",
   "language": "python",
   "name": "python3"
  },
  "language_info": {
   "codemirror_mode": {
    "name": "ipython",
    "version": 3
   },
   "file_extension": ".py",
   "mimetype": "text/x-python",
   "name": "python",
   "nbconvert_exporter": "python",
   "pygments_lexer": "ipython3",
   "version": "3.8.5"
  },
  "latex_envs": {
   "LaTeX_envs_menu_present": true,
   "autoclose": false,
   "autocomplete": true,
   "bibliofile": "biblio.bib",
   "cite_by": "apalike",
   "current_citInitial": 1,
   "eqLabelWithNumbers": true,
   "eqNumInitial": 1,
   "hotkeys": {
    "equation": "Ctrl-E",
    "itemize": "Ctrl-I"
   },
   "labels_anchors": false,
   "latex_user_defs": false,
   "report_style_numbering": false,
   "user_envs_cfg": false
  },
  "toc": {
   "base_numbering": 1,
   "nav_menu": {},
   "number_sections": false,
   "sideBar": true,
   "skip_h1_title": false,
   "title_cell": "Table of Contents",
   "title_sidebar": "Contents",
   "toc_cell": false,
   "toc_position": {},
   "toc_section_display": true,
   "toc_window_display": false
  }
 },
 "nbformat": 4,
 "nbformat_minor": 2
}
